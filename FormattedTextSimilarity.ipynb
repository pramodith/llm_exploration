{
  "nbformat": 4,
  "nbformat_minor": 0,
  "metadata": {
    "colab": {
      "provenance": [],
      "gpuType": "T4",
      "authorship_tag": "ABX9TyMgOEm7GbtUDDIC1GXHh+3L",
      "include_colab_link": true
    },
    "kernelspec": {
      "name": "python3",
      "display_name": "Python 3"
    },
    "language_info": {
      "name": "python"
    },
    "accelerator": "GPU",
    "widgets": {
      "application/vnd.jupyter.widget-state+json": {
        "723d81f41f2d4d35b19096ab3dec3ebf": {
          "model_module": "@jupyter-widgets/controls",
          "model_name": "HBoxModel",
          "model_module_version": "1.5.0",
          "state": {
            "_dom_classes": [],
            "_model_module": "@jupyter-widgets/controls",
            "_model_module_version": "1.5.0",
            "_model_name": "HBoxModel",
            "_view_count": null,
            "_view_module": "@jupyter-widgets/controls",
            "_view_module_version": "1.5.0",
            "_view_name": "HBoxView",
            "box_style": "",
            "children": [
              "IPY_MODEL_5f0efe259587479c8baa6d56f5c01380",
              "IPY_MODEL_6629805f82cd48279365cdd6f8cfbfeb",
              "IPY_MODEL_ec4c5c4f738948509e3fbaabf61dd22a"
            ],
            "layout": "IPY_MODEL_729eeb1101924a96a3a2aad86d90805e"
          }
        },
        "5f0efe259587479c8baa6d56f5c01380": {
          "model_module": "@jupyter-widgets/controls",
          "model_name": "HTMLModel",
          "model_module_version": "1.5.0",
          "state": {
            "_dom_classes": [],
            "_model_module": "@jupyter-widgets/controls",
            "_model_module_version": "1.5.0",
            "_model_name": "HTMLModel",
            "_view_count": null,
            "_view_module": "@jupyter-widgets/controls",
            "_view_module_version": "1.5.0",
            "_view_name": "HTMLView",
            "description": "",
            "description_tooltip": null,
            "layout": "IPY_MODEL_c0ef1b54f451445a857f6f8117307e25",
            "placeholder": "​",
            "style": "IPY_MODEL_a88b9e25a5f44a50a883bbf090845fbf",
            "value": "Downloading readme: 100%"
          }
        },
        "6629805f82cd48279365cdd6f8cfbfeb": {
          "model_module": "@jupyter-widgets/controls",
          "model_name": "FloatProgressModel",
          "model_module_version": "1.5.0",
          "state": {
            "_dom_classes": [],
            "_model_module": "@jupyter-widgets/controls",
            "_model_module_version": "1.5.0",
            "_model_name": "FloatProgressModel",
            "_view_count": null,
            "_view_module": "@jupyter-widgets/controls",
            "_view_module_version": "1.5.0",
            "_view_name": "ProgressView",
            "bar_style": "success",
            "description": "",
            "description_tooltip": null,
            "layout": "IPY_MODEL_c74c5eeb3e65474ea30f5e7ad6e4246e",
            "max": 5149,
            "min": 0,
            "orientation": "horizontal",
            "style": "IPY_MODEL_b52bc94562b74115a100d0d7536a6b77",
            "value": 5149
          }
        },
        "ec4c5c4f738948509e3fbaabf61dd22a": {
          "model_module": "@jupyter-widgets/controls",
          "model_name": "HTMLModel",
          "model_module_version": "1.5.0",
          "state": {
            "_dom_classes": [],
            "_model_module": "@jupyter-widgets/controls",
            "_model_module_version": "1.5.0",
            "_model_name": "HTMLModel",
            "_view_count": null,
            "_view_module": "@jupyter-widgets/controls",
            "_view_module_version": "1.5.0",
            "_view_name": "HTMLView",
            "description": "",
            "description_tooltip": null,
            "layout": "IPY_MODEL_8b09dbb25e0f486a8cf60e571270de49",
            "placeholder": "​",
            "style": "IPY_MODEL_a506fa7f37094c7889ab05fb1fcdba4d",
            "value": " 5.15k/5.15k [00:00&lt;00:00, 139kB/s]"
          }
        },
        "729eeb1101924a96a3a2aad86d90805e": {
          "model_module": "@jupyter-widgets/base",
          "model_name": "LayoutModel",
          "model_module_version": "1.2.0",
          "state": {
            "_model_module": "@jupyter-widgets/base",
            "_model_module_version": "1.2.0",
            "_model_name": "LayoutModel",
            "_view_count": null,
            "_view_module": "@jupyter-widgets/base",
            "_view_module_version": "1.2.0",
            "_view_name": "LayoutView",
            "align_content": null,
            "align_items": null,
            "align_self": null,
            "border": null,
            "bottom": null,
            "display": null,
            "flex": null,
            "flex_flow": null,
            "grid_area": null,
            "grid_auto_columns": null,
            "grid_auto_flow": null,
            "grid_auto_rows": null,
            "grid_column": null,
            "grid_gap": null,
            "grid_row": null,
            "grid_template_areas": null,
            "grid_template_columns": null,
            "grid_template_rows": null,
            "height": null,
            "justify_content": null,
            "justify_items": null,
            "left": null,
            "margin": null,
            "max_height": null,
            "max_width": null,
            "min_height": null,
            "min_width": null,
            "object_fit": null,
            "object_position": null,
            "order": null,
            "overflow": null,
            "overflow_x": null,
            "overflow_y": null,
            "padding": null,
            "right": null,
            "top": null,
            "visibility": null,
            "width": null
          }
        },
        "c0ef1b54f451445a857f6f8117307e25": {
          "model_module": "@jupyter-widgets/base",
          "model_name": "LayoutModel",
          "model_module_version": "1.2.0",
          "state": {
            "_model_module": "@jupyter-widgets/base",
            "_model_module_version": "1.2.0",
            "_model_name": "LayoutModel",
            "_view_count": null,
            "_view_module": "@jupyter-widgets/base",
            "_view_module_version": "1.2.0",
            "_view_name": "LayoutView",
            "align_content": null,
            "align_items": null,
            "align_self": null,
            "border": null,
            "bottom": null,
            "display": null,
            "flex": null,
            "flex_flow": null,
            "grid_area": null,
            "grid_auto_columns": null,
            "grid_auto_flow": null,
            "grid_auto_rows": null,
            "grid_column": null,
            "grid_gap": null,
            "grid_row": null,
            "grid_template_areas": null,
            "grid_template_columns": null,
            "grid_template_rows": null,
            "height": null,
            "justify_content": null,
            "justify_items": null,
            "left": null,
            "margin": null,
            "max_height": null,
            "max_width": null,
            "min_height": null,
            "min_width": null,
            "object_fit": null,
            "object_position": null,
            "order": null,
            "overflow": null,
            "overflow_x": null,
            "overflow_y": null,
            "padding": null,
            "right": null,
            "top": null,
            "visibility": null,
            "width": null
          }
        },
        "a88b9e25a5f44a50a883bbf090845fbf": {
          "model_module": "@jupyter-widgets/controls",
          "model_name": "DescriptionStyleModel",
          "model_module_version": "1.5.0",
          "state": {
            "_model_module": "@jupyter-widgets/controls",
            "_model_module_version": "1.5.0",
            "_model_name": "DescriptionStyleModel",
            "_view_count": null,
            "_view_module": "@jupyter-widgets/base",
            "_view_module_version": "1.2.0",
            "_view_name": "StyleView",
            "description_width": ""
          }
        },
        "c74c5eeb3e65474ea30f5e7ad6e4246e": {
          "model_module": "@jupyter-widgets/base",
          "model_name": "LayoutModel",
          "model_module_version": "1.2.0",
          "state": {
            "_model_module": "@jupyter-widgets/base",
            "_model_module_version": "1.2.0",
            "_model_name": "LayoutModel",
            "_view_count": null,
            "_view_module": "@jupyter-widgets/base",
            "_view_module_version": "1.2.0",
            "_view_name": "LayoutView",
            "align_content": null,
            "align_items": null,
            "align_self": null,
            "border": null,
            "bottom": null,
            "display": null,
            "flex": null,
            "flex_flow": null,
            "grid_area": null,
            "grid_auto_columns": null,
            "grid_auto_flow": null,
            "grid_auto_rows": null,
            "grid_column": null,
            "grid_gap": null,
            "grid_row": null,
            "grid_template_areas": null,
            "grid_template_columns": null,
            "grid_template_rows": null,
            "height": null,
            "justify_content": null,
            "justify_items": null,
            "left": null,
            "margin": null,
            "max_height": null,
            "max_width": null,
            "min_height": null,
            "min_width": null,
            "object_fit": null,
            "object_position": null,
            "order": null,
            "overflow": null,
            "overflow_x": null,
            "overflow_y": null,
            "padding": null,
            "right": null,
            "top": null,
            "visibility": null,
            "width": null
          }
        },
        "b52bc94562b74115a100d0d7536a6b77": {
          "model_module": "@jupyter-widgets/controls",
          "model_name": "ProgressStyleModel",
          "model_module_version": "1.5.0",
          "state": {
            "_model_module": "@jupyter-widgets/controls",
            "_model_module_version": "1.5.0",
            "_model_name": "ProgressStyleModel",
            "_view_count": null,
            "_view_module": "@jupyter-widgets/base",
            "_view_module_version": "1.2.0",
            "_view_name": "StyleView",
            "bar_color": null,
            "description_width": ""
          }
        },
        "8b09dbb25e0f486a8cf60e571270de49": {
          "model_module": "@jupyter-widgets/base",
          "model_name": "LayoutModel",
          "model_module_version": "1.2.0",
          "state": {
            "_model_module": "@jupyter-widgets/base",
            "_model_module_version": "1.2.0",
            "_model_name": "LayoutModel",
            "_view_count": null,
            "_view_module": "@jupyter-widgets/base",
            "_view_module_version": "1.2.0",
            "_view_name": "LayoutView",
            "align_content": null,
            "align_items": null,
            "align_self": null,
            "border": null,
            "bottom": null,
            "display": null,
            "flex": null,
            "flex_flow": null,
            "grid_area": null,
            "grid_auto_columns": null,
            "grid_auto_flow": null,
            "grid_auto_rows": null,
            "grid_column": null,
            "grid_gap": null,
            "grid_row": null,
            "grid_template_areas": null,
            "grid_template_columns": null,
            "grid_template_rows": null,
            "height": null,
            "justify_content": null,
            "justify_items": null,
            "left": null,
            "margin": null,
            "max_height": null,
            "max_width": null,
            "min_height": null,
            "min_width": null,
            "object_fit": null,
            "object_position": null,
            "order": null,
            "overflow": null,
            "overflow_x": null,
            "overflow_y": null,
            "padding": null,
            "right": null,
            "top": null,
            "visibility": null,
            "width": null
          }
        },
        "a506fa7f37094c7889ab05fb1fcdba4d": {
          "model_module": "@jupyter-widgets/controls",
          "model_name": "DescriptionStyleModel",
          "model_module_version": "1.5.0",
          "state": {
            "_model_module": "@jupyter-widgets/controls",
            "_model_module_version": "1.5.0",
            "_model_name": "DescriptionStyleModel",
            "_view_count": null,
            "_view_module": "@jupyter-widgets/base",
            "_view_module_version": "1.2.0",
            "_view_name": "StyleView",
            "description_width": ""
          }
        },
        "65fde3afdea3415f8ecfe8d6a6326974": {
          "model_module": "@jupyter-widgets/controls",
          "model_name": "HBoxModel",
          "model_module_version": "1.5.0",
          "state": {
            "_dom_classes": [],
            "_model_module": "@jupyter-widgets/controls",
            "_model_module_version": "1.5.0",
            "_model_name": "HBoxModel",
            "_view_count": null,
            "_view_module": "@jupyter-widgets/controls",
            "_view_module_version": "1.5.0",
            "_view_name": "HBoxView",
            "box_style": "",
            "children": [
              "IPY_MODEL_5444ec11b3e247f7ae954b01d5f475cf",
              "IPY_MODEL_845c9c9276954bdab18bdbc4d24bb3e3",
              "IPY_MODEL_eaa0410f838a4e28a4c7defb67a4b4dc"
            ],
            "layout": "IPY_MODEL_505bcf1e284b4daa8cb511aba880e6d2"
          }
        },
        "5444ec11b3e247f7ae954b01d5f475cf": {
          "model_module": "@jupyter-widgets/controls",
          "model_name": "HTMLModel",
          "model_module_version": "1.5.0",
          "state": {
            "_dom_classes": [],
            "_model_module": "@jupyter-widgets/controls",
            "_model_module_version": "1.5.0",
            "_model_name": "HTMLModel",
            "_view_count": null,
            "_view_module": "@jupyter-widgets/controls",
            "_view_module_version": "1.5.0",
            "_view_name": "HTMLView",
            "description": "",
            "description_tooltip": null,
            "layout": "IPY_MODEL_0908498ea0394f398018cf070e84468e",
            "placeholder": "​",
            "style": "IPY_MODEL_135ae18399634d77b975b7c1d7d338e6",
            "value": "Downloading data: 100%"
          }
        },
        "845c9c9276954bdab18bdbc4d24bb3e3": {
          "model_module": "@jupyter-widgets/controls",
          "model_name": "FloatProgressModel",
          "model_module_version": "1.5.0",
          "state": {
            "_dom_classes": [],
            "_model_module": "@jupyter-widgets/controls",
            "_model_module_version": "1.5.0",
            "_model_name": "FloatProgressModel",
            "_view_count": null,
            "_view_module": "@jupyter-widgets/controls",
            "_view_module_version": "1.5.0",
            "_view_name": "ProgressView",
            "bar_style": "success",
            "description": "",
            "description_tooltip": null,
            "layout": "IPY_MODEL_116be4b9c98447289f046f6c61f7e830",
            "max": 26190430,
            "min": 0,
            "orientation": "horizontal",
            "style": "IPY_MODEL_4f7dfea9642049b8acdf79c045459598",
            "value": 26190430
          }
        },
        "eaa0410f838a4e28a4c7defb67a4b4dc": {
          "model_module": "@jupyter-widgets/controls",
          "model_name": "HTMLModel",
          "model_module_version": "1.5.0",
          "state": {
            "_dom_classes": [],
            "_model_module": "@jupyter-widgets/controls",
            "_model_module_version": "1.5.0",
            "_model_name": "HTMLModel",
            "_view_count": null,
            "_view_module": "@jupyter-widgets/controls",
            "_view_module_version": "1.5.0",
            "_view_name": "HTMLView",
            "description": "",
            "description_tooltip": null,
            "layout": "IPY_MODEL_de7286bcd9a34202af64dce1bd77aa92",
            "placeholder": "​",
            "style": "IPY_MODEL_6c2bfcf13306473e8dbc2b94b282d650",
            "value": " 26.2M/26.2M [00:00&lt;00:00, 25.9MB/s]"
          }
        },
        "505bcf1e284b4daa8cb511aba880e6d2": {
          "model_module": "@jupyter-widgets/base",
          "model_name": "LayoutModel",
          "model_module_version": "1.2.0",
          "state": {
            "_model_module": "@jupyter-widgets/base",
            "_model_module_version": "1.2.0",
            "_model_name": "LayoutModel",
            "_view_count": null,
            "_view_module": "@jupyter-widgets/base",
            "_view_module_version": "1.2.0",
            "_view_name": "LayoutView",
            "align_content": null,
            "align_items": null,
            "align_self": null,
            "border": null,
            "bottom": null,
            "display": null,
            "flex": null,
            "flex_flow": null,
            "grid_area": null,
            "grid_auto_columns": null,
            "grid_auto_flow": null,
            "grid_auto_rows": null,
            "grid_column": null,
            "grid_gap": null,
            "grid_row": null,
            "grid_template_areas": null,
            "grid_template_columns": null,
            "grid_template_rows": null,
            "height": null,
            "justify_content": null,
            "justify_items": null,
            "left": null,
            "margin": null,
            "max_height": null,
            "max_width": null,
            "min_height": null,
            "min_width": null,
            "object_fit": null,
            "object_position": null,
            "order": null,
            "overflow": null,
            "overflow_x": null,
            "overflow_y": null,
            "padding": null,
            "right": null,
            "top": null,
            "visibility": null,
            "width": null
          }
        },
        "0908498ea0394f398018cf070e84468e": {
          "model_module": "@jupyter-widgets/base",
          "model_name": "LayoutModel",
          "model_module_version": "1.2.0",
          "state": {
            "_model_module": "@jupyter-widgets/base",
            "_model_module_version": "1.2.0",
            "_model_name": "LayoutModel",
            "_view_count": null,
            "_view_module": "@jupyter-widgets/base",
            "_view_module_version": "1.2.0",
            "_view_name": "LayoutView",
            "align_content": null,
            "align_items": null,
            "align_self": null,
            "border": null,
            "bottom": null,
            "display": null,
            "flex": null,
            "flex_flow": null,
            "grid_area": null,
            "grid_auto_columns": null,
            "grid_auto_flow": null,
            "grid_auto_rows": null,
            "grid_column": null,
            "grid_gap": null,
            "grid_row": null,
            "grid_template_areas": null,
            "grid_template_columns": null,
            "grid_template_rows": null,
            "height": null,
            "justify_content": null,
            "justify_items": null,
            "left": null,
            "margin": null,
            "max_height": null,
            "max_width": null,
            "min_height": null,
            "min_width": null,
            "object_fit": null,
            "object_position": null,
            "order": null,
            "overflow": null,
            "overflow_x": null,
            "overflow_y": null,
            "padding": null,
            "right": null,
            "top": null,
            "visibility": null,
            "width": null
          }
        },
        "135ae18399634d77b975b7c1d7d338e6": {
          "model_module": "@jupyter-widgets/controls",
          "model_name": "DescriptionStyleModel",
          "model_module_version": "1.5.0",
          "state": {
            "_model_module": "@jupyter-widgets/controls",
            "_model_module_version": "1.5.0",
            "_model_name": "DescriptionStyleModel",
            "_view_count": null,
            "_view_module": "@jupyter-widgets/base",
            "_view_module_version": "1.2.0",
            "_view_name": "StyleView",
            "description_width": ""
          }
        },
        "116be4b9c98447289f046f6c61f7e830": {
          "model_module": "@jupyter-widgets/base",
          "model_name": "LayoutModel",
          "model_module_version": "1.2.0",
          "state": {
            "_model_module": "@jupyter-widgets/base",
            "_model_module_version": "1.2.0",
            "_model_name": "LayoutModel",
            "_view_count": null,
            "_view_module": "@jupyter-widgets/base",
            "_view_module_version": "1.2.0",
            "_view_name": "LayoutView",
            "align_content": null,
            "align_items": null,
            "align_self": null,
            "border": null,
            "bottom": null,
            "display": null,
            "flex": null,
            "flex_flow": null,
            "grid_area": null,
            "grid_auto_columns": null,
            "grid_auto_flow": null,
            "grid_auto_rows": null,
            "grid_column": null,
            "grid_gap": null,
            "grid_row": null,
            "grid_template_areas": null,
            "grid_template_columns": null,
            "grid_template_rows": null,
            "height": null,
            "justify_content": null,
            "justify_items": null,
            "left": null,
            "margin": null,
            "max_height": null,
            "max_width": null,
            "min_height": null,
            "min_width": null,
            "object_fit": null,
            "object_position": null,
            "order": null,
            "overflow": null,
            "overflow_x": null,
            "overflow_y": null,
            "padding": null,
            "right": null,
            "top": null,
            "visibility": null,
            "width": null
          }
        },
        "4f7dfea9642049b8acdf79c045459598": {
          "model_module": "@jupyter-widgets/controls",
          "model_name": "ProgressStyleModel",
          "model_module_version": "1.5.0",
          "state": {
            "_model_module": "@jupyter-widgets/controls",
            "_model_module_version": "1.5.0",
            "_model_name": "ProgressStyleModel",
            "_view_count": null,
            "_view_module": "@jupyter-widgets/base",
            "_view_module_version": "1.2.0",
            "_view_name": "StyleView",
            "bar_color": null,
            "description_width": ""
          }
        },
        "de7286bcd9a34202af64dce1bd77aa92": {
          "model_module": "@jupyter-widgets/base",
          "model_name": "LayoutModel",
          "model_module_version": "1.2.0",
          "state": {
            "_model_module": "@jupyter-widgets/base",
            "_model_module_version": "1.2.0",
            "_model_name": "LayoutModel",
            "_view_count": null,
            "_view_module": "@jupyter-widgets/base",
            "_view_module_version": "1.2.0",
            "_view_name": "LayoutView",
            "align_content": null,
            "align_items": null,
            "align_self": null,
            "border": null,
            "bottom": null,
            "display": null,
            "flex": null,
            "flex_flow": null,
            "grid_area": null,
            "grid_auto_columns": null,
            "grid_auto_flow": null,
            "grid_auto_rows": null,
            "grid_column": null,
            "grid_gap": null,
            "grid_row": null,
            "grid_template_areas": null,
            "grid_template_columns": null,
            "grid_template_rows": null,
            "height": null,
            "justify_content": null,
            "justify_items": null,
            "left": null,
            "margin": null,
            "max_height": null,
            "max_width": null,
            "min_height": null,
            "min_width": null,
            "object_fit": null,
            "object_position": null,
            "order": null,
            "overflow": null,
            "overflow_x": null,
            "overflow_y": null,
            "padding": null,
            "right": null,
            "top": null,
            "visibility": null,
            "width": null
          }
        },
        "6c2bfcf13306473e8dbc2b94b282d650": {
          "model_module": "@jupyter-widgets/controls",
          "model_name": "DescriptionStyleModel",
          "model_module_version": "1.5.0",
          "state": {
            "_model_module": "@jupyter-widgets/controls",
            "_model_module_version": "1.5.0",
            "_model_name": "DescriptionStyleModel",
            "_view_count": null,
            "_view_module": "@jupyter-widgets/base",
            "_view_module_version": "1.2.0",
            "_view_name": "StyleView",
            "description_width": ""
          }
        },
        "7e991ad214cc4209b08b9a85fe5d5fd8": {
          "model_module": "@jupyter-widgets/controls",
          "model_name": "HBoxModel",
          "model_module_version": "1.5.0",
          "state": {
            "_dom_classes": [],
            "_model_module": "@jupyter-widgets/controls",
            "_model_module_version": "1.5.0",
            "_model_name": "HBoxModel",
            "_view_count": null,
            "_view_module": "@jupyter-widgets/controls",
            "_view_module_version": "1.5.0",
            "_view_name": "HBoxView",
            "box_style": "",
            "children": [
              "IPY_MODEL_d53aa160862b48a2ab4aabe26a854600",
              "IPY_MODEL_be788297dc6843098d5ec0308b4e2b14",
              "IPY_MODEL_fd0a4042cd494d4595857634ec578406"
            ],
            "layout": "IPY_MODEL_45da9e15359e458cb95dfbeea8c28937"
          }
        },
        "d53aa160862b48a2ab4aabe26a854600": {
          "model_module": "@jupyter-widgets/controls",
          "model_name": "HTMLModel",
          "model_module_version": "1.5.0",
          "state": {
            "_dom_classes": [],
            "_model_module": "@jupyter-widgets/controls",
            "_model_module_version": "1.5.0",
            "_model_name": "HTMLModel",
            "_view_count": null,
            "_view_module": "@jupyter-widgets/controls",
            "_view_module_version": "1.5.0",
            "_view_name": "HTMLView",
            "description": "",
            "description_tooltip": null,
            "layout": "IPY_MODEL_1cb33e49c65e4782855901a174fbabc0",
            "placeholder": "​",
            "style": "IPY_MODEL_6e0e230f21f44cc5b5404ed7bb41cb43",
            "value": "Downloading data: 100%"
          }
        },
        "be788297dc6843098d5ec0308b4e2b14": {
          "model_module": "@jupyter-widgets/controls",
          "model_name": "FloatProgressModel",
          "model_module_version": "1.5.0",
          "state": {
            "_dom_classes": [],
            "_model_module": "@jupyter-widgets/controls",
            "_model_module_version": "1.5.0",
            "_model_name": "FloatProgressModel",
            "_view_count": null,
            "_view_module": "@jupyter-widgets/controls",
            "_view_module_version": "1.5.0",
            "_view_name": "ProgressView",
            "bar_style": "success",
            "description": "",
            "description_tooltip": null,
            "layout": "IPY_MODEL_83b9f56b475448a6a12bc7311137dd88",
            "max": 644723,
            "min": 0,
            "orientation": "horizontal",
            "style": "IPY_MODEL_940b837983314c3fadfd5dc26717cbb9",
            "value": 644723
          }
        },
        "fd0a4042cd494d4595857634ec578406": {
          "model_module": "@jupyter-widgets/controls",
          "model_name": "HTMLModel",
          "model_module_version": "1.5.0",
          "state": {
            "_dom_classes": [],
            "_model_module": "@jupyter-widgets/controls",
            "_model_module_version": "1.5.0",
            "_model_name": "HTMLModel",
            "_view_count": null,
            "_view_module": "@jupyter-widgets/controls",
            "_view_module_version": "1.5.0",
            "_view_name": "HTMLView",
            "description": "",
            "description_tooltip": null,
            "layout": "IPY_MODEL_e8e1ae9fa31e412fbdc7265ec4a73a24",
            "placeholder": "​",
            "style": "IPY_MODEL_a7934b461a7a41719dcde4e7f65d54e9",
            "value": " 645k/645k [00:00&lt;00:00, 1.58MB/s]"
          }
        },
        "45da9e15359e458cb95dfbeea8c28937": {
          "model_module": "@jupyter-widgets/base",
          "model_name": "LayoutModel",
          "model_module_version": "1.2.0",
          "state": {
            "_model_module": "@jupyter-widgets/base",
            "_model_module_version": "1.2.0",
            "_model_name": "LayoutModel",
            "_view_count": null,
            "_view_module": "@jupyter-widgets/base",
            "_view_module_version": "1.2.0",
            "_view_name": "LayoutView",
            "align_content": null,
            "align_items": null,
            "align_self": null,
            "border": null,
            "bottom": null,
            "display": null,
            "flex": null,
            "flex_flow": null,
            "grid_area": null,
            "grid_auto_columns": null,
            "grid_auto_flow": null,
            "grid_auto_rows": null,
            "grid_column": null,
            "grid_gap": null,
            "grid_row": null,
            "grid_template_areas": null,
            "grid_template_columns": null,
            "grid_template_rows": null,
            "height": null,
            "justify_content": null,
            "justify_items": null,
            "left": null,
            "margin": null,
            "max_height": null,
            "max_width": null,
            "min_height": null,
            "min_width": null,
            "object_fit": null,
            "object_position": null,
            "order": null,
            "overflow": null,
            "overflow_x": null,
            "overflow_y": null,
            "padding": null,
            "right": null,
            "top": null,
            "visibility": null,
            "width": null
          }
        },
        "1cb33e49c65e4782855901a174fbabc0": {
          "model_module": "@jupyter-widgets/base",
          "model_name": "LayoutModel",
          "model_module_version": "1.2.0",
          "state": {
            "_model_module": "@jupyter-widgets/base",
            "_model_module_version": "1.2.0",
            "_model_name": "LayoutModel",
            "_view_count": null,
            "_view_module": "@jupyter-widgets/base",
            "_view_module_version": "1.2.0",
            "_view_name": "LayoutView",
            "align_content": null,
            "align_items": null,
            "align_self": null,
            "border": null,
            "bottom": null,
            "display": null,
            "flex": null,
            "flex_flow": null,
            "grid_area": null,
            "grid_auto_columns": null,
            "grid_auto_flow": null,
            "grid_auto_rows": null,
            "grid_column": null,
            "grid_gap": null,
            "grid_row": null,
            "grid_template_areas": null,
            "grid_template_columns": null,
            "grid_template_rows": null,
            "height": null,
            "justify_content": null,
            "justify_items": null,
            "left": null,
            "margin": null,
            "max_height": null,
            "max_width": null,
            "min_height": null,
            "min_width": null,
            "object_fit": null,
            "object_position": null,
            "order": null,
            "overflow": null,
            "overflow_x": null,
            "overflow_y": null,
            "padding": null,
            "right": null,
            "top": null,
            "visibility": null,
            "width": null
          }
        },
        "6e0e230f21f44cc5b5404ed7bb41cb43": {
          "model_module": "@jupyter-widgets/controls",
          "model_name": "DescriptionStyleModel",
          "model_module_version": "1.5.0",
          "state": {
            "_model_module": "@jupyter-widgets/controls",
            "_model_module_version": "1.5.0",
            "_model_name": "DescriptionStyleModel",
            "_view_count": null,
            "_view_module": "@jupyter-widgets/base",
            "_view_module_version": "1.2.0",
            "_view_name": "StyleView",
            "description_width": ""
          }
        },
        "83b9f56b475448a6a12bc7311137dd88": {
          "model_module": "@jupyter-widgets/base",
          "model_name": "LayoutModel",
          "model_module_version": "1.2.0",
          "state": {
            "_model_module": "@jupyter-widgets/base",
            "_model_module_version": "1.2.0",
            "_model_name": "LayoutModel",
            "_view_count": null,
            "_view_module": "@jupyter-widgets/base",
            "_view_module_version": "1.2.0",
            "_view_name": "LayoutView",
            "align_content": null,
            "align_items": null,
            "align_self": null,
            "border": null,
            "bottom": null,
            "display": null,
            "flex": null,
            "flex_flow": null,
            "grid_area": null,
            "grid_auto_columns": null,
            "grid_auto_flow": null,
            "grid_auto_rows": null,
            "grid_column": null,
            "grid_gap": null,
            "grid_row": null,
            "grid_template_areas": null,
            "grid_template_columns": null,
            "grid_template_rows": null,
            "height": null,
            "justify_content": null,
            "justify_items": null,
            "left": null,
            "margin": null,
            "max_height": null,
            "max_width": null,
            "min_height": null,
            "min_width": null,
            "object_fit": null,
            "object_position": null,
            "order": null,
            "overflow": null,
            "overflow_x": null,
            "overflow_y": null,
            "padding": null,
            "right": null,
            "top": null,
            "visibility": null,
            "width": null
          }
        },
        "940b837983314c3fadfd5dc26717cbb9": {
          "model_module": "@jupyter-widgets/controls",
          "model_name": "ProgressStyleModel",
          "model_module_version": "1.5.0",
          "state": {
            "_model_module": "@jupyter-widgets/controls",
            "_model_module_version": "1.5.0",
            "_model_name": "ProgressStyleModel",
            "_view_count": null,
            "_view_module": "@jupyter-widgets/base",
            "_view_module_version": "1.2.0",
            "_view_name": "StyleView",
            "bar_color": null,
            "description_width": ""
          }
        },
        "e8e1ae9fa31e412fbdc7265ec4a73a24": {
          "model_module": "@jupyter-widgets/base",
          "model_name": "LayoutModel",
          "model_module_version": "1.2.0",
          "state": {
            "_model_module": "@jupyter-widgets/base",
            "_model_module_version": "1.2.0",
            "_model_name": "LayoutModel",
            "_view_count": null,
            "_view_module": "@jupyter-widgets/base",
            "_view_module_version": "1.2.0",
            "_view_name": "LayoutView",
            "align_content": null,
            "align_items": null,
            "align_self": null,
            "border": null,
            "bottom": null,
            "display": null,
            "flex": null,
            "flex_flow": null,
            "grid_area": null,
            "grid_auto_columns": null,
            "grid_auto_flow": null,
            "grid_auto_rows": null,
            "grid_column": null,
            "grid_gap": null,
            "grid_row": null,
            "grid_template_areas": null,
            "grid_template_columns": null,
            "grid_template_rows": null,
            "height": null,
            "justify_content": null,
            "justify_items": null,
            "left": null,
            "margin": null,
            "max_height": null,
            "max_width": null,
            "min_height": null,
            "min_width": null,
            "object_fit": null,
            "object_position": null,
            "order": null,
            "overflow": null,
            "overflow_x": null,
            "overflow_y": null,
            "padding": null,
            "right": null,
            "top": null,
            "visibility": null,
            "width": null
          }
        },
        "a7934b461a7a41719dcde4e7f65d54e9": {
          "model_module": "@jupyter-widgets/controls",
          "model_name": "DescriptionStyleModel",
          "model_module_version": "1.5.0",
          "state": {
            "_model_module": "@jupyter-widgets/controls",
            "_model_module_version": "1.5.0",
            "_model_name": "DescriptionStyleModel",
            "_view_count": null,
            "_view_module": "@jupyter-widgets/base",
            "_view_module_version": "1.2.0",
            "_view_name": "StyleView",
            "description_width": ""
          }
        },
        "1e136e78c64d4677b47e959f61e7a75b": {
          "model_module": "@jupyter-widgets/controls",
          "model_name": "HBoxModel",
          "model_module_version": "1.5.0",
          "state": {
            "_dom_classes": [],
            "_model_module": "@jupyter-widgets/controls",
            "_model_module_version": "1.5.0",
            "_model_name": "HBoxModel",
            "_view_count": null,
            "_view_module": "@jupyter-widgets/controls",
            "_view_module_version": "1.5.0",
            "_view_name": "HBoxView",
            "box_style": "",
            "children": [
              "IPY_MODEL_cd57ce9322bd43b881fcec3d4a697954",
              "IPY_MODEL_c3060310d36d4da0a0587a5255f090a2",
              "IPY_MODEL_38a3e9f0c7034593a7f47f6c5397e912"
            ],
            "layout": "IPY_MODEL_79d688f5f6cd4a5c871aaf10cc167dc5"
          }
        },
        "cd57ce9322bd43b881fcec3d4a697954": {
          "model_module": "@jupyter-widgets/controls",
          "model_name": "HTMLModel",
          "model_module_version": "1.5.0",
          "state": {
            "_dom_classes": [],
            "_model_module": "@jupyter-widgets/controls",
            "_model_module_version": "1.5.0",
            "_model_name": "HTMLModel",
            "_view_count": null,
            "_view_module": "@jupyter-widgets/controls",
            "_view_module_version": "1.5.0",
            "_view_name": "HTMLView",
            "description": "",
            "description_tooltip": null,
            "layout": "IPY_MODEL_e1a3701381da42ac845644bf4eaa3bf1",
            "placeholder": "​",
            "style": "IPY_MODEL_81521de45b6e4d06a1b01a162df0e30c",
            "value": "Downloading data: 100%"
          }
        },
        "c3060310d36d4da0a0587a5255f090a2": {
          "model_module": "@jupyter-widgets/controls",
          "model_name": "FloatProgressModel",
          "model_module_version": "1.5.0",
          "state": {
            "_dom_classes": [],
            "_model_module": "@jupyter-widgets/controls",
            "_model_module_version": "1.5.0",
            "_model_name": "FloatProgressModel",
            "_view_count": null,
            "_view_module": "@jupyter-widgets/controls",
            "_view_module_version": "1.5.0",
            "_view_name": "ProgressView",
            "bar_style": "success",
            "description": "",
            "description_tooltip": null,
            "layout": "IPY_MODEL_1793c20644df4a37a3c26e3e7889c377",
            "max": 665983,
            "min": 0,
            "orientation": "horizontal",
            "style": "IPY_MODEL_350ea2c3f57e4fb395bf7357d7cdfff7",
            "value": 665983
          }
        },
        "38a3e9f0c7034593a7f47f6c5397e912": {
          "model_module": "@jupyter-widgets/controls",
          "model_name": "HTMLModel",
          "model_module_version": "1.5.0",
          "state": {
            "_dom_classes": [],
            "_model_module": "@jupyter-widgets/controls",
            "_model_module_version": "1.5.0",
            "_model_name": "HTMLModel",
            "_view_count": null,
            "_view_module": "@jupyter-widgets/controls",
            "_view_module_version": "1.5.0",
            "_view_name": "HTMLView",
            "description": "",
            "description_tooltip": null,
            "layout": "IPY_MODEL_14272f80a4c04550ac54a12721464676",
            "placeholder": "​",
            "style": "IPY_MODEL_9892e43b01374d28b21fc40bfed9390a",
            "value": " 666k/666k [00:00&lt;00:00, 1.77MB/s]"
          }
        },
        "79d688f5f6cd4a5c871aaf10cc167dc5": {
          "model_module": "@jupyter-widgets/base",
          "model_name": "LayoutModel",
          "model_module_version": "1.2.0",
          "state": {
            "_model_module": "@jupyter-widgets/base",
            "_model_module_version": "1.2.0",
            "_model_name": "LayoutModel",
            "_view_count": null,
            "_view_module": "@jupyter-widgets/base",
            "_view_module_version": "1.2.0",
            "_view_name": "LayoutView",
            "align_content": null,
            "align_items": null,
            "align_self": null,
            "border": null,
            "bottom": null,
            "display": null,
            "flex": null,
            "flex_flow": null,
            "grid_area": null,
            "grid_auto_columns": null,
            "grid_auto_flow": null,
            "grid_auto_rows": null,
            "grid_column": null,
            "grid_gap": null,
            "grid_row": null,
            "grid_template_areas": null,
            "grid_template_columns": null,
            "grid_template_rows": null,
            "height": null,
            "justify_content": null,
            "justify_items": null,
            "left": null,
            "margin": null,
            "max_height": null,
            "max_width": null,
            "min_height": null,
            "min_width": null,
            "object_fit": null,
            "object_position": null,
            "order": null,
            "overflow": null,
            "overflow_x": null,
            "overflow_y": null,
            "padding": null,
            "right": null,
            "top": null,
            "visibility": null,
            "width": null
          }
        },
        "e1a3701381da42ac845644bf4eaa3bf1": {
          "model_module": "@jupyter-widgets/base",
          "model_name": "LayoutModel",
          "model_module_version": "1.2.0",
          "state": {
            "_model_module": "@jupyter-widgets/base",
            "_model_module_version": "1.2.0",
            "_model_name": "LayoutModel",
            "_view_count": null,
            "_view_module": "@jupyter-widgets/base",
            "_view_module_version": "1.2.0",
            "_view_name": "LayoutView",
            "align_content": null,
            "align_items": null,
            "align_self": null,
            "border": null,
            "bottom": null,
            "display": null,
            "flex": null,
            "flex_flow": null,
            "grid_area": null,
            "grid_auto_columns": null,
            "grid_auto_flow": null,
            "grid_auto_rows": null,
            "grid_column": null,
            "grid_gap": null,
            "grid_row": null,
            "grid_template_areas": null,
            "grid_template_columns": null,
            "grid_template_rows": null,
            "height": null,
            "justify_content": null,
            "justify_items": null,
            "left": null,
            "margin": null,
            "max_height": null,
            "max_width": null,
            "min_height": null,
            "min_width": null,
            "object_fit": null,
            "object_position": null,
            "order": null,
            "overflow": null,
            "overflow_x": null,
            "overflow_y": null,
            "padding": null,
            "right": null,
            "top": null,
            "visibility": null,
            "width": null
          }
        },
        "81521de45b6e4d06a1b01a162df0e30c": {
          "model_module": "@jupyter-widgets/controls",
          "model_name": "DescriptionStyleModel",
          "model_module_version": "1.5.0",
          "state": {
            "_model_module": "@jupyter-widgets/controls",
            "_model_module_version": "1.5.0",
            "_model_name": "DescriptionStyleModel",
            "_view_count": null,
            "_view_module": "@jupyter-widgets/base",
            "_view_module_version": "1.2.0",
            "_view_name": "StyleView",
            "description_width": ""
          }
        },
        "1793c20644df4a37a3c26e3e7889c377": {
          "model_module": "@jupyter-widgets/base",
          "model_name": "LayoutModel",
          "model_module_version": "1.2.0",
          "state": {
            "_model_module": "@jupyter-widgets/base",
            "_model_module_version": "1.2.0",
            "_model_name": "LayoutModel",
            "_view_count": null,
            "_view_module": "@jupyter-widgets/base",
            "_view_module_version": "1.2.0",
            "_view_name": "LayoutView",
            "align_content": null,
            "align_items": null,
            "align_self": null,
            "border": null,
            "bottom": null,
            "display": null,
            "flex": null,
            "flex_flow": null,
            "grid_area": null,
            "grid_auto_columns": null,
            "grid_auto_flow": null,
            "grid_auto_rows": null,
            "grid_column": null,
            "grid_gap": null,
            "grid_row": null,
            "grid_template_areas": null,
            "grid_template_columns": null,
            "grid_template_rows": null,
            "height": null,
            "justify_content": null,
            "justify_items": null,
            "left": null,
            "margin": null,
            "max_height": null,
            "max_width": null,
            "min_height": null,
            "min_width": null,
            "object_fit": null,
            "object_position": null,
            "order": null,
            "overflow": null,
            "overflow_x": null,
            "overflow_y": null,
            "padding": null,
            "right": null,
            "top": null,
            "visibility": null,
            "width": null
          }
        },
        "350ea2c3f57e4fb395bf7357d7cdfff7": {
          "model_module": "@jupyter-widgets/controls",
          "model_name": "ProgressStyleModel",
          "model_module_version": "1.5.0",
          "state": {
            "_model_module": "@jupyter-widgets/controls",
            "_model_module_version": "1.5.0",
            "_model_name": "ProgressStyleModel",
            "_view_count": null,
            "_view_module": "@jupyter-widgets/base",
            "_view_module_version": "1.2.0",
            "_view_name": "StyleView",
            "bar_color": null,
            "description_width": ""
          }
        },
        "14272f80a4c04550ac54a12721464676": {
          "model_module": "@jupyter-widgets/base",
          "model_name": "LayoutModel",
          "model_module_version": "1.2.0",
          "state": {
            "_model_module": "@jupyter-widgets/base",
            "_model_module_version": "1.2.0",
            "_model_name": "LayoutModel",
            "_view_count": null,
            "_view_module": "@jupyter-widgets/base",
            "_view_module_version": "1.2.0",
            "_view_name": "LayoutView",
            "align_content": null,
            "align_items": null,
            "align_self": null,
            "border": null,
            "bottom": null,
            "display": null,
            "flex": null,
            "flex_flow": null,
            "grid_area": null,
            "grid_auto_columns": null,
            "grid_auto_flow": null,
            "grid_auto_rows": null,
            "grid_column": null,
            "grid_gap": null,
            "grid_row": null,
            "grid_template_areas": null,
            "grid_template_columns": null,
            "grid_template_rows": null,
            "height": null,
            "justify_content": null,
            "justify_items": null,
            "left": null,
            "margin": null,
            "max_height": null,
            "max_width": null,
            "min_height": null,
            "min_width": null,
            "object_fit": null,
            "object_position": null,
            "order": null,
            "overflow": null,
            "overflow_x": null,
            "overflow_y": null,
            "padding": null,
            "right": null,
            "top": null,
            "visibility": null,
            "width": null
          }
        },
        "9892e43b01374d28b21fc40bfed9390a": {
          "model_module": "@jupyter-widgets/controls",
          "model_name": "DescriptionStyleModel",
          "model_module_version": "1.5.0",
          "state": {
            "_model_module": "@jupyter-widgets/controls",
            "_model_module_version": "1.5.0",
            "_model_name": "DescriptionStyleModel",
            "_view_count": null,
            "_view_module": "@jupyter-widgets/base",
            "_view_module_version": "1.2.0",
            "_view_name": "StyleView",
            "description_width": ""
          }
        },
        "354854d53e174fd895f64b6badcac540": {
          "model_module": "@jupyter-widgets/controls",
          "model_name": "HBoxModel",
          "model_module_version": "1.5.0",
          "state": {
            "_dom_classes": [],
            "_model_module": "@jupyter-widgets/controls",
            "_model_module_version": "1.5.0",
            "_model_name": "HBoxModel",
            "_view_count": null,
            "_view_module": "@jupyter-widgets/controls",
            "_view_module_version": "1.5.0",
            "_view_name": "HBoxView",
            "box_style": "",
            "children": [
              "IPY_MODEL_5ba25f5f21944dc1af9b299312714019",
              "IPY_MODEL_4239bacecde54340bcba8eb894af695b",
              "IPY_MODEL_a711046a0f344b8fb9cf7be34e084af0"
            ],
            "layout": "IPY_MODEL_973fa78ef84a40fa9865e425bf980155"
          }
        },
        "5ba25f5f21944dc1af9b299312714019": {
          "model_module": "@jupyter-widgets/controls",
          "model_name": "HTMLModel",
          "model_module_version": "1.5.0",
          "state": {
            "_dom_classes": [],
            "_model_module": "@jupyter-widgets/controls",
            "_model_module_version": "1.5.0",
            "_model_name": "HTMLModel",
            "_view_count": null,
            "_view_module": "@jupyter-widgets/controls",
            "_view_module_version": "1.5.0",
            "_view_name": "HTMLView",
            "description": "",
            "description_tooltip": null,
            "layout": "IPY_MODEL_736cf3f300f145579defd69a2fe11023",
            "placeholder": "​",
            "style": "IPY_MODEL_60e1e9b029054d1e954f26c1eb7148b3",
            "value": "Generating train split: 100%"
          }
        },
        "4239bacecde54340bcba8eb894af695b": {
          "model_module": "@jupyter-widgets/controls",
          "model_name": "FloatProgressModel",
          "model_module_version": "1.5.0",
          "state": {
            "_dom_classes": [],
            "_model_module": "@jupyter-widgets/controls",
            "_model_module_version": "1.5.0",
            "_model_name": "FloatProgressModel",
            "_view_count": null,
            "_view_module": "@jupyter-widgets/controls",
            "_view_module_version": "1.5.0",
            "_view_name": "ProgressView",
            "bar_style": "success",
            "description": "",
            "description_tooltip": null,
            "layout": "IPY_MODEL_97e2828f863349df8dbeb688ef61b9da",
            "max": 314315,
            "min": 0,
            "orientation": "horizontal",
            "style": "IPY_MODEL_5f9028acfd884634a26117106fcbf32a",
            "value": 314315
          }
        },
        "a711046a0f344b8fb9cf7be34e084af0": {
          "model_module": "@jupyter-widgets/controls",
          "model_name": "HTMLModel",
          "model_module_version": "1.5.0",
          "state": {
            "_dom_classes": [],
            "_model_module": "@jupyter-widgets/controls",
            "_model_module_version": "1.5.0",
            "_model_name": "HTMLModel",
            "_view_count": null,
            "_view_module": "@jupyter-widgets/controls",
            "_view_module_version": "1.5.0",
            "_view_name": "HTMLView",
            "description": "",
            "description_tooltip": null,
            "layout": "IPY_MODEL_70eb32ddc20e4c3882dbe3f648d2ff31",
            "placeholder": "​",
            "style": "IPY_MODEL_c05f18145bfa4e218ec1593b24163bd7",
            "value": " 314315/314315 [00:01&lt;00:00, 255155.37 examples/s]"
          }
        },
        "973fa78ef84a40fa9865e425bf980155": {
          "model_module": "@jupyter-widgets/base",
          "model_name": "LayoutModel",
          "model_module_version": "1.2.0",
          "state": {
            "_model_module": "@jupyter-widgets/base",
            "_model_module_version": "1.2.0",
            "_model_name": "LayoutModel",
            "_view_count": null,
            "_view_module": "@jupyter-widgets/base",
            "_view_module_version": "1.2.0",
            "_view_name": "LayoutView",
            "align_content": null,
            "align_items": null,
            "align_self": null,
            "border": null,
            "bottom": null,
            "display": null,
            "flex": null,
            "flex_flow": null,
            "grid_area": null,
            "grid_auto_columns": null,
            "grid_auto_flow": null,
            "grid_auto_rows": null,
            "grid_column": null,
            "grid_gap": null,
            "grid_row": null,
            "grid_template_areas": null,
            "grid_template_columns": null,
            "grid_template_rows": null,
            "height": null,
            "justify_content": null,
            "justify_items": null,
            "left": null,
            "margin": null,
            "max_height": null,
            "max_width": null,
            "min_height": null,
            "min_width": null,
            "object_fit": null,
            "object_position": null,
            "order": null,
            "overflow": null,
            "overflow_x": null,
            "overflow_y": null,
            "padding": null,
            "right": null,
            "top": null,
            "visibility": null,
            "width": null
          }
        },
        "736cf3f300f145579defd69a2fe11023": {
          "model_module": "@jupyter-widgets/base",
          "model_name": "LayoutModel",
          "model_module_version": "1.2.0",
          "state": {
            "_model_module": "@jupyter-widgets/base",
            "_model_module_version": "1.2.0",
            "_model_name": "LayoutModel",
            "_view_count": null,
            "_view_module": "@jupyter-widgets/base",
            "_view_module_version": "1.2.0",
            "_view_name": "LayoutView",
            "align_content": null,
            "align_items": null,
            "align_self": null,
            "border": null,
            "bottom": null,
            "display": null,
            "flex": null,
            "flex_flow": null,
            "grid_area": null,
            "grid_auto_columns": null,
            "grid_auto_flow": null,
            "grid_auto_rows": null,
            "grid_column": null,
            "grid_gap": null,
            "grid_row": null,
            "grid_template_areas": null,
            "grid_template_columns": null,
            "grid_template_rows": null,
            "height": null,
            "justify_content": null,
            "justify_items": null,
            "left": null,
            "margin": null,
            "max_height": null,
            "max_width": null,
            "min_height": null,
            "min_width": null,
            "object_fit": null,
            "object_position": null,
            "order": null,
            "overflow": null,
            "overflow_x": null,
            "overflow_y": null,
            "padding": null,
            "right": null,
            "top": null,
            "visibility": null,
            "width": null
          }
        },
        "60e1e9b029054d1e954f26c1eb7148b3": {
          "model_module": "@jupyter-widgets/controls",
          "model_name": "DescriptionStyleModel",
          "model_module_version": "1.5.0",
          "state": {
            "_model_module": "@jupyter-widgets/controls",
            "_model_module_version": "1.5.0",
            "_model_name": "DescriptionStyleModel",
            "_view_count": null,
            "_view_module": "@jupyter-widgets/base",
            "_view_module_version": "1.2.0",
            "_view_name": "StyleView",
            "description_width": ""
          }
        },
        "97e2828f863349df8dbeb688ef61b9da": {
          "model_module": "@jupyter-widgets/base",
          "model_name": "LayoutModel",
          "model_module_version": "1.2.0",
          "state": {
            "_model_module": "@jupyter-widgets/base",
            "_model_module_version": "1.2.0",
            "_model_name": "LayoutModel",
            "_view_count": null,
            "_view_module": "@jupyter-widgets/base",
            "_view_module_version": "1.2.0",
            "_view_name": "LayoutView",
            "align_content": null,
            "align_items": null,
            "align_self": null,
            "border": null,
            "bottom": null,
            "display": null,
            "flex": null,
            "flex_flow": null,
            "grid_area": null,
            "grid_auto_columns": null,
            "grid_auto_flow": null,
            "grid_auto_rows": null,
            "grid_column": null,
            "grid_gap": null,
            "grid_row": null,
            "grid_template_areas": null,
            "grid_template_columns": null,
            "grid_template_rows": null,
            "height": null,
            "justify_content": null,
            "justify_items": null,
            "left": null,
            "margin": null,
            "max_height": null,
            "max_width": null,
            "min_height": null,
            "min_width": null,
            "object_fit": null,
            "object_position": null,
            "order": null,
            "overflow": null,
            "overflow_x": null,
            "overflow_y": null,
            "padding": null,
            "right": null,
            "top": null,
            "visibility": null,
            "width": null
          }
        },
        "5f9028acfd884634a26117106fcbf32a": {
          "model_module": "@jupyter-widgets/controls",
          "model_name": "ProgressStyleModel",
          "model_module_version": "1.5.0",
          "state": {
            "_model_module": "@jupyter-widgets/controls",
            "_model_module_version": "1.5.0",
            "_model_name": "ProgressStyleModel",
            "_view_count": null,
            "_view_module": "@jupyter-widgets/base",
            "_view_module_version": "1.2.0",
            "_view_name": "StyleView",
            "bar_color": null,
            "description_width": ""
          }
        },
        "70eb32ddc20e4c3882dbe3f648d2ff31": {
          "model_module": "@jupyter-widgets/base",
          "model_name": "LayoutModel",
          "model_module_version": "1.2.0",
          "state": {
            "_model_module": "@jupyter-widgets/base",
            "_model_module_version": "1.2.0",
            "_model_name": "LayoutModel",
            "_view_count": null,
            "_view_module": "@jupyter-widgets/base",
            "_view_module_version": "1.2.0",
            "_view_name": "LayoutView",
            "align_content": null,
            "align_items": null,
            "align_self": null,
            "border": null,
            "bottom": null,
            "display": null,
            "flex": null,
            "flex_flow": null,
            "grid_area": null,
            "grid_auto_columns": null,
            "grid_auto_flow": null,
            "grid_auto_rows": null,
            "grid_column": null,
            "grid_gap": null,
            "grid_row": null,
            "grid_template_areas": null,
            "grid_template_columns": null,
            "grid_template_rows": null,
            "height": null,
            "justify_content": null,
            "justify_items": null,
            "left": null,
            "margin": null,
            "max_height": null,
            "max_width": null,
            "min_height": null,
            "min_width": null,
            "object_fit": null,
            "object_position": null,
            "order": null,
            "overflow": null,
            "overflow_x": null,
            "overflow_y": null,
            "padding": null,
            "right": null,
            "top": null,
            "visibility": null,
            "width": null
          }
        },
        "c05f18145bfa4e218ec1593b24163bd7": {
          "model_module": "@jupyter-widgets/controls",
          "model_name": "DescriptionStyleModel",
          "model_module_version": "1.5.0",
          "state": {
            "_model_module": "@jupyter-widgets/controls",
            "_model_module_version": "1.5.0",
            "_model_name": "DescriptionStyleModel",
            "_view_count": null,
            "_view_module": "@jupyter-widgets/base",
            "_view_module_version": "1.2.0",
            "_view_name": "StyleView",
            "description_width": ""
          }
        },
        "b187db9719e84e5da14ec37f2c7fcdeb": {
          "model_module": "@jupyter-widgets/controls",
          "model_name": "HBoxModel",
          "model_module_version": "1.5.0",
          "state": {
            "_dom_classes": [],
            "_model_module": "@jupyter-widgets/controls",
            "_model_module_version": "1.5.0",
            "_model_name": "HBoxModel",
            "_view_count": null,
            "_view_module": "@jupyter-widgets/controls",
            "_view_module_version": "1.5.0",
            "_view_name": "HBoxView",
            "box_style": "",
            "children": [
              "IPY_MODEL_8b92136606224c5eb4f375f8ec9a9702",
              "IPY_MODEL_00eb014db5d3490987dda8f24fef241f",
              "IPY_MODEL_e341bf511b9f46f695fc5372697330c6"
            ],
            "layout": "IPY_MODEL_9348473b443c418cbc5560343ddcc35f"
          }
        },
        "8b92136606224c5eb4f375f8ec9a9702": {
          "model_module": "@jupyter-widgets/controls",
          "model_name": "HTMLModel",
          "model_module_version": "1.5.0",
          "state": {
            "_dom_classes": [],
            "_model_module": "@jupyter-widgets/controls",
            "_model_module_version": "1.5.0",
            "_model_name": "HTMLModel",
            "_view_count": null,
            "_view_module": "@jupyter-widgets/controls",
            "_view_module_version": "1.5.0",
            "_view_name": "HTMLView",
            "description": "",
            "description_tooltip": null,
            "layout": "IPY_MODEL_9691d0188a5f4d29bc82cc0ba90bc1ff",
            "placeholder": "​",
            "style": "IPY_MODEL_82d262b16c9a4becb706f8bf086323d9",
            "value": "Generating dev split: 100%"
          }
        },
        "00eb014db5d3490987dda8f24fef241f": {
          "model_module": "@jupyter-widgets/controls",
          "model_name": "FloatProgressModel",
          "model_module_version": "1.5.0",
          "state": {
            "_dom_classes": [],
            "_model_module": "@jupyter-widgets/controls",
            "_model_module_version": "1.5.0",
            "_model_name": "FloatProgressModel",
            "_view_count": null,
            "_view_module": "@jupyter-widgets/controls",
            "_view_module_version": "1.5.0",
            "_view_name": "ProgressView",
            "bar_style": "success",
            "description": "",
            "description_tooltip": null,
            "layout": "IPY_MODEL_73a5c851bfbb41a6b40aa4973e314f82",
            "max": 6808,
            "min": 0,
            "orientation": "horizontal",
            "style": "IPY_MODEL_a85032b4d7bd490e86f59ea94807d8bb",
            "value": 6808
          }
        },
        "e341bf511b9f46f695fc5372697330c6": {
          "model_module": "@jupyter-widgets/controls",
          "model_name": "HTMLModel",
          "model_module_version": "1.5.0",
          "state": {
            "_dom_classes": [],
            "_model_module": "@jupyter-widgets/controls",
            "_model_module_version": "1.5.0",
            "_model_name": "HTMLModel",
            "_view_count": null,
            "_view_module": "@jupyter-widgets/controls",
            "_view_module_version": "1.5.0",
            "_view_name": "HTMLView",
            "description": "",
            "description_tooltip": null,
            "layout": "IPY_MODEL_c55289c7839c4ae497e08f6ff9f81781",
            "placeholder": "​",
            "style": "IPY_MODEL_66a881b3ac924882946ea308fa03cdce",
            "value": " 6808/6808 [00:00&lt;00:00, 107166.45 examples/s]"
          }
        },
        "9348473b443c418cbc5560343ddcc35f": {
          "model_module": "@jupyter-widgets/base",
          "model_name": "LayoutModel",
          "model_module_version": "1.2.0",
          "state": {
            "_model_module": "@jupyter-widgets/base",
            "_model_module_version": "1.2.0",
            "_model_name": "LayoutModel",
            "_view_count": null,
            "_view_module": "@jupyter-widgets/base",
            "_view_module_version": "1.2.0",
            "_view_name": "LayoutView",
            "align_content": null,
            "align_items": null,
            "align_self": null,
            "border": null,
            "bottom": null,
            "display": null,
            "flex": null,
            "flex_flow": null,
            "grid_area": null,
            "grid_auto_columns": null,
            "grid_auto_flow": null,
            "grid_auto_rows": null,
            "grid_column": null,
            "grid_gap": null,
            "grid_row": null,
            "grid_template_areas": null,
            "grid_template_columns": null,
            "grid_template_rows": null,
            "height": null,
            "justify_content": null,
            "justify_items": null,
            "left": null,
            "margin": null,
            "max_height": null,
            "max_width": null,
            "min_height": null,
            "min_width": null,
            "object_fit": null,
            "object_position": null,
            "order": null,
            "overflow": null,
            "overflow_x": null,
            "overflow_y": null,
            "padding": null,
            "right": null,
            "top": null,
            "visibility": null,
            "width": null
          }
        },
        "9691d0188a5f4d29bc82cc0ba90bc1ff": {
          "model_module": "@jupyter-widgets/base",
          "model_name": "LayoutModel",
          "model_module_version": "1.2.0",
          "state": {
            "_model_module": "@jupyter-widgets/base",
            "_model_module_version": "1.2.0",
            "_model_name": "LayoutModel",
            "_view_count": null,
            "_view_module": "@jupyter-widgets/base",
            "_view_module_version": "1.2.0",
            "_view_name": "LayoutView",
            "align_content": null,
            "align_items": null,
            "align_self": null,
            "border": null,
            "bottom": null,
            "display": null,
            "flex": null,
            "flex_flow": null,
            "grid_area": null,
            "grid_auto_columns": null,
            "grid_auto_flow": null,
            "grid_auto_rows": null,
            "grid_column": null,
            "grid_gap": null,
            "grid_row": null,
            "grid_template_areas": null,
            "grid_template_columns": null,
            "grid_template_rows": null,
            "height": null,
            "justify_content": null,
            "justify_items": null,
            "left": null,
            "margin": null,
            "max_height": null,
            "max_width": null,
            "min_height": null,
            "min_width": null,
            "object_fit": null,
            "object_position": null,
            "order": null,
            "overflow": null,
            "overflow_x": null,
            "overflow_y": null,
            "padding": null,
            "right": null,
            "top": null,
            "visibility": null,
            "width": null
          }
        },
        "82d262b16c9a4becb706f8bf086323d9": {
          "model_module": "@jupyter-widgets/controls",
          "model_name": "DescriptionStyleModel",
          "model_module_version": "1.5.0",
          "state": {
            "_model_module": "@jupyter-widgets/controls",
            "_model_module_version": "1.5.0",
            "_model_name": "DescriptionStyleModel",
            "_view_count": null,
            "_view_module": "@jupyter-widgets/base",
            "_view_module_version": "1.2.0",
            "_view_name": "StyleView",
            "description_width": ""
          }
        },
        "73a5c851bfbb41a6b40aa4973e314f82": {
          "model_module": "@jupyter-widgets/base",
          "model_name": "LayoutModel",
          "model_module_version": "1.2.0",
          "state": {
            "_model_module": "@jupyter-widgets/base",
            "_model_module_version": "1.2.0",
            "_model_name": "LayoutModel",
            "_view_count": null,
            "_view_module": "@jupyter-widgets/base",
            "_view_module_version": "1.2.0",
            "_view_name": "LayoutView",
            "align_content": null,
            "align_items": null,
            "align_self": null,
            "border": null,
            "bottom": null,
            "display": null,
            "flex": null,
            "flex_flow": null,
            "grid_area": null,
            "grid_auto_columns": null,
            "grid_auto_flow": null,
            "grid_auto_rows": null,
            "grid_column": null,
            "grid_gap": null,
            "grid_row": null,
            "grid_template_areas": null,
            "grid_template_columns": null,
            "grid_template_rows": null,
            "height": null,
            "justify_content": null,
            "justify_items": null,
            "left": null,
            "margin": null,
            "max_height": null,
            "max_width": null,
            "min_height": null,
            "min_width": null,
            "object_fit": null,
            "object_position": null,
            "order": null,
            "overflow": null,
            "overflow_x": null,
            "overflow_y": null,
            "padding": null,
            "right": null,
            "top": null,
            "visibility": null,
            "width": null
          }
        },
        "a85032b4d7bd490e86f59ea94807d8bb": {
          "model_module": "@jupyter-widgets/controls",
          "model_name": "ProgressStyleModel",
          "model_module_version": "1.5.0",
          "state": {
            "_model_module": "@jupyter-widgets/controls",
            "_model_module_version": "1.5.0",
            "_model_name": "ProgressStyleModel",
            "_view_count": null,
            "_view_module": "@jupyter-widgets/base",
            "_view_module_version": "1.2.0",
            "_view_name": "StyleView",
            "bar_color": null,
            "description_width": ""
          }
        },
        "c55289c7839c4ae497e08f6ff9f81781": {
          "model_module": "@jupyter-widgets/base",
          "model_name": "LayoutModel",
          "model_module_version": "1.2.0",
          "state": {
            "_model_module": "@jupyter-widgets/base",
            "_model_module_version": "1.2.0",
            "_model_name": "LayoutModel",
            "_view_count": null,
            "_view_module": "@jupyter-widgets/base",
            "_view_module_version": "1.2.0",
            "_view_name": "LayoutView",
            "align_content": null,
            "align_items": null,
            "align_self": null,
            "border": null,
            "bottom": null,
            "display": null,
            "flex": null,
            "flex_flow": null,
            "grid_area": null,
            "grid_auto_columns": null,
            "grid_auto_flow": null,
            "grid_auto_rows": null,
            "grid_column": null,
            "grid_gap": null,
            "grid_row": null,
            "grid_template_areas": null,
            "grid_template_columns": null,
            "grid_template_rows": null,
            "height": null,
            "justify_content": null,
            "justify_items": null,
            "left": null,
            "margin": null,
            "max_height": null,
            "max_width": null,
            "min_height": null,
            "min_width": null,
            "object_fit": null,
            "object_position": null,
            "order": null,
            "overflow": null,
            "overflow_x": null,
            "overflow_y": null,
            "padding": null,
            "right": null,
            "top": null,
            "visibility": null,
            "width": null
          }
        },
        "66a881b3ac924882946ea308fa03cdce": {
          "model_module": "@jupyter-widgets/controls",
          "model_name": "DescriptionStyleModel",
          "model_module_version": "1.5.0",
          "state": {
            "_model_module": "@jupyter-widgets/controls",
            "_model_module_version": "1.5.0",
            "_model_name": "DescriptionStyleModel",
            "_view_count": null,
            "_view_module": "@jupyter-widgets/base",
            "_view_module_version": "1.2.0",
            "_view_name": "StyleView",
            "description_width": ""
          }
        },
        "e7dbfe0f68aa46b7b4f87569dfb90007": {
          "model_module": "@jupyter-widgets/controls",
          "model_name": "HBoxModel",
          "model_module_version": "1.5.0",
          "state": {
            "_dom_classes": [],
            "_model_module": "@jupyter-widgets/controls",
            "_model_module_version": "1.5.0",
            "_model_name": "HBoxModel",
            "_view_count": null,
            "_view_module": "@jupyter-widgets/controls",
            "_view_module_version": "1.5.0",
            "_view_name": "HBoxView",
            "box_style": "",
            "children": [
              "IPY_MODEL_12ab7c784b5244d4be39764e93f9b5ea",
              "IPY_MODEL_763421f0ada54a09b2e0e7a4661e5822",
              "IPY_MODEL_0c184d8d280c4ba1b2e7b32a991c8968"
            ],
            "layout": "IPY_MODEL_952966e773c94db8892683d4f1618ba1"
          }
        },
        "12ab7c784b5244d4be39764e93f9b5ea": {
          "model_module": "@jupyter-widgets/controls",
          "model_name": "HTMLModel",
          "model_module_version": "1.5.0",
          "state": {
            "_dom_classes": [],
            "_model_module": "@jupyter-widgets/controls",
            "_model_module_version": "1.5.0",
            "_model_name": "HTMLModel",
            "_view_count": null,
            "_view_module": "@jupyter-widgets/controls",
            "_view_module_version": "1.5.0",
            "_view_name": "HTMLView",
            "description": "",
            "description_tooltip": null,
            "layout": "IPY_MODEL_dd8ae5c4910045d1b026b53cc9024209",
            "placeholder": "​",
            "style": "IPY_MODEL_2b11a93b95dd424291545b156c311a13",
            "value": "Generating test split: 100%"
          }
        },
        "763421f0ada54a09b2e0e7a4661e5822": {
          "model_module": "@jupyter-widgets/controls",
          "model_name": "FloatProgressModel",
          "model_module_version": "1.5.0",
          "state": {
            "_dom_classes": [],
            "_model_module": "@jupyter-widgets/controls",
            "_model_module_version": "1.5.0",
            "_model_name": "FloatProgressModel",
            "_view_count": null,
            "_view_module": "@jupyter-widgets/controls",
            "_view_module_version": "1.5.0",
            "_view_name": "ProgressView",
            "bar_style": "success",
            "description": "",
            "description_tooltip": null,
            "layout": "IPY_MODEL_0fd69c5d0d5548dd8382c10995f8ff9c",
            "max": 6831,
            "min": 0,
            "orientation": "horizontal",
            "style": "IPY_MODEL_46dadff66e9d49cd892551bd98784ffb",
            "value": 6831
          }
        },
        "0c184d8d280c4ba1b2e7b32a991c8968": {
          "model_module": "@jupyter-widgets/controls",
          "model_name": "HTMLModel",
          "model_module_version": "1.5.0",
          "state": {
            "_dom_classes": [],
            "_model_module": "@jupyter-widgets/controls",
            "_model_module_version": "1.5.0",
            "_model_name": "HTMLModel",
            "_view_count": null,
            "_view_module": "@jupyter-widgets/controls",
            "_view_module_version": "1.5.0",
            "_view_name": "HTMLView",
            "description": "",
            "description_tooltip": null,
            "layout": "IPY_MODEL_933041d99b9a4d2d8c5e5207aef9f5bc",
            "placeholder": "​",
            "style": "IPY_MODEL_39f03f79a45c4a5d8dee5d2cbaaa9114",
            "value": " 6831/6831 [00:00&lt;00:00, 91662.72 examples/s]"
          }
        },
        "952966e773c94db8892683d4f1618ba1": {
          "model_module": "@jupyter-widgets/base",
          "model_name": "LayoutModel",
          "model_module_version": "1.2.0",
          "state": {
            "_model_module": "@jupyter-widgets/base",
            "_model_module_version": "1.2.0",
            "_model_name": "LayoutModel",
            "_view_count": null,
            "_view_module": "@jupyter-widgets/base",
            "_view_module_version": "1.2.0",
            "_view_name": "LayoutView",
            "align_content": null,
            "align_items": null,
            "align_self": null,
            "border": null,
            "bottom": null,
            "display": null,
            "flex": null,
            "flex_flow": null,
            "grid_area": null,
            "grid_auto_columns": null,
            "grid_auto_flow": null,
            "grid_auto_rows": null,
            "grid_column": null,
            "grid_gap": null,
            "grid_row": null,
            "grid_template_areas": null,
            "grid_template_columns": null,
            "grid_template_rows": null,
            "height": null,
            "justify_content": null,
            "justify_items": null,
            "left": null,
            "margin": null,
            "max_height": null,
            "max_width": null,
            "min_height": null,
            "min_width": null,
            "object_fit": null,
            "object_position": null,
            "order": null,
            "overflow": null,
            "overflow_x": null,
            "overflow_y": null,
            "padding": null,
            "right": null,
            "top": null,
            "visibility": null,
            "width": null
          }
        },
        "dd8ae5c4910045d1b026b53cc9024209": {
          "model_module": "@jupyter-widgets/base",
          "model_name": "LayoutModel",
          "model_module_version": "1.2.0",
          "state": {
            "_model_module": "@jupyter-widgets/base",
            "_model_module_version": "1.2.0",
            "_model_name": "LayoutModel",
            "_view_count": null,
            "_view_module": "@jupyter-widgets/base",
            "_view_module_version": "1.2.0",
            "_view_name": "LayoutView",
            "align_content": null,
            "align_items": null,
            "align_self": null,
            "border": null,
            "bottom": null,
            "display": null,
            "flex": null,
            "flex_flow": null,
            "grid_area": null,
            "grid_auto_columns": null,
            "grid_auto_flow": null,
            "grid_auto_rows": null,
            "grid_column": null,
            "grid_gap": null,
            "grid_row": null,
            "grid_template_areas": null,
            "grid_template_columns": null,
            "grid_template_rows": null,
            "height": null,
            "justify_content": null,
            "justify_items": null,
            "left": null,
            "margin": null,
            "max_height": null,
            "max_width": null,
            "min_height": null,
            "min_width": null,
            "object_fit": null,
            "object_position": null,
            "order": null,
            "overflow": null,
            "overflow_x": null,
            "overflow_y": null,
            "padding": null,
            "right": null,
            "top": null,
            "visibility": null,
            "width": null
          }
        },
        "2b11a93b95dd424291545b156c311a13": {
          "model_module": "@jupyter-widgets/controls",
          "model_name": "DescriptionStyleModel",
          "model_module_version": "1.5.0",
          "state": {
            "_model_module": "@jupyter-widgets/controls",
            "_model_module_version": "1.5.0",
            "_model_name": "DescriptionStyleModel",
            "_view_count": null,
            "_view_module": "@jupyter-widgets/base",
            "_view_module_version": "1.2.0",
            "_view_name": "StyleView",
            "description_width": ""
          }
        },
        "0fd69c5d0d5548dd8382c10995f8ff9c": {
          "model_module": "@jupyter-widgets/base",
          "model_name": "LayoutModel",
          "model_module_version": "1.2.0",
          "state": {
            "_model_module": "@jupyter-widgets/base",
            "_model_module_version": "1.2.0",
            "_model_name": "LayoutModel",
            "_view_count": null,
            "_view_module": "@jupyter-widgets/base",
            "_view_module_version": "1.2.0",
            "_view_name": "LayoutView",
            "align_content": null,
            "align_items": null,
            "align_self": null,
            "border": null,
            "bottom": null,
            "display": null,
            "flex": null,
            "flex_flow": null,
            "grid_area": null,
            "grid_auto_columns": null,
            "grid_auto_flow": null,
            "grid_auto_rows": null,
            "grid_column": null,
            "grid_gap": null,
            "grid_row": null,
            "grid_template_areas": null,
            "grid_template_columns": null,
            "grid_template_rows": null,
            "height": null,
            "justify_content": null,
            "justify_items": null,
            "left": null,
            "margin": null,
            "max_height": null,
            "max_width": null,
            "min_height": null,
            "min_width": null,
            "object_fit": null,
            "object_position": null,
            "order": null,
            "overflow": null,
            "overflow_x": null,
            "overflow_y": null,
            "padding": null,
            "right": null,
            "top": null,
            "visibility": null,
            "width": null
          }
        },
        "46dadff66e9d49cd892551bd98784ffb": {
          "model_module": "@jupyter-widgets/controls",
          "model_name": "ProgressStyleModel",
          "model_module_version": "1.5.0",
          "state": {
            "_model_module": "@jupyter-widgets/controls",
            "_model_module_version": "1.5.0",
            "_model_name": "ProgressStyleModel",
            "_view_count": null,
            "_view_module": "@jupyter-widgets/base",
            "_view_module_version": "1.2.0",
            "_view_name": "StyleView",
            "bar_color": null,
            "description_width": ""
          }
        },
        "933041d99b9a4d2d8c5e5207aef9f5bc": {
          "model_module": "@jupyter-widgets/base",
          "model_name": "LayoutModel",
          "model_module_version": "1.2.0",
          "state": {
            "_model_module": "@jupyter-widgets/base",
            "_model_module_version": "1.2.0",
            "_model_name": "LayoutModel",
            "_view_count": null,
            "_view_module": "@jupyter-widgets/base",
            "_view_module_version": "1.2.0",
            "_view_name": "LayoutView",
            "align_content": null,
            "align_items": null,
            "align_self": null,
            "border": null,
            "bottom": null,
            "display": null,
            "flex": null,
            "flex_flow": null,
            "grid_area": null,
            "grid_auto_columns": null,
            "grid_auto_flow": null,
            "grid_auto_rows": null,
            "grid_column": null,
            "grid_gap": null,
            "grid_row": null,
            "grid_template_areas": null,
            "grid_template_columns": null,
            "grid_template_rows": null,
            "height": null,
            "justify_content": null,
            "justify_items": null,
            "left": null,
            "margin": null,
            "max_height": null,
            "max_width": null,
            "min_height": null,
            "min_width": null,
            "object_fit": null,
            "object_position": null,
            "order": null,
            "overflow": null,
            "overflow_x": null,
            "overflow_y": null,
            "padding": null,
            "right": null,
            "top": null,
            "visibility": null,
            "width": null
          }
        },
        "39f03f79a45c4a5d8dee5d2cbaaa9114": {
          "model_module": "@jupyter-widgets/controls",
          "model_name": "DescriptionStyleModel",
          "model_module_version": "1.5.0",
          "state": {
            "_model_module": "@jupyter-widgets/controls",
            "_model_module_version": "1.5.0",
            "_model_name": "DescriptionStyleModel",
            "_view_count": null,
            "_view_module": "@jupyter-widgets/base",
            "_view_module_version": "1.2.0",
            "_view_name": "StyleView",
            "description_width": ""
          }
        }
      }
    }
  },
  "cells": [
    {
      "cell_type": "markdown",
      "metadata": {
        "id": "view-in-github",
        "colab_type": "text"
      },
      "source": [
        "<a href=\"https://colab.research.google.com/github/pramodith/llm_exploration/blob/main/FormattedTextSimilarity.ipynb\" target=\"_parent\"><img src=\"https://colab.research.google.com/assets/colab-badge.svg\" alt=\"Open In Colab\"/></a>"
      ]
    },
    {
      "cell_type": "markdown",
      "source": [
        "### Embedding Models and Formatted Unicode Text\n",
        "\n",
        "Many platforms and documents like LinkedIn support specially formatted textual characters, such as bold, italicized etc. text.\n",
        "\n",
        "The unicode representation of such characters is different from the standard unformatted i.e. ascii representation. This can pose problems to LMs depending on how the tokenizer handles such characters. Here's an online [tool](https://www.linkedin-makeover.com/linkedin-text-formatter/) one can use to format their text on LI.\n",
        "\n",
        "In this notebook we explore how Embedding Models can be affected. This notebook is inspired by [Prithivi Da](https://github.com/PrithivirajDamodaran)'s LinkedIn [post](https://www.linkedin.com/posts/prithivirajdamodaran_curious-case-of-vector-search-fails-most-activity-7128981613438218240-esX_/?utm_source=share&utm_medium=member_ios) highlighting the same issue."
      ],
      "metadata": {
        "id": "4SsWShJ9oN2Z"
      }
    },
    {
      "cell_type": "markdown",
      "source": [
        "Let's install all the libraries we'll be using!"
      ],
      "metadata": {
        "id": "LGkKo8CypyrW"
      }
    },
    {
      "cell_type": "code",
      "source": [
        "!pip install -qqq datasets\n",
        "!pip install -qqq accelerate\n",
        "!pip install -qqq einops\n",
        "!pip install -qqq openai\n",
        "!pip install -qqq cohere --upgrade\n"
      ],
      "metadata": {
        "id": "jaJtYbMBWybw"
      },
      "execution_count": 30,
      "outputs": []
    },
    {
      "cell_type": "markdown",
      "source": [
        "Import all the packages we need."
      ],
      "metadata": {
        "id": "PPMTT03Yp4vv"
      }
    },
    {
      "cell_type": "code",
      "execution_count": 3,
      "metadata": {
        "id": "yydjrhv0SNQW"
      },
      "outputs": [],
      "source": [
        "from transformers import AutoTokenizer, AutoModel\n",
        "from typing import List\n",
        "from openai import OpenAI\n",
        "import cohere\n",
        "from datasets import load_dataset\n",
        "from google.colab import userdata\n",
        "import torch\n",
        "import torch.nn.functional as F\n",
        "import time\n",
        "from torch import Tensor\n",
        "from transformers import AutoTokenizer, AutoModel\n",
        "from tqdm import tqdm"
      ]
    },
    {
      "cell_type": "markdown",
      "source": [
        "We'll test out the following embedding models."
      ],
      "metadata": {
        "id": "SBoflqr3qBLG"
      }
    },
    {
      "cell_type": "code",
      "source": [
        "E5_EMBEDDING_MODEL = \"intfloat/e5-base-v2\"\n",
        "MXBD_EMBEDDING_MODEL = \"mixedbread-ai/mxbai-embed-large-v1\"\n",
        "GTE_LARGE_EN = \"Alibaba-NLP/gte-large-en-v1.5\"\n",
        "JINA_AI = \"jinaai/jina-embeddings-v2-base-en\"\n",
        "OPEN_AI = \"open-ai\"\n",
        "COHERE = \"cohere\""
      ],
      "metadata": {
        "id": "CdV8SHRBSO30"
      },
      "execution_count": 4,
      "outputs": []
    },
    {
      "cell_type": "markdown",
      "source": [
        "Let's create a reference positive pair of documents i.e. somewhat related and a negative pair of documents.\n",
        "\n",
        "The cosine similarity scores of the positive pair and negative pair will be used to assess how well the embedding models listed above handle formatted text. Ideally the cosine similarity between unformatted and formatted documents should be 1 if they contain the same content.\n",
        "\n",
        "However some tokenizers might map formatted and unformatted unicode characters to different token ids, which may be undertrained or worse all formatted tokens might be mapped to an [UNK] token which is the case for a lot of the open source models built on top of **BERT**.\n",
        "\n",
        "This ultimately leads to non 1 cosine similarity scores. The reference positive and negative scores will therefore help us calibrate how well our embedding model deals with formatted text. Ideally we should still be closer to the score of the positive pair of docs."
      ],
      "metadata": {
        "id": "PYc-35RbqPOh"
      }
    },
    {
      "cell_type": "code",
      "source": [
        "ANCHOR_DOC = \"Will Taylor Swift make it to the Superbowl?\"\n",
        "NEGATIVE_DOC = \"A zebra grazes in the wild\"\n",
        "POSITIVE_DOC = \"The ads to lookout for at the Superbowl.\"\n",
        "MODELS = [E5_EMBEDDING_MODEL, JINA_AI, OPEN_AI, COHERE]"
      ],
      "metadata": {
        "id": "zUtkai_UqPkQ"
      },
      "execution_count": 5,
      "outputs": []
    },
    {
      "cell_type": "markdown",
      "source": [
        "A function to create bolded text."
      ],
      "metadata": {
        "id": "gbf0wg0Xr7tc"
      }
    },
    {
      "cell_type": "code",
      "source": [
        "def to_bold(text):\n",
        "    \"\"\"\n",
        "    This function was generated using GPT\n",
        "    \"\"\"\n",
        "    def bold_char(c):\n",
        "        if 'a' <= c <= 'z':\n",
        "            return chr(ord(c) + 0x1D41A - ord('a'))\n",
        "        elif 'A' <= c <= 'Z':\n",
        "            return chr(ord(c) + 0x1D400 - ord('A'))\n",
        "        elif '0' <= c <= '9':\n",
        "            return chr(ord(c) + 0x1D7CE - ord('0'))\n",
        "        else:\n",
        "            return c\n",
        "\n",
        "    return ''.join(bold_char(c) for c in text)\n",
        "\n",
        "# Example usage\n",
        "original_text = \"Hello World\"\n",
        "bolded_text = to_bold(original_text)\n",
        "print(bolded_text)\n"
      ],
      "metadata": {
        "colab": {
          "base_uri": "https://localhost:8080/"
        },
        "id": "DFc9QrSISQr_",
        "outputId": "12635e65-7aa7-45f0-a39b-31065a224ee6"
      },
      "execution_count": 6,
      "outputs": [
        {
          "output_type": "stream",
          "name": "stdout",
          "text": [
            "𝐇𝐞𝐥𝐥𝐨 𝐖𝐨𝐫𝐥𝐝\n"
          ]
        }
      ]
    },
    {
      "cell_type": "code",
      "source": [
        "sample_text = \"Hello World\"\n",
        "bolded_text = to_bold(sample_text)"
      ],
      "metadata": {
        "id": "QCAhpSSASUDq"
      },
      "execution_count": 7,
      "outputs": []
    },
    {
      "cell_type": "markdown",
      "source": [
        "Get a sample of formatted text for comparison using this free [tool](https://www.linkedin-makeover.com/linkedin-text-formatter/)."
      ],
      "metadata": {
        "id": "j9Qb0hvyT6Oa"
      }
    },
    {
      "cell_type": "code",
      "source": [
        "bolded_text == \"𝐇𝐞𝐥𝐥𝐨 𝐖𝐨𝐫𝐥𝐝\""
      ],
      "metadata": {
        "colab": {
          "base_uri": "https://localhost:8080/"
        },
        "id": "t4G5rb90SUdF",
        "outputId": "2bc85009-eb77-425a-b798-00f0b76c000d"
      },
      "execution_count": 8,
      "outputs": [
        {
          "output_type": "execute_result",
          "data": {
            "text/plain": [
              "True"
            ]
          },
          "metadata": {},
          "execution_count": 8
        }
      ]
    },
    {
      "cell_type": "markdown",
      "source": [
        "Let's load a 1000 sample documents from a dataset and create a dataset of bolded and plain documents."
      ],
      "metadata": {
        "id": "-kin0ZWusKwM"
      }
    },
    {
      "cell_type": "code",
      "source": [
        "\n",
        "ds = load_dataset(\"sentence-transformers/all-nli\", \"pair\", split=\"train[:1500]\")\n",
        "docs = list(set(ds[\"anchor\"]))[:1000]\n",
        "bolded_docs = [to_bold(doc) for doc in docs]"
      ],
      "metadata": {
        "colab": {
          "base_uri": "https://localhost:8080/",
          "height": 349,
          "referenced_widgets": [
            "723d81f41f2d4d35b19096ab3dec3ebf",
            "5f0efe259587479c8baa6d56f5c01380",
            "6629805f82cd48279365cdd6f8cfbfeb",
            "ec4c5c4f738948509e3fbaabf61dd22a",
            "729eeb1101924a96a3a2aad86d90805e",
            "c0ef1b54f451445a857f6f8117307e25",
            "a88b9e25a5f44a50a883bbf090845fbf",
            "c74c5eeb3e65474ea30f5e7ad6e4246e",
            "b52bc94562b74115a100d0d7536a6b77",
            "8b09dbb25e0f486a8cf60e571270de49",
            "a506fa7f37094c7889ab05fb1fcdba4d",
            "65fde3afdea3415f8ecfe8d6a6326974",
            "5444ec11b3e247f7ae954b01d5f475cf",
            "845c9c9276954bdab18bdbc4d24bb3e3",
            "eaa0410f838a4e28a4c7defb67a4b4dc",
            "505bcf1e284b4daa8cb511aba880e6d2",
            "0908498ea0394f398018cf070e84468e",
            "135ae18399634d77b975b7c1d7d338e6",
            "116be4b9c98447289f046f6c61f7e830",
            "4f7dfea9642049b8acdf79c045459598",
            "de7286bcd9a34202af64dce1bd77aa92",
            "6c2bfcf13306473e8dbc2b94b282d650",
            "7e991ad214cc4209b08b9a85fe5d5fd8",
            "d53aa160862b48a2ab4aabe26a854600",
            "be788297dc6843098d5ec0308b4e2b14",
            "fd0a4042cd494d4595857634ec578406",
            "45da9e15359e458cb95dfbeea8c28937",
            "1cb33e49c65e4782855901a174fbabc0",
            "6e0e230f21f44cc5b5404ed7bb41cb43",
            "83b9f56b475448a6a12bc7311137dd88",
            "940b837983314c3fadfd5dc26717cbb9",
            "e8e1ae9fa31e412fbdc7265ec4a73a24",
            "a7934b461a7a41719dcde4e7f65d54e9",
            "1e136e78c64d4677b47e959f61e7a75b",
            "cd57ce9322bd43b881fcec3d4a697954",
            "c3060310d36d4da0a0587a5255f090a2",
            "38a3e9f0c7034593a7f47f6c5397e912",
            "79d688f5f6cd4a5c871aaf10cc167dc5",
            "e1a3701381da42ac845644bf4eaa3bf1",
            "81521de45b6e4d06a1b01a162df0e30c",
            "1793c20644df4a37a3c26e3e7889c377",
            "350ea2c3f57e4fb395bf7357d7cdfff7",
            "14272f80a4c04550ac54a12721464676",
            "9892e43b01374d28b21fc40bfed9390a",
            "354854d53e174fd895f64b6badcac540",
            "5ba25f5f21944dc1af9b299312714019",
            "4239bacecde54340bcba8eb894af695b",
            "a711046a0f344b8fb9cf7be34e084af0",
            "973fa78ef84a40fa9865e425bf980155",
            "736cf3f300f145579defd69a2fe11023",
            "60e1e9b029054d1e954f26c1eb7148b3",
            "97e2828f863349df8dbeb688ef61b9da",
            "5f9028acfd884634a26117106fcbf32a",
            "70eb32ddc20e4c3882dbe3f648d2ff31",
            "c05f18145bfa4e218ec1593b24163bd7",
            "b187db9719e84e5da14ec37f2c7fcdeb",
            "8b92136606224c5eb4f375f8ec9a9702",
            "00eb014db5d3490987dda8f24fef241f",
            "e341bf511b9f46f695fc5372697330c6",
            "9348473b443c418cbc5560343ddcc35f",
            "9691d0188a5f4d29bc82cc0ba90bc1ff",
            "82d262b16c9a4becb706f8bf086323d9",
            "73a5c851bfbb41a6b40aa4973e314f82",
            "a85032b4d7bd490e86f59ea94807d8bb",
            "c55289c7839c4ae497e08f6ff9f81781",
            "66a881b3ac924882946ea308fa03cdce",
            "e7dbfe0f68aa46b7b4f87569dfb90007",
            "12ab7c784b5244d4be39764e93f9b5ea",
            "763421f0ada54a09b2e0e7a4661e5822",
            "0c184d8d280c4ba1b2e7b32a991c8968",
            "952966e773c94db8892683d4f1618ba1",
            "dd8ae5c4910045d1b026b53cc9024209",
            "2b11a93b95dd424291545b156c311a13",
            "0fd69c5d0d5548dd8382c10995f8ff9c",
            "46dadff66e9d49cd892551bd98784ffb",
            "933041d99b9a4d2d8c5e5207aef9f5bc",
            "39f03f79a45c4a5d8dee5d2cbaaa9114"
          ]
        },
        "id": "w1ycyNpJWuYX",
        "outputId": "f3c7866b-191c-4abc-cef5-d7b4e5656159"
      },
      "execution_count": 9,
      "outputs": [
        {
          "output_type": "stream",
          "name": "stderr",
          "text": [
            "/usr/local/lib/python3.10/dist-packages/huggingface_hub/utils/_token.py:89: UserWarning: \n",
            "The secret `HF_TOKEN` does not exist in your Colab secrets.\n",
            "To authenticate with the Hugging Face Hub, create a token in your settings tab (https://huggingface.co/settings/tokens), set it as secret in your Google Colab and restart your session.\n",
            "You will be able to reuse this secret in all of your notebooks.\n",
            "Please note that authentication is recommended but still optional to access public models or datasets.\n",
            "  warnings.warn(\n"
          ]
        },
        {
          "output_type": "display_data",
          "data": {
            "text/plain": [
              "Downloading readme:   0%|          | 0.00/5.15k [00:00<?, ?B/s]"
            ],
            "application/vnd.jupyter.widget-view+json": {
              "version_major": 2,
              "version_minor": 0,
              "model_id": "723d81f41f2d4d35b19096ab3dec3ebf"
            }
          },
          "metadata": {}
        },
        {
          "output_type": "display_data",
          "data": {
            "text/plain": [
              "Downloading data:   0%|          | 0.00/26.2M [00:00<?, ?B/s]"
            ],
            "application/vnd.jupyter.widget-view+json": {
              "version_major": 2,
              "version_minor": 0,
              "model_id": "65fde3afdea3415f8ecfe8d6a6326974"
            }
          },
          "metadata": {}
        },
        {
          "output_type": "display_data",
          "data": {
            "text/plain": [
              "Downloading data:   0%|          | 0.00/645k [00:00<?, ?B/s]"
            ],
            "application/vnd.jupyter.widget-view+json": {
              "version_major": 2,
              "version_minor": 0,
              "model_id": "7e991ad214cc4209b08b9a85fe5d5fd8"
            }
          },
          "metadata": {}
        },
        {
          "output_type": "display_data",
          "data": {
            "text/plain": [
              "Downloading data:   0%|          | 0.00/666k [00:00<?, ?B/s]"
            ],
            "application/vnd.jupyter.widget-view+json": {
              "version_major": 2,
              "version_minor": 0,
              "model_id": "1e136e78c64d4677b47e959f61e7a75b"
            }
          },
          "metadata": {}
        },
        {
          "output_type": "display_data",
          "data": {
            "text/plain": [
              "Generating train split:   0%|          | 0/314315 [00:00<?, ? examples/s]"
            ],
            "application/vnd.jupyter.widget-view+json": {
              "version_major": 2,
              "version_minor": 0,
              "model_id": "354854d53e174fd895f64b6badcac540"
            }
          },
          "metadata": {}
        },
        {
          "output_type": "display_data",
          "data": {
            "text/plain": [
              "Generating dev split:   0%|          | 0/6808 [00:00<?, ? examples/s]"
            ],
            "application/vnd.jupyter.widget-view+json": {
              "version_major": 2,
              "version_minor": 0,
              "model_id": "b187db9719e84e5da14ec37f2c7fcdeb"
            }
          },
          "metadata": {}
        },
        {
          "output_type": "display_data",
          "data": {
            "text/plain": [
              "Generating test split:   0%|          | 0/6831 [00:00<?, ? examples/s]"
            ],
            "application/vnd.jupyter.widget-view+json": {
              "version_major": 2,
              "version_minor": 0,
              "model_id": "e7dbfe0f68aa46b7b4f87569dfb90007"
            }
          },
          "metadata": {}
        }
      ]
    },
    {
      "cell_type": "code",
      "source": [
        "docs[0]"
      ],
      "metadata": {
        "colab": {
          "base_uri": "https://localhost:8080/",
          "height": 36
        },
        "id": "6vcNhdSRXzt2",
        "outputId": "cbc5c001-9a7a-46ba-8420-bae84c8c0023"
      },
      "execution_count": 10,
      "outputs": [
        {
          "output_type": "execute_result",
          "data": {
            "text/plain": [
              "'There is a woman holding a baby, along with a man with a save the children bag.'"
            ],
            "application/vnd.google.colaboratory.intrinsic+json": {
              "type": "string"
            }
          },
          "metadata": {},
          "execution_count": 10
        }
      ]
    },
    {
      "cell_type": "code",
      "source": [
        "bolded_docs[0]"
      ],
      "metadata": {
        "colab": {
          "base_uri": "https://localhost:8080/",
          "height": 36
        },
        "id": "C-eYZTJjYagb",
        "outputId": "372ce1a2-4998-4295-915e-7998f0f5607c"
      },
      "execution_count": 11,
      "outputs": [
        {
          "output_type": "execute_result",
          "data": {
            "text/plain": [
              "'𝐓𝐡𝐞𝐫𝐞 𝐢𝐬 𝐚 𝐰𝐨𝐦𝐚𝐧 𝐡𝐨𝐥𝐝𝐢𝐧𝐠 𝐚 𝐛𝐚𝐛𝐲, 𝐚𝐥𝐨𝐧𝐠 𝐰𝐢𝐭𝐡 𝐚 𝐦𝐚𝐧 𝐰𝐢𝐭𝐡 𝐚 𝐬𝐚𝐯𝐞 𝐭𝐡𝐞 𝐜𝐡𝐢𝐥𝐝𝐫𝐞𝐧 𝐛𝐚𝐠.'"
            ],
            "application/vnd.google.colaboratory.intrinsic+json": {
              "type": "string"
            }
          },
          "metadata": {},
          "execution_count": 11
        }
      ]
    },
    {
      "cell_type": "markdown",
      "source": [
        "Add in your API keys to test the embedding models provided by OPEN AI and Cohere."
      ],
      "metadata": {
        "id": "An1ztAG7scic"
      }
    },
    {
      "cell_type": "code",
      "source": [
        "open_ai_key = userdata.get('OPENAI_API_KEY')\n",
        "cohere_key = userdata.get('COHERE_API_KEY')"
      ],
      "metadata": {
        "id": "rCqO7jfufGYh"
      },
      "execution_count": 12,
      "outputs": []
    },
    {
      "cell_type": "markdown",
      "source": [
        "Let's create functions to get the embedding models and their tokenizers if they are on HF or the corresponding API clients for private vendors."
      ],
      "metadata": {
        "id": "Ve7y9R3xs2Hu"
      }
    },
    {
      "cell_type": "code",
      "source": [
        "def get_model_and_tokenizer(model_name: str):\n",
        "  \"\"\"\n",
        "  Returns the model and tokenizer for the given model name.\n",
        "  \"\"\"\n",
        "  if model_name == \"open-ai\":\n",
        "    client = OpenAI(api_key=open_ai_key)\n",
        "    return client, None\n",
        "  elif model_name == \"cohere\":\n",
        "    client = cohere.Client(cohere_key)\n",
        "    return client, None\n",
        "  else:\n",
        "    embedding_model = AutoModel.from_pretrained(model_name, device_map=\"cuda\", trust_remote_code=True)\n",
        "    tokenizer = AutoTokenizer.from_pretrained(model_name)\n",
        "    return embedding_model, tokenizer"
      ],
      "metadata": {
        "id": "CMHbHD8SSgbj"
      },
      "execution_count": 13,
      "outputs": []
    },
    {
      "cell_type": "markdown",
      "source": [
        "Some open source embedding models prefer CLS pooling while others prefer mean pooling to obtain the final embedding representation of a document."
      ],
      "metadata": {
        "id": "citzKtyYtAZA"
      }
    },
    {
      "cell_type": "code",
      "source": [
        "def cls_pooling(outputs: torch.Tensor):\n",
        "  \"\"\"\n",
        "  Returns the cls pooling of the last hidden states.\n",
        "  \"\"\"\n",
        "  outputs = outputs[:, 0]\n",
        "  return outputs\n",
        "\n",
        "def average_pool(last_hidden_states: Tensor,\n",
        "                 attention_mask: Tensor) -> Tensor:\n",
        "    \"\"\"\n",
        "    Returns the average pooling of the last hidden states.\n",
        "    \"\"\"\n",
        "    last_hidden = last_hidden_states.masked_fill(~attention_mask[..., None].bool(), 0.0)\n",
        "    return last_hidden.sum(dim=1) / attention_mask.sum(dim=1)[..., None]\n",
        "\n",
        "@torch.inference_mode\n",
        "def get_embeddings(input_texts: List[str], strategy: str =\"avg\", model_name: str = E5_EMBEDDING_MODEL) -> Tensor:\n",
        "  \"\"\"\n",
        "  Returns the embeddings for the given input texts.\n",
        "  :param input_texts: List of input texts.\n",
        "  :param strategy: Strategy to use for pooling the embeddings.\n",
        "  :param model_name: Name of the embedding model.\n",
        "  :return: Tensor of embeddings.\n",
        "  \"\"\"\n",
        "  embedding_model, tokenizer = get_model_and_tokenizer(model_name)\n",
        "  if model_name == OPEN_AI:\n",
        "    api_response = embedding_model.embeddings.create(input = input_texts, model=\"text-embedding-3-small\").data\n",
        "    embeddings = []\n",
        "    for emb in api_response:\n",
        "      embeddings.append(emb.embedding)\n",
        "    return torch.tensor(embeddings)\n",
        "  if model_name == COHERE:\n",
        "    embeddings = []\n",
        "    for batch_ind in tqdm(range(0, len(input_texts), 96)):\n",
        "      batch = input_texts[batch_ind:batch_ind+96]\n",
        "      api_response = embedding_model.embed(texts=batch, model=\"embed-english-v3.0\", input_type=\"clustering\")\n",
        "      embeddings.extend(api_response.embeddings)\n",
        "      # Trial key only supports 5 requests per minute\n",
        "      time.sleep(12)\n",
        "    return torch.tensor(embeddings)\n",
        "  else:\n",
        "    # Tokenize the input texts\n",
        "    batch_dict = tokenizer(input_texts, max_length=512, padding=True, truncation=True, return_tensors='pt').to(\"cuda\")\n",
        "    if model_name == JINA_AI:\n",
        "      embeddings = torch.tensor(embedding_model.encode(input_texts))\n",
        "    else:\n",
        "      outputs = embedding_model(**batch_dict)\n",
        "      if strategy == \"cls\":\n",
        "        embeddings = cls_pooling(outputs.last_hidden_state)\n",
        "      else:\n",
        "        embeddings = average_pool(outputs.last_hidden_state, batch_dict['attention_mask'])\n",
        "\n",
        "    embeddings = F.normalize(embeddings, p=2, dim=1)\n",
        "    # normalize embeddings\n",
        "    return embeddings.detach().cpu()"
      ],
      "metadata": {
        "id": "b6rv1LGiUVa2"
      },
      "execution_count": 14,
      "outputs": []
    },
    {
      "cell_type": "markdown",
      "source": [
        "## Results\n",
        "\n",
        "Let's now compute boxplots for the cosine similarities of each embedding model. Notice how for all models our median is always below the reference positive cosine similarity score indicating that none of these models properly account for formatted unicode.\n",
        "\n",
        "In some cases we see that the similarity scores between the formatted and unformatted text is lower than our negative anchor score. Highlighting the failure of these models to deal with formatted text."
      ],
      "metadata": {
        "id": "hDrVFToCx4Lk"
      }
    },
    {
      "cell_type": "code",
      "source": [
        "from torch import nn\n",
        "import seaborn as sns\n",
        "import matplotlib.pyplot as plt\n",
        "import pandas as pd\n",
        "\n",
        "cos = nn.CosineSimilarity(dim=1, eps=1e-6)\n",
        "\n",
        "for model_name in MODELS:\n",
        "  embs = get_embeddings(docs, model_name=model_name)\n",
        "  bolded_embs = get_embeddings(bolded_docs, model_name=model_name)\n",
        "  calibration_positive_embedding = get_embeddings([ANCHOR_DOC, POSITIVE_DOC], model_name=model_name)\n",
        "  reference_positive_cos_sim = cos(calibration_positive_embedding[:1], calibration_positive_embedding[1:])\n",
        "  calibration_negative_embedding = get_embeddings([ANCHOR_DOC, NEGATIVE_DOC], model_name=model_name)\n",
        "  reference_negative_cos_sim = cos(calibration_negative_embedding[:1], calibration_negative_embedding[1:])\n",
        "  # Sample cosine similarity scores\n",
        "  cosine_sim_scores = torch.concat([cos(embs, bolded_embs), reference_negative_cos_sim, reference_positive_cos_sim])\n",
        "  reference_negative_cos_sim = reference_negative_cos_sim.numpy()[0]\n",
        "  reference_positive_cos_sim = reference_positive_cos_sim.numpy()[0]\n",
        "  # Create a DataFrame\n",
        "  data = pd.DataFrame({\n",
        "      \"Cosine Similarity Scores\": cosine_sim_scores.numpy()\n",
        "  })\n",
        "\n",
        "  # Create a box plot\n",
        "  plt.figure(figsize=(10, 3))\n",
        "  sns.boxplot(x=\"Cosine Similarity Scores\", data=data, orient='h', color='gray', saturation=0.5)\n",
        "  plt.title(f\"Box Plot of Cosine Similarity Scores Using {model_name}\")\n",
        "\n",
        "  # Calculate summary statistics\n",
        "  min_val = data[\"Cosine Similarity Scores\"].min()\n",
        "  q1 = data[\"Cosine Similarity Scores\"].quantile(0.25)\n",
        "  median = data[\"Cosine Similarity Scores\"].median()\n",
        "  q3 = data[\"Cosine Similarity Scores\"].quantile(0.75)\n",
        "  max_val = data[\"Cosine Similarity Scores\"].max()\n",
        "\n",
        "  # Annotate the plot\n",
        "  plt.text(min_val, 0.20, f'Min: {min_val:.2f}', horizontalalignment='left', verticalalignment='center', rotation=40)\n",
        "  plt.text(q1, 0.20, f'Q1: {q1:.2f}', horizontalalignment='left', verticalalignment='center', rotation=40)\n",
        "  plt.text(median, 0.20, f'Median: {median:.2f}', horizontalalignment='left', verticalalignment='center', rotation=40)\n",
        "  plt.text(q3, 0.20, f'Q3: {q3:.2f}', horizontalalignment='left', verticalalignment='center', rotation=40)\n",
        "  plt.text(max_val, 0.20, f'Max: {max_val:.2f}', horizontalalignment='left', verticalalignment='center', rotation=40)\n",
        "  plt.text(reference_positive_cos_sim, 0.20, f'Ref Pos Cos Sim: {reference_positive_cos_sim:.2f}', horizontalalignment='left', verticalalignment='bottom', rotation=40, color='green')\n",
        "  plt.text(reference_negative_cos_sim, 0.20, f'Ref Neg Cos Sim: {reference_negative_cos_sim:.2f}', horizontalalignment='left', verticalalignment='bottom', rotation=40, color='red')\n",
        "  # Show the plot\n",
        "  plt.show()\n"
      ],
      "metadata": {
        "colab": {
          "base_uri": "https://localhost:8080/",
          "height": 1000
        },
        "id": "c9y3fQYrniJd",
        "outputId": "294e38a6-0c8f-4c55-c99c-6fdf53053f8d"
      },
      "execution_count": 29,
      "outputs": [
        {
          "output_type": "display_data",
          "data": {
            "text/plain": [
              "<Figure size 1000x300 with 1 Axes>"
            ],
            "image/png": "[encoded data removed]"
          },
          "metadata": {}
        },
        {
          "output_type": "display_data",
          "data": {
            "text/plain": [
              "<Figure size 1000x300 with 1 Axes>"
            ],
            "image/png": "[encoded data removed]"
          },
          "metadata": {}
        },
        {
          "output_type": "display_data",
          "data": {
            "text/plain": [
              "<Figure size 1000x300 with 1 Axes>"
            ],
            "image/png": "[encoded data removed]"
          },
          "metadata": {}
        },
        {
          "output_type": "stream",
          "name": "stderr",
          "text": [
            "100%|██████████| 11/11 [02:26<00:00, 13.35s/it]\n",
            "100%|██████████| 11/11 [02:25<00:00, 13.25s/it]\n",
            "100%|██████████| 1/1 [00:12<00:00, 12.19s/it]\n",
            "100%|██████████| 1/1 [00:12<00:00, 12.15s/it]\n"
          ]
        },
        {
          "output_type": "display_data",
          "data": {
            "text/plain": [
              "<Figure size 1000x300 with 1 Axes>"
            ],
            "image/png": "[encoded data removed]"
          },
          "metadata": {}
        }
      ]
    },
    {
      "cell_type": "markdown",
      "source": [
        "## Solution\n",
        "\n",
        "A library called [unidecode](https://pypi.org/project/Unidecode/) to pre-process your text."
      ],
      "metadata": {
        "id": "bKblnhnhyrtn"
      }
    },
    {
      "cell_type": "code",
      "source": [
        "!pip install unidecode\n"
      ],
      "metadata": {
        "id": "e4lbq9ThWAbL",
        "colab": {
          "base_uri": "https://localhost:8080/"
        },
        "outputId": "925b12dd-dc36-41e5-f130-b24597212b1a"
      },
      "execution_count": 16,
      "outputs": [
        {
          "output_type": "stream",
          "name": "stdout",
          "text": [
            "Collecting unidecode\n",
            "  Downloading Unidecode-1.3.8-py3-none-any.whl (235 kB)\n",
            "\u001b[2K     \u001b[90m━━━━━━━━━━━━━━━━━━━━━━━━━━━━━━━━━━━━━━━━\u001b[0m \u001b[32m235.5/235.5 kB\u001b[0m \u001b[31m5.1 MB/s\u001b[0m eta \u001b[36m0:00:00\u001b[0m\n",
            "\u001b[?25hInstalling collected packages: unidecode\n",
            "Successfully installed unidecode-1.3.8\n"
          ]
        }
      ]
    },
    {
      "cell_type": "code",
      "source": [
        "from unidecode import unidecode\n",
        "print(unidecode(bolded_text))"
      ],
      "metadata": {
        "colab": {
          "base_uri": "https://localhost:8080/"
        },
        "id": "DH5q8NpUWHT-",
        "outputId": "d6559723-bd45-4118-c14f-efa212259d1e"
      },
      "execution_count": 19,
      "outputs": [
        {
          "output_type": "stream",
          "name": "stdout",
          "text": [
            "Hello World\n"
          ]
        }
      ]
    },
    {
      "cell_type": "code",
      "source": [],
      "metadata": {
        "id": "sGxH5fOMWKGS"
      },
      "execution_count": null,
      "outputs": []
    }
  ]
}