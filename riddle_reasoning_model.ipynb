{
 "cells": [
  {
   "cell_type": "markdown",
   "id": "948714c1",
   "metadata": {},
   "source": [
    "# Riddle LLama\n",
    "This notebook trains a reasoning model to answer riddles. Riddles are reasoning heavy driven tasks. A model needs to be able to learn to associate different facts/concepts together to coherently come up with the right answer."
   ]
  },
  {
   "cell_type": "code",
   "execution_count": 1,
   "id": "7488700a",
   "metadata": {},
   "outputs": [
    {
     "name": "stderr",
     "output_type": "stream",
     "text": [
      "c:\\Users\\pramo\\anaconda3\\envs\\PromptRiddler\\lib\\site-packages\\tqdm\\auto.py:21: TqdmWarning: IProgress not found. Please update jupyter and ipywidgets. See https://ipywidgets.readthedocs.io/en/stable/user_install.html\n",
      "  from .autonotebook import tqdm as notebook_tqdm\n"
     ]
    }
   ],
   "source": [
    "from datasets import load_dataset"
   ]
  },
  {
   "cell_type": "code",
   "execution_count": 2,
   "id": "f7cf64cd",
   "metadata": {},
   "outputs": [
    {
     "name": "stderr",
     "output_type": "stream",
     "text": [
      "Downloading readme: 100%|██████████| 543/543 [00:00<00:00, 262kB/s]\n",
      "Downloading data: 100%|██████████| 3.33M/3.33M [00:23<00:00, 143kB/s]\n",
      "Downloading data files: 100%|██████████| 1/1 [00:23<00:00, 23.34s/it]\n",
      "Extracting data files: 100%|██████████| 1/1 [00:00<00:00, 14.62it/s]\n",
      "Generating train split: 100%|██████████| 26502/26502 [00:00<00:00, 128858.18 examples/s]\n"
     ]
    }
   ],
   "source": [
    "riddles_dataset = load_dataset(\"mlfoundations-dev/riddle_sense\")"
   ]
  },
  {
   "cell_type": "code",
   "execution_count": 15,
   "id": "b5a33cde",
   "metadata": {},
   "outputs": [
    {
     "data": {
      "text/plain": [
       "{'stem': 'To avoid problems when going somewhere, whats a crucial step you should take?',\n",
       " 'choices': [{'label': 'A', 'text': 'plan ahead'},\n",
       "  {'label': 'B', 'text': 'find out where'},\n",
       "  {'label': 'C', 'text': 'highway'},\n",
       "  {'label': 'D', 'text': 'know where to go'},\n",
       "  {'label': 'E', 'text': 'get going'}],\n",
       " 'question_concept': 'go somewhere'}"
      ]
     },
     "execution_count": 15,
     "metadata": {},
     "output_type": "execute_result"
    }
   ],
   "source": [
    "riddles_dataset[\"train\"][7890][\"question\"]"
   ]
  },
  {
   "cell_type": "code",
   "execution_count": 17,
   "id": "a0acc254",
   "metadata": {},
   "outputs": [],
   "source": [
    "# Load and prep dataset\n",
    "SYSTEM_PROMPT = \"\"\"\n",
    "Respond in the following format:\n",
    "<reasoning>\n",
    "...\n",
    "</reasoning>\n",
    "<answer>\n",
    "...\n",
    "</answer>\n",
    "\"\"\"\n",
    "\n",
    "XML_COT_FORMAT = \"\"\"\\\n",
    "<reasoning>\n",
    "{reasoning}\n",
    "</reasoning>\n",
    "<answer>\n",
    "{answer}\n",
    "</answer>\n",
    "\"\"\"\n"
   ]
  },
  {
   "cell_type": "code",
   "execution_count": 18,
   "id": "0e9d5249",
   "metadata": {},
   "outputs": [],
   "source": [
    "reformatted_riddles_dataset = []\n",
    "labels = {}\n",
    "for doc in riddles_dataset[\"train\"]:\n",
    "    for choice in doc[\"question\"][\"choices\"]:\n",
    "        labels[choice[\"label\"]] = choice[\"text\"]\n",
    "    \n",
    "    answer = labels[doc[\"answerKey\"]]\n",
    "    prompt= [\n",
    "        {\"role\": \"system\", \"content\": SYSTEM_PROMPT},\n",
    "        {\"role\": \"user\", \"content\": doc[\"question\"][\"stem\"]},\n",
    "    ]\n",
    "    reformatted_riddles_dataset.append({\"prompt\": prompt, \"answer\": answer})"
   ]
  },
  {
   "cell_type": "code",
   "execution_count": 19,
   "id": "6f235fd9",
   "metadata": {},
   "outputs": [],
   "source": [
    "from sklearn.model_selection import train_test_split\n",
    "train, not_train = train_test_split(reformatted_riddles_dataset, test_size=0.2, random_state=42)\n",
    "dev, test = train_test_split(not_train, test_size=0.5, random_state=42)"
   ]
  },
  {
   "cell_type": "code",
   "execution_count": 20,
   "id": "cf74b9e1",
   "metadata": {},
   "outputs": [],
   "source": [
    "## Convert list of dicts to a huggingface dataset\n",
    "from datasets import Dataset\n",
    "train_dataset = Dataset.from_list(train)\n",
    "dev_dataset = Dataset.from_list(dev)\n",
    "test_dataset = Dataset.from_list(test)"
   ]
  },
  {
   "cell_type": "code",
   "execution_count": 22,
   "id": "1993615c",
   "metadata": {},
   "outputs": [
    {
     "data": {
      "text/plain": [
       "{'prompt': [{'content': '\\nRespond in the following format:\\n<reasoning>\\n...\\n</reasoning>\\n<answer>\\n...\\n</answer>\\n',\n",
       "   'role': 'system'},\n",
       "  {'content': 'HOw do you carry potatos home?', 'role': 'user'}],\n",
       " 'answer': 'grocery bag'}"
      ]
     },
     "execution_count": 22,
     "metadata": {},
     "output_type": "execute_result"
    }
   ],
   "source": [
    "train_dataset[0]"
   ]
  },
  {
   "cell_type": "code",
   "execution_count": 16,
   "id": "dbbccb49",
   "metadata": {},
   "outputs": [
    {
     "name": "stdout",
     "output_type": "stream",
     "text": [
      "Train size: 21201\n",
      "Dev size: 2650\n",
      "Test size: 2651\n"
     ]
    }
   ],
   "source": [
    "print(f\"Train size: {len(train)}\")\n",
    "print(f\"Dev size: {len(dev)}\")\n",
    "print(f\"Test size: {len(test)}\")"
   ]
  },
  {
   "cell_type": "code",
   "execution_count": null,
   "id": "5a175265",
   "metadata": {},
   "outputs": [],
   "source": [
    "%%capture\n",
    "import os\n",
    "if \"COLAB_\" not in \"\".join(os.environ.keys()):\n",
    "    !pip install unsloth vllm\n",
    "else:\n",
    "    # [NOTE] Do the below ONLY in Colab! Use [[pip install unsloth vllm]]\n",
    "    !pip install --no-deps unsloth vllm"
   ]
  },
  {
   "cell_type": "code",
   "execution_count": null,
   "id": "577384de",
   "metadata": {},
   "outputs": [],
   "source": [
    "#@title Colab Extra Install { display-mode: \"form\" }\n",
    "%%capture\n",
    "import os\n",
    "if \"COLAB_\" not in \"\".join(os.environ.keys()):\n",
    "    !pip install unsloth vllm\n",
    "else:\n",
    "    !pip install --no-deps unsloth vllm\n",
    "    # [NOTE] Do the below ONLY in Colab! Use [[pip install unsloth vllm]]\n",
    "    # Skip restarting message in Colab\n",
    "    import sys, re, requests; modules = list(sys.modules.keys())\n",
    "    for x in modules: sys.modules.pop(x) if \"PIL\" in x or \"google\" in x else None\n",
    "    !pip install --no-deps bitsandbytes accelerate xformers==0.0.29.post3 peft \"trl==0.15.2\" triton cut_cross_entropy unsloth_zoo\n",
    "    !pip install sentencepiece protobuf datasets huggingface_hub hf_transfer\n",
    "    \n",
    "    # vLLM requirements - vLLM breaks Colab due to reinstalling numpy\n",
    "    f = requests.get(\"https://raw.githubusercontent.com/vllm-project/vllm/refs/heads/main/requirements/common.txt\").content\n",
    "    with open(\"vllm_requirements.txt\", \"wb\") as file:\n",
    "        file.write(re.sub(rb\"(transformers|numpy|xformers)[^\\n]{1,}\\n\", b\"\", f))\n",
    "    !pip install -r vllm_requirements.txt"
   ]
  },
  {
   "cell_type": "markdown",
   "id": "682d471a",
   "metadata": {},
   "source": [
    "### Unsloth\n",
    "Load up `Qwen 2.5 3B Instruct`, and set parameters"
   ]
  },
  {
   "cell_type": "code",
   "execution_count": null,
   "id": "96a9dc64",
   "metadata": {},
   "outputs": [],
   "source": [
    "from unsloth import FastLanguageModel, is_bfloat16_supported\n",
    "import torch\n",
    "max_seq_length = 1024 # Can increase for longer reasoning traces\n",
    "lora_rank = 64 # Larger rank = smarter, but slower\n",
    "\n",
    "model, tokenizer = FastLanguageModel.from_pretrained(\n",
    "    model_name = \"Qwen/Qwen2.5-3B-Instruct\",\n",
    "    max_seq_length = max_seq_length,\n",
    "    load_in_4bit = True, # False for LoRA 16bit\n",
    "    fast_inference = True, # Enable vLLM fast inference\n",
    "    max_lora_rank = lora_rank,\n",
    "    gpu_memory_utilization = 0.5, # Reduce if out of memory\n",
    ")\n",
    "\n",
    "model = FastLanguageModel.get_peft_model(\n",
    "    model,\n",
    "    r = lora_rank, # Choose any number > 0 ! Suggested 8, 16, 32, 64, 128\n",
    "    target_modules = [\n",
    "        \"q_proj\", \"k_proj\", \"v_proj\", \"o_proj\",\n",
    "        \"gate_proj\", \"up_proj\", \"down_proj\",\n",
    "    ], # Remove QKVO if out of memory\n",
    "    lora_alpha = lora_rank,\n",
    "    use_gradient_checkpointing = \"unsloth\", # Enable long context finetuning\n",
    "    random_state = 3407,\n",
    ")"
   ]
  }
 ],
 "metadata": {
  "kernelspec": {
   "display_name": "PromptRiddler",
   "language": "python",
   "name": "python3"
  },
  "language_info": {
   "codemirror_mode": {
    "name": "ipython",
    "version": 3
   },
   "file_extension": ".py",
   "mimetype": "text/x-python",
   "name": "python",
   "nbconvert_exporter": "python",
   "pygments_lexer": "ipython3",
   "version": "3.10.9"
  }
 },
 "nbformat": 4,
 "nbformat_minor": 5
}
