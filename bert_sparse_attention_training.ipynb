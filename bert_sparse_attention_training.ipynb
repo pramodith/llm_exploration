{
  "cells": [
    {
      "cell_type": "markdown",
      "metadata": {
        "id": "view-in-github",
        "colab_type": "text"
      },
      "source": [
        "<a href=\"https://colab.research.google.com/github/pramodith/llm_exploration/blob/bert_sparse_attention_training/bert_sparse_attention_training.ipynb\" target=\"_parent\"><img src=\"https://colab.research.google.com/assets/colab-badge.svg\" alt=\"Open In Colab\"/></a>"
      ]
    },
    {
      "cell_type": "markdown",
      "metadata": {
        "id": "dWhWL9msORXO"
      },
      "source": [
        "# Exploring the affects of custom Sparse Attention\n",
        "In our prior notebook, we found that both encoder-only and decoder-only models offload a significant portion of their attention scores to **sink tokens**. We identified that these sink tokens tend to be either special tokens like **[CLS], [SEP]** or tokens corresponding to **punctuations**. The consistence display of this phenomenon across model architectures and inputs makes one question the relevance of dense self-attention.\n",
        "\n",
        "In this notebook we'll explore the performance of BERT by creating custom attention masks, which will be sparse in nature. We'll create a unique mask per each token, where all tokens attend to special tokens and the k tokens in their neighborhood. When visualized the tokens along a diagonal of size 2*k+1 and the first anad last tokens (in the case of BERT) being attended to. We'll also explore the effects of allowing dense attention in some layers and sparse attention in the rest.\n",
        "\n",
        "We'll assess the downstream performance of the models that leverage this type of custom attention mask on some commonly used datasets for benchmarking like [TBD]."
      ]
    },
    {
      "cell_type": "code",
      "execution_count": 1,
      "metadata": {
        "colab": {
          "base_uri": "https://localhost:8080/"
        },
        "id": "mBBUafqnJPeP",
        "outputId": "b424264a-0af2-47a9-df24-5411aa81c886"
      },
      "outputs": [
        {
          "output_type": "stream",
          "name": "stdout",
          "text": [
            "Requirement already satisfied: transformers in /usr/local/lib/python3.10/dist-packages (4.35.2)\n",
            "Requirement already satisfied: filelock in /usr/local/lib/python3.10/dist-packages (from transformers) (3.13.1)\n",
            "Requirement already satisfied: huggingface-hub<1.0,>=0.16.4 in /usr/local/lib/python3.10/dist-packages (from transformers) (0.19.4)\n",
            "Requirement already satisfied: numpy>=1.17 in /usr/local/lib/python3.10/dist-packages (from transformers) (1.23.5)\n",
            "Requirement already satisfied: packaging>=20.0 in /usr/local/lib/python3.10/dist-packages (from transformers) (23.2)\n",
            "Requirement already satisfied: pyyaml>=5.1 in /usr/local/lib/python3.10/dist-packages (from transformers) (6.0.1)\n",
            "Requirement already satisfied: regex!=2019.12.17 in /usr/local/lib/python3.10/dist-packages (from transformers) (2023.6.3)\n",
            "Requirement already satisfied: requests in /usr/local/lib/python3.10/dist-packages (from transformers) (2.31.0)\n",
            "Requirement already satisfied: tokenizers<0.19,>=0.14 in /usr/local/lib/python3.10/dist-packages (from transformers) (0.15.0)\n",
            "Requirement already satisfied: safetensors>=0.3.1 in /usr/local/lib/python3.10/dist-packages (from transformers) (0.4.1)\n",
            "Requirement already satisfied: tqdm>=4.27 in /usr/local/lib/python3.10/dist-packages (from transformers) (4.66.1)\n",
            "Requirement already satisfied: fsspec>=2023.5.0 in /usr/local/lib/python3.10/dist-packages (from huggingface-hub<1.0,>=0.16.4->transformers) (2023.6.0)\n",
            "Requirement already satisfied: typing-extensions>=3.7.4.3 in /usr/local/lib/python3.10/dist-packages (from huggingface-hub<1.0,>=0.16.4->transformers) (4.5.0)\n",
            "Requirement already satisfied: charset-normalizer<4,>=2 in /usr/local/lib/python3.10/dist-packages (from requests->transformers) (3.3.2)\n",
            "Requirement already satisfied: idna<4,>=2.5 in /usr/local/lib/python3.10/dist-packages (from requests->transformers) (3.6)\n",
            "Requirement already satisfied: urllib3<3,>=1.21.1 in /usr/local/lib/python3.10/dist-packages (from requests->transformers) (2.0.7)\n",
            "Requirement already satisfied: certifi>=2017.4.17 in /usr/local/lib/python3.10/dist-packages (from requests->transformers) (2023.11.17)\n",
            "Requirement already satisfied: datasets in /usr/local/lib/python3.10/dist-packages (2.15.0)\n",
            "Requirement already satisfied: numpy>=1.17 in /usr/local/lib/python3.10/dist-packages (from datasets) (1.23.5)\n",
            "Requirement already satisfied: pyarrow>=8.0.0 in /usr/local/lib/python3.10/dist-packages (from datasets) (10.0.1)\n",
            "Requirement already satisfied: pyarrow-hotfix in /usr/local/lib/python3.10/dist-packages (from datasets) (0.6)\n",
            "Requirement already satisfied: dill<0.3.8,>=0.3.0 in /usr/local/lib/python3.10/dist-packages (from datasets) (0.3.7)\n",
            "Requirement already satisfied: pandas in /usr/local/lib/python3.10/dist-packages (from datasets) (1.5.3)\n",
            "Requirement already satisfied: requests>=2.19.0 in /usr/local/lib/python3.10/dist-packages (from datasets) (2.31.0)\n",
            "Requirement already satisfied: tqdm>=4.62.1 in /usr/local/lib/python3.10/dist-packages (from datasets) (4.66.1)\n",
            "Requirement already satisfied: xxhash in /usr/local/lib/python3.10/dist-packages (from datasets) (3.4.1)\n",
            "Requirement already satisfied: multiprocess in /usr/local/lib/python3.10/dist-packages (from datasets) (0.70.15)\n",
            "Requirement already satisfied: fsspec[http]<=2023.10.0,>=2023.1.0 in /usr/local/lib/python3.10/dist-packages (from datasets) (2023.6.0)\n",
            "Requirement already satisfied: aiohttp in /usr/local/lib/python3.10/dist-packages (from datasets) (3.9.1)\n",
            "Requirement already satisfied: huggingface-hub>=0.18.0 in /usr/local/lib/python3.10/dist-packages (from datasets) (0.19.4)\n",
            "Requirement already satisfied: packaging in /usr/local/lib/python3.10/dist-packages (from datasets) (23.2)\n",
            "Requirement already satisfied: pyyaml>=5.1 in /usr/local/lib/python3.10/dist-packages (from datasets) (6.0.1)\n",
            "Requirement already satisfied: attrs>=17.3.0 in /usr/local/lib/python3.10/dist-packages (from aiohttp->datasets) (23.1.0)\n",
            "Requirement already satisfied: multidict<7.0,>=4.5 in /usr/local/lib/python3.10/dist-packages (from aiohttp->datasets) (6.0.4)\n",
            "Requirement already satisfied: yarl<2.0,>=1.0 in /usr/local/lib/python3.10/dist-packages (from aiohttp->datasets) (1.9.4)\n",
            "Requirement already satisfied: frozenlist>=1.1.1 in /usr/local/lib/python3.10/dist-packages (from aiohttp->datasets) (1.4.0)\n",
            "Requirement already satisfied: aiosignal>=1.1.2 in /usr/local/lib/python3.10/dist-packages (from aiohttp->datasets) (1.3.1)\n",
            "Requirement already satisfied: async-timeout<5.0,>=4.0 in /usr/local/lib/python3.10/dist-packages (from aiohttp->datasets) (4.0.3)\n",
            "Requirement already satisfied: filelock in /usr/local/lib/python3.10/dist-packages (from huggingface-hub>=0.18.0->datasets) (3.13.1)\n",
            "Requirement already satisfied: typing-extensions>=3.7.4.3 in /usr/local/lib/python3.10/dist-packages (from huggingface-hub>=0.18.0->datasets) (4.5.0)\n",
            "Requirement already satisfied: charset-normalizer<4,>=2 in /usr/local/lib/python3.10/dist-packages (from requests>=2.19.0->datasets) (3.3.2)\n",
            "Requirement already satisfied: idna<4,>=2.5 in /usr/local/lib/python3.10/dist-packages (from requests>=2.19.0->datasets) (3.6)\n",
            "Requirement already satisfied: urllib3<3,>=1.21.1 in /usr/local/lib/python3.10/dist-packages (from requests>=2.19.0->datasets) (2.0.7)\n",
            "Requirement already satisfied: certifi>=2017.4.17 in /usr/local/lib/python3.10/dist-packages (from requests>=2.19.0->datasets) (2023.11.17)\n",
            "Requirement already satisfied: python-dateutil>=2.8.1 in /usr/local/lib/python3.10/dist-packages (from pandas->datasets) (2.8.2)\n",
            "Requirement already satisfied: pytz>=2020.1 in /usr/local/lib/python3.10/dist-packages (from pandas->datasets) (2023.3.post1)\n",
            "Requirement already satisfied: six>=1.5 in /usr/local/lib/python3.10/dist-packages (from python-dateutil>=2.8.1->pandas->datasets) (1.16.0)\n",
            "Requirement already satisfied: accelerate in /usr/local/lib/python3.10/dist-packages (0.25.0)\n",
            "Requirement already satisfied: numpy>=1.17 in /usr/local/lib/python3.10/dist-packages (from accelerate) (1.23.5)\n",
            "Requirement already satisfied: packaging>=20.0 in /usr/local/lib/python3.10/dist-packages (from accelerate) (23.2)\n",
            "Requirement already satisfied: psutil in /usr/local/lib/python3.10/dist-packages (from accelerate) (5.9.5)\n",
            "Requirement already satisfied: pyyaml in /usr/local/lib/python3.10/dist-packages (from accelerate) (6.0.1)\n",
            "Requirement already satisfied: torch>=1.10.0 in /usr/local/lib/python3.10/dist-packages (from accelerate) (2.1.0+cu121)\n",
            "Requirement already satisfied: huggingface-hub in /usr/local/lib/python3.10/dist-packages (from accelerate) (0.19.4)\n",
            "Requirement already satisfied: safetensors>=0.3.1 in /usr/local/lib/python3.10/dist-packages (from accelerate) (0.4.1)\n",
            "Requirement already satisfied: filelock in /usr/local/lib/python3.10/dist-packages (from torch>=1.10.0->accelerate) (3.13.1)\n",
            "Requirement already satisfied: typing-extensions in /usr/local/lib/python3.10/dist-packages (from torch>=1.10.0->accelerate) (4.5.0)\n",
            "Requirement already satisfied: sympy in /usr/local/lib/python3.10/dist-packages (from torch>=1.10.0->accelerate) (1.12)\n",
            "Requirement already satisfied: networkx in /usr/local/lib/python3.10/dist-packages (from torch>=1.10.0->accelerate) (3.2.1)\n",
            "Requirement already satisfied: jinja2 in /usr/local/lib/python3.10/dist-packages (from torch>=1.10.0->accelerate) (3.1.2)\n",
            "Requirement already satisfied: fsspec in /usr/local/lib/python3.10/dist-packages (from torch>=1.10.0->accelerate) (2023.6.0)\n",
            "Requirement already satisfied: triton==2.1.0 in /usr/local/lib/python3.10/dist-packages (from torch>=1.10.0->accelerate) (2.1.0)\n",
            "Requirement already satisfied: requests in /usr/local/lib/python3.10/dist-packages (from huggingface-hub->accelerate) (2.31.0)\n",
            "Requirement already satisfied: tqdm>=4.42.1 in /usr/local/lib/python3.10/dist-packages (from huggingface-hub->accelerate) (4.66.1)\n",
            "Requirement already satisfied: MarkupSafe>=2.0 in /usr/local/lib/python3.10/dist-packages (from jinja2->torch>=1.10.0->accelerate) (2.1.3)\n",
            "Requirement already satisfied: charset-normalizer<4,>=2 in /usr/local/lib/python3.10/dist-packages (from requests->huggingface-hub->accelerate) (3.3.2)\n",
            "Requirement already satisfied: idna<4,>=2.5 in /usr/local/lib/python3.10/dist-packages (from requests->huggingface-hub->accelerate) (3.6)\n",
            "Requirement already satisfied: urllib3<3,>=1.21.1 in /usr/local/lib/python3.10/dist-packages (from requests->huggingface-hub->accelerate) (2.0.7)\n",
            "Requirement already satisfied: certifi>=2017.4.17 in /usr/local/lib/python3.10/dist-packages (from requests->huggingface-hub->accelerate) (2023.11.17)\n",
            "Requirement already satisfied: mpmath>=0.19 in /usr/local/lib/python3.10/dist-packages (from sympy->torch>=1.10.0->accelerate) (1.3.0)\n",
            "Requirement already satisfied: scikit-learn in /usr/local/lib/python3.10/dist-packages (1.2.2)\n",
            "Requirement already satisfied: numpy>=1.17.3 in /usr/local/lib/python3.10/dist-packages (from scikit-learn) (1.23.5)\n",
            "Requirement already satisfied: scipy>=1.3.2 in /usr/local/lib/python3.10/dist-packages (from scikit-learn) (1.11.4)\n",
            "Requirement already satisfied: joblib>=1.1.1 in /usr/local/lib/python3.10/dist-packages (from scikit-learn) (1.3.2)\n",
            "Requirement already satisfied: threadpoolctl>=2.0.0 in /usr/local/lib/python3.10/dist-packages (from scikit-learn) (3.2.0)\n",
            "Requirement already satisfied: overrides in /usr/local/lib/python3.10/dist-packages (7.4.0)\n",
            "Requirement already satisfied: evaluate in /usr/local/lib/python3.10/dist-packages (0.4.1)\n",
            "Requirement already satisfied: datasets>=2.0.0 in /usr/local/lib/python3.10/dist-packages (from evaluate) (2.15.0)\n",
            "Requirement already satisfied: numpy>=1.17 in /usr/local/lib/python3.10/dist-packages (from evaluate) (1.23.5)\n",
            "Requirement already satisfied: dill in /usr/local/lib/python3.10/dist-packages (from evaluate) (0.3.7)\n",
            "Requirement already satisfied: pandas in /usr/local/lib/python3.10/dist-packages (from evaluate) (1.5.3)\n",
            "Requirement already satisfied: requests>=2.19.0 in /usr/local/lib/python3.10/dist-packages (from evaluate) (2.31.0)\n",
            "Requirement already satisfied: tqdm>=4.62.1 in /usr/local/lib/python3.10/dist-packages (from evaluate) (4.66.1)\n",
            "Requirement already satisfied: xxhash in /usr/local/lib/python3.10/dist-packages (from evaluate) (3.4.1)\n",
            "Requirement already satisfied: multiprocess in /usr/local/lib/python3.10/dist-packages (from evaluate) (0.70.15)\n",
            "Requirement already satisfied: fsspec[http]>=2021.05.0 in /usr/local/lib/python3.10/dist-packages (from evaluate) (2023.6.0)\n",
            "Requirement already satisfied: huggingface-hub>=0.7.0 in /usr/local/lib/python3.10/dist-packages (from evaluate) (0.19.4)\n",
            "Requirement already satisfied: packaging in /usr/local/lib/python3.10/dist-packages (from evaluate) (23.2)\n",
            "Requirement already satisfied: responses<0.19 in /usr/local/lib/python3.10/dist-packages (from evaluate) (0.18.0)\n",
            "Requirement already satisfied: pyarrow>=8.0.0 in /usr/local/lib/python3.10/dist-packages (from datasets>=2.0.0->evaluate) (10.0.1)\n",
            "Requirement already satisfied: pyarrow-hotfix in /usr/local/lib/python3.10/dist-packages (from datasets>=2.0.0->evaluate) (0.6)\n",
            "Requirement already satisfied: aiohttp in /usr/local/lib/python3.10/dist-packages (from datasets>=2.0.0->evaluate) (3.9.1)\n",
            "Requirement already satisfied: pyyaml>=5.1 in /usr/local/lib/python3.10/dist-packages (from datasets>=2.0.0->evaluate) (6.0.1)\n",
            "Requirement already satisfied: filelock in /usr/local/lib/python3.10/dist-packages (from huggingface-hub>=0.7.0->evaluate) (3.13.1)\n",
            "Requirement already satisfied: typing-extensions>=3.7.4.3 in /usr/local/lib/python3.10/dist-packages (from huggingface-hub>=0.7.0->evaluate) (4.5.0)\n",
            "Requirement already satisfied: charset-normalizer<4,>=2 in /usr/local/lib/python3.10/dist-packages (from requests>=2.19.0->evaluate) (3.3.2)\n",
            "Requirement already satisfied: idna<4,>=2.5 in /usr/local/lib/python3.10/dist-packages (from requests>=2.19.0->evaluate) (3.6)\n",
            "Requirement already satisfied: urllib3<3,>=1.21.1 in /usr/local/lib/python3.10/dist-packages (from requests>=2.19.0->evaluate) (2.0.7)\n",
            "Requirement already satisfied: certifi>=2017.4.17 in /usr/local/lib/python3.10/dist-packages (from requests>=2.19.0->evaluate) (2023.11.17)\n",
            "Requirement already satisfied: python-dateutil>=2.8.1 in /usr/local/lib/python3.10/dist-packages (from pandas->evaluate) (2.8.2)\n",
            "Requirement already satisfied: pytz>=2020.1 in /usr/local/lib/python3.10/dist-packages (from pandas->evaluate) (2023.3.post1)\n",
            "Requirement already satisfied: attrs>=17.3.0 in /usr/local/lib/python3.10/dist-packages (from aiohttp->datasets>=2.0.0->evaluate) (23.1.0)\n",
            "Requirement already satisfied: multidict<7.0,>=4.5 in /usr/local/lib/python3.10/dist-packages (from aiohttp->datasets>=2.0.0->evaluate) (6.0.4)\n",
            "Requirement already satisfied: yarl<2.0,>=1.0 in /usr/local/lib/python3.10/dist-packages (from aiohttp->datasets>=2.0.0->evaluate) (1.9.4)\n",
            "Requirement already satisfied: frozenlist>=1.1.1 in /usr/local/lib/python3.10/dist-packages (from aiohttp->datasets>=2.0.0->evaluate) (1.4.0)\n",
            "Requirement already satisfied: aiosignal>=1.1.2 in /usr/local/lib/python3.10/dist-packages (from aiohttp->datasets>=2.0.0->evaluate) (1.3.1)\n",
            "Requirement already satisfied: async-timeout<5.0,>=4.0 in /usr/local/lib/python3.10/dist-packages (from aiohttp->datasets>=2.0.0->evaluate) (4.0.3)\n",
            "Requirement already satisfied: six>=1.5 in /usr/local/lib/python3.10/dist-packages (from python-dateutil>=2.8.1->pandas->evaluate) (1.16.0)\n"
          ]
        }
      ],
      "source": [
        "%pip install transformers\n",
        "%pip install datasets\n",
        "%pip install accelerate -U\n",
        "%pip install scikit-learn\n",
        "%pip install overrides\n",
        "%pip install evaluate"
      ]
    },
    {
      "cell_type": "code",
      "execution_count": 2,
      "metadata": {
        "id": "53fY5yW9JNUS"
      },
      "outputs": [],
      "source": [
        "# Importing libraries\n",
        "from functools import partial\n",
        "from transformers import AutoModelForSequenceClassification, AutoTokenizer, DataCollatorWithPadding, DataCollatorForLanguageModeling\n",
        "from datasets import load_dataset, load_metric, load_from_disk, Dataset, Metric\n",
        "from transformers import TrainingArguments, Trainer,logging\n",
        "from evaluate import load\n",
        "import torch\n",
        "\n",
        "from transformers import BertModel, BertForSequenceClassification, BertForMaskedLM\n",
        "from transformers.data.data_collator import _torch_collate_batch\n",
        "from transformers.models.bert.modeling_bert import BertEncoder, logger\n",
        "from transformers.modeling_outputs import BaseModelOutputWithPastAndCrossAttentions, BaseModelOutputWithPoolingAndCrossAttentions\n",
        "from transformers.modeling_utils import ModuleUtilsMixin, warnings\n",
        "from typing import Any, Dict, Optional, Tuple, Union, List, Mapping\n",
        "from overrides import overrides\n",
        "from torch import Tensor\n",
        "from torch.nn.functional import pad\n",
        "from torch.nn.utils.rnn import pad_sequence\n",
        "from collections import defaultdict\n"
      ]
    },
    {
      "cell_type": "code",
      "execution_count": 3,
      "metadata": {
        "id": "H_MITsQuJNUU"
      },
      "outputs": [],
      "source": [
        "# Defining the model, tokenizer and dataset\n",
        "model_name = 'bert-base-uncased'\n",
        "tokenizer = AutoTokenizer.from_pretrained(model_name)\n",
        "sample_text = \"Every night I lie in bed.\""
      ]
    },
    {
      "cell_type": "markdown",
      "metadata": {
        "id": "KqOC7C2dORXR"
      },
      "source": [
        "### Get Dataset Splits and Metrics to Evaluate Model Performance\n"
      ]
    },
    {
      "cell_type": "code",
      "execution_count": 4,
      "metadata": {
        "id": "ihbuJxkbJNUV"
      },
      "outputs": [],
      "source": [
        "def get_dataset(dataset_name: str, subset_name: Optional[str]) -> Tuple[Dataset, Dataset, Dataset, Metric]:\n",
        "    \"\"\"\n",
        "    This function loads the dataset and metric for the given task name.\n",
        "    It also splits the dataset into train, dev and test sets.\n",
        "\n",
        "    Args:\n",
        "        glue_task_name (str): The name of the task to be loaded.\n",
        "\n",
        "    Returns:\n",
        "        Tuple[Dataset, Dataset, Dataset, int]: The train, dev and test datasets.\n",
        "    \"\"\"\n",
        "\n",
        "    # Load the dataset and metric\n",
        "    dataset = load_dataset(dataset_name, subset_name)\n",
        "    # Split the dataset\n",
        "    train_dataset = dataset[\"train\"]\n",
        "    if \"validation\" not in dataset or \"test\" not in dataset:\n",
        "        split = train_dataset.train_test_split(test_size=0.1)\n",
        "        if \"validation\" not in dataset:\n",
        "            dev_dataset = split[\"test\"]\n",
        "            test_dataset = dataset[\"test\"]\n",
        "        elif \"test\" not in dataset:\n",
        "            dev_dataset = dataset[\"validation\"]\n",
        "            test_dataset = split[\"test\"]\n",
        "    else:\n",
        "        print(f\"{dataset_name} has already been split into train, dev and test sets.\")\n",
        "        dev_dataset = dataset['validation']\n",
        "        test_dataset = dataset['test']\n",
        "\n",
        "    # Print a description of the dataset\n",
        "    print(\"Dataset Description: \", train_dataset.description)\n",
        "\n",
        "    # Truncate the dataset if it is too large\n",
        "    if train_dataset.num_rows > 30000:\n",
        "        train_dataset = train_dataset.select(range(30000))\n",
        "\n",
        "    # Print the label space\n",
        "    print(\"Label Space: \", train_dataset.features[\"label\"].names)\n",
        "    num_labels = len(train_dataset.features[\"label\"].names)\n",
        "    return train_dataset, dev_dataset, test_dataset, num_labels"
      ]
    },
    {
      "cell_type": "code",
      "execution_count": 5,
      "metadata": {
        "colab": {
          "base_uri": "https://localhost:8080/"
        },
        "id": "rT26JWyDJNUW",
        "outputId": "9cf3f273-0a9a-4259-d4e8-f94747f33dee"
      },
      "outputs": [
        {
          "output_type": "stream",
          "name": "stdout",
          "text": [
            "dair-ai/emotion has already been split into train, dev and test sets.\n",
            "Dataset Description:  Emotion is a dataset of English Twitter messages with six basic emotions: anger, fear, joy, love, sadness, and surprise. For more detailed information please refer to the paper.\n",
            "\n",
            "Label Space:  ['sadness', 'joy', 'love', 'anger', 'fear', 'surprise']\n",
            "Dataset Description:  AG is a collection of more than 1 million news articles. News articles have been\n",
            "gathered from more than 2000 news sources by ComeToMyHead in more than 1 year of\n",
            "activity. ComeToMyHead is an academic news search engine which has been running\n",
            "since July, 2004. The dataset is provided by the academic comunity for research\n",
            "purposes in data mining (clustering, classification, etc), information retrieval\n",
            "(ranking, search, etc), xml, data compression, data streaming, and any other\n",
            "non-commercial activity. For more information, please refer to the link\n",
            "http://www.di.unipi.it/~gulli/AG_corpus_of_news_articles.html .\n",
            "\n",
            "The AG's news topic classification dataset is constructed by Xiang Zhang\n",
            "(xiang.zhang@nyu.edu) from the dataset above. It is used as a text\n",
            "classification benchmark in the following paper: Xiang Zhang, Junbo Zhao, Yann\n",
            "LeCun. Character-level Convolutional Networks for Text Classification. Advances\n",
            "in Neural Information Processing Systems 28 (NIPS 2015).\n",
            "\n",
            "Label Space:  ['World', 'Sports', 'Business', 'Sci/Tech']\n",
            "tweet_eval has already been split into train, dev and test sets.\n",
            "Dataset Description:  TweetEval consists of seven heterogenous tasks in Twitter, all framed as multi-class tweet classification. All tasks have been unified into the same benchmark, with each dataset presented in the same format and with fixed training, validation and test splits.\n",
            "\n",
            "Label Space:  ['non-offensive', 'offensive']\n"
          ]
        }
      ],
      "source": [
        "metrics = [load('accuracy'), load(\"f1\"), load(\"precision\"), load(\"recall\")]\n",
        "dataset_names = [(\"dair-ai/emotion\",\"\"),(\"ag_news\",\"\"),(\"tweet_eval\",\"offensive\")]\n",
        "train_datasets, dev_datasets, test_datasets, num_labels, train_datasets_size = [], [], [], [], []\n",
        "for dataset_name, subset_name in dataset_names:\n",
        "    train_dataset, dev_dataset, test_dataset, num_label = get_dataset(dataset_name, subset_name)\n",
        "    train_datasets.append(train_dataset)\n",
        "    dev_datasets.append(dev_dataset)\n",
        "    test_datasets.append(test_dataset)\n",
        "    num_labels.append(num_label)\n",
        "    train_datasets_size.append(train_dataset.num_rows)"
      ]
    },
    {
      "cell_type": "code",
      "execution_count": 6,
      "metadata": {
        "id": "D8BS7cfJ9UNx"
      },
      "outputs": [],
      "source": [
        "def compute_metrics(eval_pred: Tuple) -> Dict:\n",
        "    \"\"\"\n",
        "    This function computes the metrics for the given task and is used by the Trainer class for evaluation.\n",
        "    \"\"\"\n",
        "    predictions, labels = eval_pred\n",
        "    predictions = predictions.argmax(axis=1)\n",
        "    results = {}\n",
        "    for metric in metrics:\n",
        "      if metric.name != \"accuracy\":\n",
        "        results.update(metric.compute(predictions=predictions, references=labels, average=\"macro\"))\n",
        "      else:\n",
        "        results.update(metric.compute(predictions=predictions, references=labels))\n",
        "    return results"
      ]
    },
    {
      "cell_type": "markdown",
      "metadata": {
        "id": "KDU7zJb4ORXS"
      },
      "source": [
        "## Create Custom Bert Model to support 4-D attention masks\n",
        "HF doesn't support custom layerwise attention masks. By default it assumes that all layers use the same attention mask. However,we want to be able to experiment with using sparse attention in all the layers but also a hybrid of dense and sparse self attention split across layers.\n",
        "\n",
        "In order to support this functionality we'll need to override some functions and create Custom Bert Models.\n",
        "\n",
        "First we'll override the `forward` function of `BertEncoder` to accept 5-d attention masks. The 5-d mask corresponds to (Layer, Batch Size, Attention Head, Sequence length (from token), Sequence length (to token)). We assume that all attention heads share the same attention mask in this notebook.\n"
      ]
    },
    {
      "cell_type": "code",
      "execution_count": 7,
      "metadata": {
        "id": "jk-pBQF5UBlI"
      },
      "outputs": [],
      "source": [
        "class CustomBertEncoder(BertEncoder):\n",
        "    def __init__(self, config):\n",
        "        super().__init__(config)\n",
        "\n",
        "    @overrides\n",
        "    def forward(\n",
        "        self,\n",
        "        hidden_states: torch.Tensor,\n",
        "        attention_mask: Optional[torch.FloatTensor] = None,\n",
        "        head_mask: Optional[torch.FloatTensor] = None,\n",
        "        encoder_hidden_states: Optional[torch.FloatTensor] = None,\n",
        "        encoder_attention_mask: Optional[torch.FloatTensor] = None,\n",
        "        past_key_values: Optional[Tuple[Tuple[torch.FloatTensor]]] = None,\n",
        "        use_cache: Optional[bool] = None,\n",
        "        output_attentions: Optional[bool] = False,\n",
        "        output_hidden_states: Optional[bool] = False,\n",
        "        return_dict: Optional[bool] = True,\n",
        "    ) -> Union[Tuple[torch.Tensor], BaseModelOutputWithPastAndCrossAttentions]:\n",
        "        all_hidden_states = () if output_hidden_states else None\n",
        "        all_self_attentions = () if output_attentions else None\n",
        "        all_cross_attentions = () if output_attentions and self.config.add_cross_attention else None\n",
        "\n",
        "        if self.gradient_checkpointing and self.training:\n",
        "            if use_cache:\n",
        "                logger.warning_once(\n",
        "                    \"`use_cache=True` is incompatible with gradient checkpointing. Setting `use_cache=False`...\"\n",
        "                )\n",
        "                use_cache = False\n",
        "\n",
        "        attention_mask_is_layerwise = False\n",
        "\n",
        "        # Code added here\n",
        "        if attention_mask.dim() == 5:\n",
        "            attention_mask_is_layerwise = True\n",
        "\n",
        "        next_decoder_cache = () if use_cache else None\n",
        "        for i, layer_module in enumerate(self.layer):\n",
        "            if output_hidden_states:\n",
        "                all_hidden_states = all_hidden_states + (hidden_states,)\n",
        "\n",
        "            # Code added here\n",
        "            if attention_mask_is_layerwise:\n",
        "               attention_mask_to_use = attention_mask[i]\n",
        "            else:\n",
        "                attention_mask_to_use = attention_mask\n",
        "\n",
        "            layer_head_mask = head_mask[i] if head_mask is not None else None\n",
        "            past_key_value = past_key_values[i] if past_key_values is not None else None\n",
        "\n",
        "            if self.gradient_checkpointing and self.training:\n",
        "                layer_outputs = self._gradient_checkpointing_func(\n",
        "                    layer_module.__call__,\n",
        "                    hidden_states,\n",
        "                    attention_mask_to_use,\n",
        "                    layer_head_mask,\n",
        "                    encoder_hidden_states,\n",
        "                    encoder_attention_mask,\n",
        "                    past_key_value,\n",
        "                    output_attentions,\n",
        "                )\n",
        "            else:\n",
        "                layer_outputs = layer_module(\n",
        "                    hidden_states,\n",
        "                    attention_mask_to_use,\n",
        "                    layer_head_mask,\n",
        "                    encoder_hidden_states,\n",
        "                    encoder_attention_mask,\n",
        "                    past_key_value,\n",
        "                    output_attentions,\n",
        "                )\n",
        "\n",
        "            hidden_states = layer_outputs[0]\n",
        "            if use_cache:\n",
        "                next_decoder_cache += (layer_outputs[-1],)\n",
        "            if output_attentions:\n",
        "                all_self_attentions = all_self_attentions + (layer_outputs[1],)\n",
        "                if self.config.add_cross_attention:\n",
        "                    all_cross_attentions = all_cross_attentions + (layer_outputs[2],)\n",
        "\n",
        "        if output_hidden_states:\n",
        "            all_hidden_states = all_hidden_states + (hidden_states,)\n",
        "\n",
        "        if not return_dict:\n",
        "            return tuple(\n",
        "                v\n",
        "                for v in [\n",
        "                    hidden_states,\n",
        "                    next_decoder_cache,\n",
        "                    all_hidden_states,\n",
        "                    all_self_attentions,\n",
        "                    all_cross_attentions,\n",
        "                ]\n",
        "                if v is not None\n",
        "            )\n",
        "        return BaseModelOutputWithPastAndCrossAttentions(\n",
        "            last_hidden_state=hidden_states,\n",
        "            past_key_values=next_decoder_cache,\n",
        "            hidden_states=all_hidden_states,\n",
        "            attentions=all_self_attentions,\n",
        "            cross_attentions=all_cross_attentions,\n",
        "        )\n"
      ]
    },
    {
      "cell_type": "markdown",
      "metadata": {
        "id": "8DwTI4fUORXS"
      },
      "source": [
        "Next we'll override `get_extended_attention_mask` of the `BertModel` class to create a new dimension expanding 4-d attention masks to 5-d attention masks. The expanded dimension corresponds to attention heads as mentioned above since we assume that all attention heads use the same mask we just need to add a new dimension to the mask tensor."
      ]
    },
    {
      "cell_type": "code",
      "execution_count": 8,
      "metadata": {
        "id": "5npfO9CfORXS"
      },
      "outputs": [],
      "source": [
        "class CustomBertModel(BertModel):\n",
        "    def __init__(self, config):\n",
        "        super().__init__(config)\n",
        "        self.encoder = CustomBertEncoder(config)\n",
        "\n",
        "    @overrides\n",
        "    def get_extended_attention_mask(\n",
        "        self, attention_mask: Tensor, input_shape: Tuple[int], device: torch.device = None, dtype: torch.float = None\n",
        "    ) -> Tensor:\n",
        "        \"\"\"\n",
        "        Makes broadcastable attention and causal masks so that future and masked tokens are ignored.\n",
        "\n",
        "        Arguments:\n",
        "            attention_mask (`torch.Tensor`):\n",
        "                Mask with ones indicating tokens to attend to, zeros for tokens to ignore.\n",
        "            input_shape (`Tuple[int]`):\n",
        "                The shape of the input to the model.\n",
        "\n",
        "        Returns:\n",
        "            `torch.Tensor` The extended attention mask, with a the same dtype as `attention_mask.dtype`.\n",
        "        \"\"\"\n",
        "        if dtype is None:\n",
        "            dtype = self.dtype\n",
        "\n",
        "        if not (attention_mask.dim() == 2 and self.config.is_decoder):\n",
        "            # show warning only if it won't be shown in `create_extended_attention_mask_for_decoder`\n",
        "            if device is not None:\n",
        "                warnings.warn(\n",
        "                    \"The `device` argument is deprecated and will be removed in v5 of Transformers.\", FutureWarning\n",
        "                )\n",
        "        # We can provide a self-attention mask of dimensions [batch_size, from_seq_length, to_seq_length]\n",
        "        # ourselves in which case we just need to make it broadcastable to all heads.\n",
        "        # Code added here\n",
        "        if attention_mask.dim() == 4:\n",
        "            extended_attention_mask = attention_mask[:, :, None, :, :]\n",
        "        elif attention_mask.dim() == 3:\n",
        "            extended_attention_mask = attention_mask[:, None, :, :]\n",
        "        elif attention_mask.dim() == 2:\n",
        "            # Provided a padding mask of dimensions [batch_size, seq_length]\n",
        "            # - if the model is a decoder, apply a causal mask in addition to the padding mask\n",
        "            # - if the model is an encoder, make the mask broadcastable to [batch_size, num_heads, seq_length, seq_length]\n",
        "            if self.config.is_decoder:\n",
        "                extended_attention_mask = ModuleUtilsMixin.create_extended_attention_mask_for_decoder(\n",
        "                    input_shape, attention_mask, device\n",
        "                )\n",
        "            else:\n",
        "                extended_attention_mask = attention_mask[:, None, None, :]\n",
        "        else:\n",
        "            raise ValueError(\n",
        "                f\"Wrong shape for input_ids (shape {input_shape}) or attention_mask (shape {attention_mask.shape})\"\n",
        "            )\n",
        "\n",
        "        # Since attention_mask is 1.0 for positions we want to attend and 0.0 for\n",
        "        # masked positions, this operation will create a tensor which is 0.0 for\n",
        "        # positions we want to attend and the dtype's smallest value for masked positions.\n",
        "        # Since we are adding it to the raw scores before the softmax, this is\n",
        "        # effectively the same as removing these entirely.\n",
        "        extended_attention_mask = extended_attention_mask.to(dtype=dtype)  # fp16 compatibility\n",
        "        extended_attention_mask = (1.0 - extended_attention_mask) * torch.finfo(dtype).min\n",
        "        return extended_attention_mask\n",
        "\n",
        "    \"\"\"\n",
        "    @overrides\n",
        "    def forward(\n",
        "        self,\n",
        "        input_ids: Optional[torch.Tensor] = None,\n",
        "        attention_mask: Optional[torch.Tensor] = None,\n",
        "        token_type_ids: Optional[torch.Tensor] = None,\n",
        "        position_ids: Optional[torch.Tensor] = None,\n",
        "        head_mask: Optional[torch.Tensor] = None,\n",
        "        inputs_embeds: Optional[torch.Tensor] = None,\n",
        "        encoder_hidden_states: Optional[torch.Tensor] = None,\n",
        "        encoder_attention_mask: Optional[torch.Tensor] = None,\n",
        "        past_key_values: Optional[List[torch.FloatTensor]] = None,\n",
        "        use_cache: Optional[bool] = None,\n",
        "        output_attentions: Optional[bool] = None,\n",
        "        output_hidden_states: Optional[bool] = None,\n",
        "        return_dict: Optional[bool] = None,\n",
        "    ) -> Union[Tuple[torch.Tensor], BaseModelOutputWithPoolingAndCrossAttentions]:\n",
        "        r\n",
        "        encoder_hidden_states  (`torch.FloatTensor` of shape `(batch_size, sequence_length, hidden_size)`, *optional*):\n",
        "            Sequence of hidden-states at the output of the last layer of the encoder. Used in the cross-attention if\n",
        "            the model is configured as a decoder.\n",
        "        encoder_attention_mask (`torch.FloatTensor` of shape `(batch_size, sequence_length)`, *optional*):\n",
        "            Mask to avoid performing attention on the padding token indices of the encoder input. This mask is used in\n",
        "            the cross-attention if the model is configured as a decoder. Mask values selected in `[0, 1]`:\n",
        "\n",
        "            - 1 for tokens that are **not masked**,\n",
        "            - 0 for tokens that are **masked**.\n",
        "        past_key_values (`tuple(tuple(torch.FloatTensor))` of length `config.n_layers` with each tuple having 4 tensors of shape `(batch_size, num_heads, sequence_length - 1, embed_size_per_head)`):\n",
        "            Contains precomputed key and value hidden states of the attention blocks. Can be used to speed up decoding.\n",
        "\n",
        "            If `past_key_values` are used, the user can optionally input only the last `decoder_input_ids` (those that\n",
        "            don't have their past key value states given to this model) of shape `(batch_size, 1)` instead of all\n",
        "            `decoder_input_ids` of shape `(batch_size, sequence_length)`.\n",
        "        use_cache (`bool`, *optional*):\n",
        "            If set to `True`, `past_key_values` key value states are returned and can be used to speed up decoding (see\n",
        "            `past_key_values`).\n",
        "\n",
        "        output_attentions = output_attentions if output_attentions is not None else self.config.output_attentions\n",
        "        output_hidden_states = (\n",
        "            output_hidden_states if output_hidden_states is not None else self.config.output_hidden_states\n",
        "        )\n",
        "        return_dict = return_dict if return_dict is not None else self.config.use_return_dict\n",
        "\n",
        "        if self.config.is_decoder:\n",
        "            use_cache = use_cache if use_cache is not None else self.config.use_cache\n",
        "        else:\n",
        "            use_cache = False\n",
        "\n",
        "        if input_ids is not None and inputs_embeds is not None:\n",
        "            raise ValueError(\"You cannot specify both input_ids and inputs_embeds at the same time\")\n",
        "        elif input_ids is not None:\n",
        "            self.warn_if_padding_and_no_attention_mask(input_ids, attention_mask)\n",
        "            input_shape = input_ids.size()\n",
        "        elif inputs_embeds is not None:\n",
        "            input_shape = inputs_embeds.size()[:-1]\n",
        "        else:\n",
        "            raise ValueError(\"You have to specify either input_ids or inputs_embeds\")\n",
        "\n",
        "        batch_size, seq_length = input_shape\n",
        "        device = input_ids.device if input_ids is not None else inputs_embeds.device\n",
        "\n",
        "        # past_key_values_length\n",
        "        past_key_values_length = past_key_values[0][0].shape[2] if past_key_values is not None else 0\n",
        "\n",
        "        if attention_mask is None:\n",
        "            attention_mask = torch.ones(((batch_size, seq_length + past_key_values_length)), device=device)\n",
        "\n",
        "        if token_type_ids is None:\n",
        "            if hasattr(self.embeddings, \"token_type_ids\"):\n",
        "                buffered_token_type_ids = self.embeddings.token_type_ids[:, :seq_length]\n",
        "                buffered_token_type_ids_expanded = buffered_token_type_ids.expand(batch_size, seq_length)\n",
        "                token_type_ids = buffered_token_type_ids_expanded\n",
        "            else:\n",
        "                token_type_ids = torch.zeros(input_shape, dtype=torch.long, device=device)\n",
        "\n",
        "        # We can provide a self-attention mask of dimensions [batch_size, from_seq_length, to_seq_length]\n",
        "        # ourselves in which case we just need to make it broadcastable to all heads.\n",
        "        extended_attention_mask: torch.Tensor = self.get_extended_attention_mask(attention_mask, input_shape)\n",
        "\n",
        "        # If a 2D or 3D attention mask is provided for the cross-attention\n",
        "        # we need to make broadcastable to [batch_size, num_heads, seq_length, seq_length]\n",
        "        if self.config.is_decoder and encoder_hidden_states is not None:\n",
        "            encoder_batch_size, encoder_sequence_length, _ = encoder_hidden_states.size()\n",
        "            encoder_hidden_shape = (encoder_batch_size, encoder_sequence_length)\n",
        "            if encoder_attention_mask is None:\n",
        "                encoder_attention_mask = torch.ones(encoder_hidden_shape, device=device)\n",
        "            encoder_extended_attention_mask = self.invert_attention_mask(encoder_attention_mask)\n",
        "        else:\n",
        "            encoder_extended_attention_mask = None\n",
        "\n",
        "        # Prepare head mask if needed\n",
        "        # 1.0 in head_mask indicate we keep the head\n",
        "        # attention_probs has shape bsz x n_heads x N x N\n",
        "        # input head_mask has shape [num_heads] or [num_hidden_layers x num_heads]\n",
        "        # and head_mask is converted to shape [num_hidden_layers x batch x num_heads x seq_length x seq_length]\n",
        "        head_mask = self.get_head_mask(head_mask, self.config.num_hidden_layers)\n",
        "\n",
        "        embedding_output = self.embeddings(\n",
        "            input_ids=input_ids,\n",
        "            position_ids=position_ids,\n",
        "            token_type_ids=token_type_ids,\n",
        "            inputs_embeds=inputs_embeds,\n",
        "            past_key_values_length=past_key_values_length,\n",
        "        )\n",
        "        encoder_outputs = self.encoder(\n",
        "            embedding_output,\n",
        "            attention_mask=extended_attention_mask,\n",
        "            head_mask=head_mask,\n",
        "            encoder_hidden_states=encoder_hidden_states,\n",
        "            encoder_attention_mask=encoder_extended_attention_mask,\n",
        "            past_key_values=past_key_values,\n",
        "            use_cache=use_cache,\n",
        "            output_attentions=output_attentions,\n",
        "            output_hidden_states=output_hidden_states,\n",
        "            return_dict=return_dict,\n",
        "        )\n",
        "        sequence_output = encoder_outputs[0]\n",
        "        pooled_output = self.pooler(sequence_output) if self.pooler is not None else None\n",
        "\n",
        "        if not return_dict:\n",
        "            return (sequence_output, pooled_output) + encoder_outputs[1:]\n",
        "\n",
        "        return BaseModelOutputWithPoolingAndCrossAttentions(\n",
        "            last_hidden_state=sequence_output,\n",
        "            pooler_output=pooled_output,\n",
        "            past_key_values=encoder_outputs.past_key_values,\n",
        "            hidden_states=encoder_outputs.hidden_states,\n",
        "            attentions=encoder_outputs.attentions,\n",
        "            cross_attentions=encoder_outputs.cross_attentions,\n",
        "        )\n",
        "    \"\"\""
      ]
    },
    {
      "cell_type": "markdown",
      "metadata": {
        "id": "Zc-217gbORXT"
      },
      "source": [
        "#### Create a custom bert model for sequence classification that uses the custom bert encoder"
      ]
    },
    {
      "cell_type": "code",
      "execution_count": 9,
      "metadata": {
        "id": "U37R2yvDORXT"
      },
      "outputs": [],
      "source": [
        "class CustomBertForSequenceClassification(BertForSequenceClassification):\n",
        "    def __init__(self, config):\n",
        "        super().__init__(config)\n",
        "        self.bert = CustomBertModel(config)"
      ]
    },
    {
      "cell_type": "code",
      "execution_count": 10,
      "metadata": {
        "id": "o6mABgKyVD-3"
      },
      "outputs": [],
      "source": [
        "def torch_mask_tokens(tokenizer: AutoTokenizer, mlm_probability: float, inputs: Any, special_tokens_mask: Optional[Any] = None) -> Tuple[Any, Any]:\n",
        "    \"\"\"\n",
        "    Prepare masked tokens inputs/labels for masked language modeling: 80% MASK, 10% random, 10% original.\n",
        "    \"\"\"\n",
        "    import torch\n",
        "\n",
        "    labels = inputs.clone()\n",
        "    # We sample a few tokens in each sequence for MLM training (with probability `self.mlm_probability`)\n",
        "    probability_matrix = torch.full(labels.shape, mlm_probability)\n",
        "    if special_tokens_mask is None:\n",
        "        special_tokens_mask = [\n",
        "            tokenizer.get_special_tokens_mask(val, already_has_special_tokens=True) for val in labels.tolist()\n",
        "        ]\n",
        "        special_tokens_mask = torch.tensor(special_tokens_mask, dtype=torch.bool)\n",
        "    else:\n",
        "        special_tokens_mask = special_tokens_mask.bool()\n",
        "\n",
        "    probability_matrix.masked_fill_(special_tokens_mask, value=0.0)\n",
        "    masked_indices = torch.bernoulli(probability_matrix).bool()\n",
        "    labels[~masked_indices] = -100  # We only compute loss on masked tokens\n",
        "\n",
        "    # 80% of the time, we replace masked input tokens with tokenizer.mask_token ([MASK])\n",
        "    indices_replaced = torch.bernoulli(torch.full(labels.shape, 0.8)).bool() & masked_indices\n",
        "    inputs[indices_replaced] = tokenizer.convert_tokens_to_ids(tokenizer.mask_token)\n",
        "\n",
        "    # 10% of the time, we replace masked input tokens with random word\n",
        "    indices_random = torch.bernoulli(torch.full(labels.shape, 0.5)).bool() & masked_indices & ~indices_replaced\n",
        "    random_words = torch.randint(len(tokenizer), labels.shape, dtype=torch.long)\n",
        "    inputs[indices_random] = random_words[indices_random]\n",
        "\n",
        "    # The rest of the time (10% of the time) we keep the masked input tokens unchanged\n",
        "    return inputs, labels"
      ]
    },
    {
      "cell_type": "markdown",
      "metadata": {
        "id": "-9q8vDZFORXT"
      },
      "source": [
        "The `custom_tokenize` function tokenizes a given text and creates a custom attention mask for the BERT model.\n",
        "\n",
        "The function takes four arguments: a tokenizer, a text string, a distance integer (default is 2), and a batch_mode boolean (default is False).\n",
        "\n",
        "The function tokenizes the text and creates an attention mask with ones on the main diagonal. It then updates the attention mask based on the specified neighborhood distance. The function ensures that the first and last tokens (usually the CLS and SEP tokens in BERT) always attend to all other tokens and are attended to by all other tokens.\n",
        "\n",
        "If `batch_mode` is `True`, the function adds an extra dimension to the attention mask, input ids, and token type ids to accommodate batch processing.\n",
        "\n",
        "The function returns a dictionary containing the tokenized input ids, token type ids, and the custom attention mask."
      ]
    },
    {
      "cell_type": "code",
      "execution_count": 11,
      "metadata": {
        "id": "qPhmj3Zy9UNy"
      },
      "outputs": [],
      "source": [
        "def custom_tokenize(tokenizer: AutoTokenizer, text: str, distance:int=2, batch_mode=False) -> Dict:\n",
        "    \"\"\"\n",
        "    This function tokenizes the given text and returns the tokenized inputs along with the attention mask.\n",
        "\n",
        "    Args:\n",
        "        tokenizer (AutoTokenizer): The tokenizer to be used for tokenization.\n",
        "        text (str): The text to be tokenized.\n",
        "        distance (int, optional): The number of neigbhoring tokens that should be attended to.\n",
        "        batch_mode (bool, optional): If we need to add an extra dimension for batch processing.\n",
        "\n",
        "    Returns:\n",
        "        Dict: The tokenized inputs along with the attention mask.\n",
        "    \"\"\"\n",
        "    # Tokenize the texts\n",
        "    result = tokenizer(text, truncation=True, padding=False)\n",
        "    # Create attention mask with ones on the main diagonal\n",
        "    attention_mask = torch.eye(len(result[\"input_ids\"]), dtype=torch.long)\n",
        "    # Update attention mask for the specified neighborhood distance\n",
        "    attention_mask[abs(torch.arange(len(attention_mask))[:, None] - torch.arange(len(attention_mask))) <= distance] = 1\n",
        "\n",
        "    # Set the first row to 1 corresponding to the CLS token\n",
        "    attention_mask[0, :] = 1\n",
        "    # Always attend to CLS\n",
        "    attention_mask[:, 0] = 1\n",
        "    # Set the last row to 1 corresponding to the SEP token\n",
        "    attention_mask[-1, :] = 1\n",
        "    # Always attend to SEP\n",
        "    attention_mask[:, -1] = 1\n",
        "    # Add the attention mask to the result\n",
        "\n",
        "    if batch_mode:\n",
        "      result[\"attention_mask\"] = torch.LongTensor(attention_mask.unsqueeze(0))\n",
        "      result[\"input_ids\"] = torch.LongTensor(result[\"input_ids\"]).unsqueeze(0)\n",
        "      result[\"token_type_ids\"] = torch.LongTensor(result[\"token_type_ids\"]).unsqueeze(0)\n",
        "    else:\n",
        "      result[\"attention_mask\"] = torch.LongTensor(attention_mask)\n",
        "      result[\"input_ids\"] = torch.LongTensor(result[\"input_ids\"])\n",
        "      result[\"token_type_ids\"] = torch.LongTensor(result[\"token_type_ids\"])\n",
        "    # Map the labels to the tokenized inputs\n",
        "    return result"
      ]
    },
    {
      "cell_type": "markdown",
      "metadata": {
        "id": "whRhmsDrORXU"
      },
      "source": [
        "Let's make sure our implementation is right by visualizing a heatmap of our attention scores. We should expect to see a sliding window of attention along the diagonal while the **[CLS]** and **[SEP]** tokens are allowed to attend to all tokens and all tokens are allowed to attend to the **[CLS]** and **[SEP]** tokens."
      ]
    },
    {
      "cell_type": "code",
      "execution_count": 12,
      "metadata": {
        "colab": {
          "base_uri": "https://localhost:8080/"
        },
        "id": "bOdvYb8DdHZN",
        "outputId": "aa67be68-06f5-41dd-88f3-c1e70a4853c2"
      },
      "outputs": [
        {
          "output_type": "stream",
          "name": "stderr",
          "text": [
            "Some weights of CustomBertForSequenceClassification were not initialized from the model checkpoint at bert-base-uncased and are newly initialized: ['classifier.weight', 'classifier.bias']\n",
            "You should probably TRAIN this model on a down-stream task to be able to use it for predictions and inference.\n"
          ]
        }
      ],
      "source": [
        "custom_model = CustomBertForSequenceClassification.from_pretrained(model_name)\n",
        "inputs = custom_tokenize(tokenizer, sample_text, distance=1, batch_mode=True)\n",
        "output = custom_model(**inputs, output_attentions=True)"
      ]
    },
    {
      "cell_type": "code",
      "execution_count": 13,
      "metadata": {
        "colab": {
          "base_uri": "https://localhost:8080/",
          "height": 815
        },
        "id": "VDu0KYhMORXU",
        "outputId": "f4e07765-dd44-4712-ecfb-93d870814d36"
      },
      "outputs": [
        {
          "output_type": "display_data",
          "data": {
            "text/plain": [
              "<Figure size 1000x1000 with 2 Axes>"
            ],
            "image/png": "[encoded data removed]"
          },
          "metadata": {}
        }
      ],
      "source": [
        "import matplotlib.pyplot as plt\n",
        "\n",
        "# Get the attention scores for Layer 0, Batch 0, Head 0\n",
        "attention_scores = output.attentions[0][0,0].detach().numpy()\n",
        "\n",
        "# Get the tokens\n",
        "tokens = tokenizer.convert_ids_to_tokens(inputs[\"input_ids\"][0])\n",
        "\n",
        "# Create a heatmap\n",
        "plt.figure(figsize=(10,10))\n",
        "plt.imshow(attention_scores, cmap='hot', interpolation='nearest')\n",
        "plt.colorbar(label='Attention Scores')\n",
        "plt.title('Attention Scores Heatmap')\n",
        "plt.xticks(range(len(tokens)), tokens, rotation=90)\n",
        "plt.yticks(range(len(tokens)), tokens)\n",
        "plt.show()"
      ]
    },
    {
      "cell_type": "code",
      "execution_count": 14,
      "metadata": {
        "colab": {
          "base_uri": "https://localhost:8080/"
        },
        "id": "v5VgULswaXY6",
        "outputId": "429dea3f-c610-446b-9e22-677dfba93fc6"
      },
      "outputs": [
        {
          "output_type": "execute_result",
          "data": {
            "text/plain": [
              "torch.Size([1, 9, 9])"
            ]
          },
          "metadata": {},
          "execution_count": 14
        }
      ],
      "source": [
        "inputs[\"attention_mask\"].shape"
      ]
    },
    {
      "cell_type": "markdown",
      "metadata": {
        "id": "GI6jDPGZORXU"
      },
      "source": [
        "Great! That's working, now let's make sure that masking also works when we send in a 4-d tensor. Where dimension 0 is the layer number."
      ]
    },
    {
      "cell_type": "code",
      "execution_count": 15,
      "metadata": {
        "id": "-0xre52RORXU"
      },
      "outputs": [],
      "source": [
        "inputs[\"attention_mask\"] = inputs[\"attention_mask\"].unsqueeze(0).repeat(12,1,1,1)\n",
        "output_layerwise_mask = custom_model(**inputs, output_attentions=True)\n",
        "assert torch.allclose(output.attentions[0], output_layerwise_mask.attentions[0]), \"Attention scores have to be the same for the same attention mask even if it is repeated layerwise\""
      ]
    },
    {
      "cell_type": "markdown",
      "metadata": {
        "id": "iIdqwo3JORXU"
      },
      "source": [
        "## Creating Layerwise Attention Masks\n",
        "The `get_layerwise_attention_mask` function is designed to create a layer-wise attention mask from a given input attention mask. This function is particularly useful when working with transformer models like BERT, where different layers might require different attention masks.\n",
        "\n",
        "Here are the parameters of the function:\n",
        "\n",
        "- `attention_mask` (Tensor): This is the input attention mask that you want to convert into a layer-wise attention mask. It should be a tensor.\n",
        "\n",
        "- `pad_token_pos` (int): This is the position of the padding token in the attention mask. The function uses this to set the range of full attention.\n",
        "\n",
        "- `total_num_layers` (int, optional): This is the total number of layers in the model. By default, it's set to 12, which is the number of layers in BERT-base models.\n",
        "\n",
        "- `full_attention_layers` (list, optional): This is a list of layer numbers that should have full attention. By default, it's an empty list, meaning no layers have full attention.\n",
        "\n",
        "The function returns a tensor which is the layer-wise attention mask. If `full_attention_layers` is not empty, the function repeats the attention mask for each layer and sets full attention for the specified layers."
      ]
    },
    {
      "cell_type": "code",
      "execution_count": 16,
      "metadata": {
        "id": "zFflnnXJu_7B"
      },
      "outputs": [],
      "source": [
        "def get_layerwise_attention_mask(attention_mask: Tensor, pad_token_pos:int, total_num_layers:int=12, full_attention_layers=[]):\n",
        "  \"\"\"\n",
        "  Returns a layer-wise attention mask for a given input attention mask.\n",
        "\n",
        "  Args:\n",
        "    attention_mask (Tensor): The input attention mask.\n",
        "    pad_token_pos (int): The position of the padding token in the attention mask.\n",
        "    total_num_layers (int, optional): The total number of layers in the model. Defaults to 12.\n",
        "    full_attention_layers (list, optional): A list of layer numbers that should have full attention. Defaults to [].\n",
        "\n",
        "  Returns:\n",
        "    Tensor: The layer-wise attention mask.\n",
        "  \"\"\"\n",
        "  attention_mask = attention_mask.unsqueeze(0)\n",
        "  if full_attention_layers:\n",
        "    attention_mask = attention_mask.repeat(total_num_layers, 1, 1, 1)\n",
        "    for layer_num in full_attention_layers:\n",
        "      attention_mask[layer_num, :, : pad_token_pos, : pad_token_pos] = 1\n",
        "  return attention_mask"
      ]
    },
    {
      "cell_type": "markdown",
      "metadata": {
        "id": "zIw-_d_PORXU"
      },
      "source": [
        "Let's make sure that this is working as desired.\n",
        "This test case is validating the `get_layerwise_attention_mask` function. It checks three things:\n",
        "\n",
        "1. The function returns an attention mask of the correct shape (12, 1, 4, 4).\n",
        "2. The attention mask at layer 0 is the same as the input mask (all zeros).\n",
        "3. The attention mask at layer 2 is all ones, indicating full attention.\n",
        "\n",
        "If any of these conditions are not met, the test case fails."
      ]
    },
    {
      "cell_type": "code",
      "execution_count": 17,
      "metadata": {
        "id": "0M2fGF1nv4Lr"
      },
      "outputs": [],
      "source": [
        "dummy_attn_mask = torch.zeros(1, 4, 4)\n",
        "layerwise_attn_mask = get_layerwise_attention_mask(dummy_attn_mask, 4, full_attention_layers=[2])\n",
        "assert layerwise_attn_mask.shape == (12, 1, 4, 4), f\"{layerwise_attn_mask.shape} is the wrong shape\"\n",
        "assert torch.allclose(layerwise_attn_mask[0], dummy_attn_mask), \"Masks at layer 0 should all be 0s\"\n",
        "assert torch.allclose(layerwise_attn_mask[2], torch.ones(1,4,4)), \"Masks at layer 1 should all be 1s\""
      ]
    },
    {
      "cell_type": "markdown",
      "metadata": {
        "id": "KyRgM3FjORXV"
      },
      "source": [
        "## Padding custom attention Masks\n",
        "\n",
        "The `custom_collate` function is a utility function designed to process a batch of data for training a transformer model like BERT. It performs several key tasks:\n",
        "\n",
        "1. **Padding**: It pads all sequences in the batch to the same length, using the provided `pad_token_id`.\n",
        "\n",
        "2. **Layer-wise Attention Mask**: It creates a layer-wise attention mask for each sequence in the batch. This is useful when different layers of the transformer model require different attention masks.\n",
        "\n",
        "3. **Masked Language Modeling**: If the `is_mlm` flag is set to `True`, it applies masked language modeling to the input sequences. This involves randomly masking some of the tokens in each sequence, with the goal of predicting the original token from its context. The probability of masking a token is controlled by the `mlm_probability` parameter.\n",
        "\n",
        "The function returns a dictionary containing the padded 'input_ids', the layer-wise 'attention_mask', 'token_type_ids', and 'labels' (if present in the batch)."
      ]
    },
    {
      "cell_type": "code",
      "execution_count": 18,
      "metadata": {
        "id": "Zh1P5ttKfwgy"
      },
      "outputs": [],
      "source": [
        "def custom_collate(batch:List, pad_token_id:int, full_attention_layers:List=[], mlm_probability:float=0.15, is_mlm:bool=False):\n",
        "  \"\"\"\n",
        "  Custom collate function for DataLoader that pads sequences and creates layer-wise attention masks.\n",
        "\n",
        "  Args:\n",
        "    batch (list): List of dictionaries containing 'input_ids', 'attention_mask', 'token_type_ids', and optionally 'label'.\n",
        "    pad_token_id (int): The ID of the padding token.\n",
        "    full_attention_layers (list, optional): List of layers that should have full attention. Defaults to [].\n",
        "    mlm_probability (float, optional): Probability of masking a token for masked language modeling. Defaults to 0.15.\n",
        "    is_mlm (bool, optional): Whether to apply masked language modeling. Defaults to False.\n",
        "\n",
        "  Returns:\n",
        "    dict: A dictionary containing 'input_ids', 'attention_mask', 'token_type_ids', and 'labels' (if present in batch).\n",
        "  \"\"\"\n",
        "  input_ids = [torch.LongTensor(batch[i][\"input_ids\"]) for i in range(len(batch))]\n",
        "  attention_mask = [torch.LongTensor(batch[i][\"attention_mask\"]) for i in range(len(batch))]\n",
        "  token_type_ids = [torch.LongTensor(batch[i][\"token_type_ids\"]) for i in range(len(batch))]\n",
        "  if \"label\" in batch[0]:\n",
        "    label = torch.LongTensor([batch[i][\"label\"] for i in range(len(batch))])\n",
        "  #idx = [batch[i][\"idx\"] for i in range(len(batch))]\n",
        "  max_len = max([len(inp) for inp in input_ids])\n",
        "  padding_sizes = [max_len - len(inp) for inp in input_ids]\n",
        "  input_ids = pad_sequence(input_ids, batch_first=True, padding_value=pad_token_id)\n",
        "  token_type_ids = pad_sequence(token_type_ids, batch_first=True)\n",
        "  attention_mask = [get_layerwise_attention_mask(pad(attention_mask[i], (0, padding_sizes[i], 0, padding_sizes[i]), value=0), padding_sizes[i], full_attention_layers=full_attention_layers).squeeze(1) for i in range(len(batch))]\n",
        "  attention_mask = torch.stack(attention_mask)\n",
        "  if full_attention_layers:\n",
        "    attention_mask = attention_mask.permute(1,0,2,3)\n",
        "  else:\n",
        "    attention_mask = attention_mask.squeeze(1)\n",
        "\n",
        "  if is_mlm:\n",
        "    input_ids, label = torch_mask_tokens(tokenizer, mlm_probability, input_ids)\n",
        "  return {\n",
        "      \"input_ids\": input_ids,\n",
        "      \"attention_mask\": attention_mask,\n",
        "      \"token_type_ids\": token_type_ids,\n",
        "      \"labels\": label,\n",
        "  }"
      ]
    },
    {
      "cell_type": "code",
      "execution_count": 19,
      "metadata": {
        "colab": {
          "base_uri": "https://localhost:8080/"
        },
        "id": "lPjtSFNUVD-5",
        "outputId": "4f62153f-1552-4a5c-a00c-88a6ed268f4a"
      },
      "outputs": [
        {
          "output_type": "execute_result",
          "data": {
            "text/plain": [
              "{'input_ids': tensor([[  1,   2,   3,   4,   0],\n",
              "         [103,   2,   3,   4,   5]]),\n",
              " 'attention_mask': tensor([[[[1, 1, 1, 0, 0],\n",
              "           [1, 1, 1, 0, 0],\n",
              "           [1, 1, 1, 0, 0],\n",
              "           [1, 1, 1, 0, 0],\n",
              "           [0, 0, 0, 0, 0]],\n",
              " \n",
              "          [[1, 1, 1, 0, 0],\n",
              "           [1, 1, 1, 0, 0],\n",
              "           [1, 1, 1, 0, 0],\n",
              "           [1, 1, 1, 0, 0],\n",
              "           [1, 1, 1, 0, 0]]],\n",
              " \n",
              " \n",
              "         [[[1, 1, 1, 0, 0],\n",
              "           [1, 1, 1, 0, 0],\n",
              "           [1, 1, 1, 0, 0],\n",
              "           [1, 1, 1, 0, 0],\n",
              "           [0, 0, 0, 0, 0]],\n",
              " \n",
              "          [[1, 1, 1, 0, 0],\n",
              "           [1, 1, 1, 0, 0],\n",
              "           [1, 1, 1, 0, 0],\n",
              "           [1, 1, 1, 0, 0],\n",
              "           [1, 1, 1, 0, 0]]],\n",
              " \n",
              " \n",
              "         [[[1, 1, 1, 0, 0],\n",
              "           [1, 1, 1, 0, 0],\n",
              "           [1, 1, 1, 0, 0],\n",
              "           [1, 1, 1, 0, 0],\n",
              "           [0, 0, 0, 0, 0]],\n",
              " \n",
              "          [[1, 1, 1, 0, 0],\n",
              "           [1, 1, 1, 0, 0],\n",
              "           [1, 1, 1, 0, 0],\n",
              "           [1, 1, 1, 0, 0],\n",
              "           [1, 1, 1, 0, 0]]],\n",
              " \n",
              " \n",
              "         [[[1, 1, 1, 0, 0],\n",
              "           [1, 1, 1, 0, 0],\n",
              "           [1, 1, 1, 0, 0],\n",
              "           [1, 1, 1, 0, 0],\n",
              "           [0, 0, 0, 0, 0]],\n",
              " \n",
              "          [[1, 1, 1, 0, 0],\n",
              "           [1, 1, 1, 0, 0],\n",
              "           [1, 1, 1, 0, 0],\n",
              "           [1, 1, 1, 0, 0],\n",
              "           [1, 1, 1, 0, 0]]],\n",
              " \n",
              " \n",
              "         [[[1, 1, 1, 0, 0],\n",
              "           [1, 1, 1, 0, 0],\n",
              "           [1, 1, 1, 0, 0],\n",
              "           [1, 1, 1, 0, 0],\n",
              "           [0, 0, 0, 0, 0]],\n",
              " \n",
              "          [[1, 1, 1, 0, 0],\n",
              "           [1, 1, 1, 0, 0],\n",
              "           [1, 1, 1, 0, 0],\n",
              "           [1, 1, 1, 0, 0],\n",
              "           [1, 1, 1, 0, 0]]],\n",
              " \n",
              " \n",
              "         [[[1, 1, 1, 0, 0],\n",
              "           [1, 1, 1, 0, 0],\n",
              "           [1, 1, 1, 0, 0],\n",
              "           [1, 1, 1, 0, 0],\n",
              "           [0, 0, 0, 0, 0]],\n",
              " \n",
              "          [[1, 1, 1, 0, 0],\n",
              "           [1, 1, 1, 0, 0],\n",
              "           [1, 1, 1, 0, 0],\n",
              "           [1, 1, 1, 0, 0],\n",
              "           [1, 1, 1, 0, 0]]],\n",
              " \n",
              " \n",
              "         [[[1, 1, 1, 0, 0],\n",
              "           [1, 1, 1, 0, 0],\n",
              "           [1, 1, 1, 0, 0],\n",
              "           [1, 1, 1, 0, 0],\n",
              "           [0, 0, 0, 0, 0]],\n",
              " \n",
              "          [[1, 1, 1, 0, 0],\n",
              "           [1, 1, 1, 0, 0],\n",
              "           [1, 1, 1, 0, 0],\n",
              "           [1, 1, 1, 0, 0],\n",
              "           [1, 1, 1, 0, 0]]],\n",
              " \n",
              " \n",
              "         [[[1, 1, 1, 0, 0],\n",
              "           [1, 1, 1, 0, 0],\n",
              "           [1, 1, 1, 0, 0],\n",
              "           [1, 1, 1, 0, 0],\n",
              "           [0, 0, 0, 0, 0]],\n",
              " \n",
              "          [[1, 1, 1, 0, 0],\n",
              "           [1, 1, 1, 0, 0],\n",
              "           [1, 1, 1, 0, 0],\n",
              "           [1, 1, 1, 0, 0],\n",
              "           [1, 1, 1, 0, 0]]],\n",
              " \n",
              " \n",
              "         [[[1, 1, 1, 0, 0],\n",
              "           [1, 1, 1, 0, 0],\n",
              "           [1, 1, 1, 0, 0],\n",
              "           [1, 1, 1, 0, 0],\n",
              "           [0, 0, 0, 0, 0]],\n",
              " \n",
              "          [[1, 1, 1, 0, 0],\n",
              "           [1, 1, 1, 0, 0],\n",
              "           [1, 1, 1, 0, 0],\n",
              "           [1, 1, 1, 0, 0],\n",
              "           [1, 1, 1, 0, 0]]],\n",
              " \n",
              " \n",
              "         [[[1, 1, 1, 0, 0],\n",
              "           [1, 1, 1, 0, 0],\n",
              "           [1, 1, 1, 0, 0],\n",
              "           [1, 1, 1, 0, 0],\n",
              "           [0, 0, 0, 0, 0]],\n",
              " \n",
              "          [[1, 1, 1, 0, 0],\n",
              "           [1, 1, 1, 0, 0],\n",
              "           [1, 1, 1, 0, 0],\n",
              "           [1, 1, 1, 0, 0],\n",
              "           [1, 1, 1, 0, 0]]],\n",
              " \n",
              " \n",
              "         [[[1, 1, 1, 0, 0],\n",
              "           [1, 1, 1, 0, 0],\n",
              "           [1, 1, 1, 0, 0],\n",
              "           [1, 1, 1, 0, 0],\n",
              "           [0, 0, 0, 0, 0]],\n",
              " \n",
              "          [[1, 1, 1, 0, 0],\n",
              "           [1, 1, 1, 0, 0],\n",
              "           [1, 1, 1, 0, 0],\n",
              "           [1, 1, 1, 0, 0],\n",
              "           [1, 1, 1, 0, 0]]],\n",
              " \n",
              " \n",
              "         [[[1, 1, 1, 0, 0],\n",
              "           [1, 1, 1, 0, 0],\n",
              "           [1, 1, 1, 0, 0],\n",
              "           [1, 1, 1, 0, 0],\n",
              "           [0, 0, 0, 0, 0]],\n",
              " \n",
              "          [[1, 1, 1, 0, 0],\n",
              "           [1, 1, 1, 0, 0],\n",
              "           [1, 1, 1, 0, 0],\n",
              "           [1, 1, 1, 0, 0],\n",
              "           [1, 1, 1, 0, 0]]]]),\n",
              " 'token_type_ids': tensor([[0, 0, 0, 0, 0],\n",
              "         [0, 0, 0, 0, 0]]),\n",
              " 'labels': tensor([[-100, -100, -100, -100, -100],\n",
              "         [   1, -100, -100, -100, -100]])}"
            ]
          },
          "metadata": {},
          "execution_count": 19
        }
      ],
      "source": [
        "custom_collate([{\"input_ids\":[1,2,3,4], \"attention_mask\":[[1,1,1,0],[1,1,1,0],[1,1,1,0],[1,1,1,0]], \"token_type_ids\":[0,0,0,0], \"label\":1}, {\"input_ids\":[1,2,3,4,5], \"attention_mask\":[[1,1,1,0,0],[1,1,1,0,0],[1,1,1,0,0],[1,1,1,0,0],[1,1,1,0,0]], \"token_type_ids\":[0,0,0,0,0], \"label\":1}], tokenizer.pad_token_id, full_attention_layers=[2,4], is_mlm=True)"
      ]
    },
    {
      "cell_type": "code",
      "execution_count": 20,
      "metadata": {
        "colab": {
          "base_uri": "https://localhost:8080/"
        },
        "id": "e_2ZoHk5RJ9P",
        "outputId": "d2077be4-6801-4c1c-c098-150a599e2c33"
      },
      "outputs": [
        {
          "output_type": "execute_result",
          "data": {
            "text/plain": [
              "Dataset({\n",
              "    features: ['text', 'label'],\n",
              "    num_rows: 11916\n",
              "})"
            ]
          },
          "metadata": {},
          "execution_count": 20
        }
      ],
      "source": [
        "train_dataset"
      ]
    },
    {
      "cell_type": "markdown",
      "metadata": {
        "id": "MpL48wHbORXV"
      },
      "source": [
        "We need to encode the datasets for dense and sparse attention differently since we need to create custom attention masks for the latter."
      ]
    },
    {
      "cell_type": "code",
      "execution_count": 21,
      "metadata": {
        "id": "gYSzPIq4JNUW"
      },
      "outputs": [],
      "source": [
        "class CustomDataset(torch.utils.data.Dataset):\n",
        "\n",
        "    def __init__(self, dataset, tokenizer, mode=\"sparse\", is_mlm:bool = False):\n",
        "        self.dataset = dataset\n",
        "        self.tokenizer = tokenizer\n",
        "        self.mode = mode\n",
        "        self.is_mlm = is_mlm\n",
        "\n",
        "    def __len__(self):\n",
        "        return len(self.dataset)\n",
        "\n",
        "    def __getitem__(self, idx):\n",
        "      if self.mode == \"sparse\":\n",
        "        return custom_tokenize(self.tokenizer, self.dataset[idx][\"text\"])\n",
        "      else:\n",
        "        inputs = tokenizer(self.dataset[idx][\"text\"], return_tensors=\"pt\", truncation=True)\n",
        "        inputs = {k:v.squeeze(0) for k,v in inputs.items()}\n",
        "        if not self.is_mlm:\n",
        "          inputs[\"labels\"] = self.dataset[idx][\"label\"]\n",
        "        return inputs"
      ]
    },
    {
      "cell_type": "code",
      "execution_count": 22,
      "metadata": {
        "id": "u36vJQsnQyR9"
      },
      "outputs": [],
      "source": [
        "train_datasets_dense_attention, dev_datasets_dense_attention, test_datasets_dense_attention = [], [], []\n",
        "train_datasets_sparse_attention, dev_datasets_sparse_attention, test_datasets_sparse_attention = [], [], []\n",
        "for i in range(len(train_datasets)):\n",
        "    # Encode the datasets that'll leverage dense attention\n",
        "    train_datasets_dense_attention.append(CustomDataset(train_datasets[i], tokenizer, mode=\"dense\"))\n",
        "    dev_datasets_dense_attention.append(CustomDataset(dev_datasets[i], tokenizer, mode=\"dense\"))\n",
        "    test_datasets_dense_attention.append(CustomDataset(test_datasets[i], tokenizer, mode=\"dense\"))\n",
        "\n",
        "    # Encode the datasets that'll leverage sparse attention\n",
        "    train_datasets_sparse_attention.append(CustomDataset(train_datasets[i], tokenizer, mode=\"sparse\"))\n",
        "    dev_datasets_sparse_attention.append(CustomDataset(dev_datasets[i], tokenizer, mode=\"sparse\"))\n",
        "    test_datasets_sparse_attention.append(CustomDataset(test_datasets[i], tokenizer, mode=\"sparse\"))"
      ]
    },
    {
      "cell_type": "code",
      "source": [
        "train_datasets[1][0]"
      ],
      "metadata": {
        "colab": {
          "base_uri": "https://localhost:8080/"
        },
        "id": "y-g-7SVtSs7O",
        "outputId": "e238b031-92a3-4113-8e34-cc85e197f989"
      },
      "execution_count": 23,
      "outputs": [
        {
          "output_type": "execute_result",
          "data": {
            "text/plain": [
              "{'text': \"Wall St. Bears Claw Back Into the Black (Reuters) Reuters - Short-sellers, Wall Street's dwindling\\\\band of ultra-cynics, are seeing green again.\",\n",
              " 'label': 2}"
            ]
          },
          "metadata": {},
          "execution_count": 23
        }
      ]
    },
    {
      "cell_type": "code",
      "source": [
        "train_datasets_size"
      ],
      "metadata": {
        "id": "OAD5ncoLiw5q",
        "outputId": "c1daedb1-c915-4f14-ef3a-3341c7231f38",
        "colab": {
          "base_uri": "https://localhost:8080/"
        }
      },
      "execution_count": 35,
      "outputs": [
        {
          "output_type": "execute_result",
          "data": {
            "text/plain": [
              "[16000, 30000, 11916]"
            ]
          },
          "metadata": {},
          "execution_count": 35
        }
      ]
    },
    {
      "cell_type": "markdown",
      "metadata": {
        "id": "trPzkAwFORXW"
      },
      "source": [
        "## Training the model with dense attention"
      ]
    },
    {
      "cell_type": "code",
      "execution_count": 36,
      "metadata": {
        "id": "FuAngW-DJNUW"
      },
      "outputs": [],
      "source": [
        "logging.set_verbosity_warning()\n",
        "\n",
        "def train_and_evaluate(\n",
        "    train_datasets: List[Dataset],\n",
        "    dev_datasets: List[Dataset],\n",
        "    test_datasets: List[Dataset],\n",
        "    tokenizer: AutoTokenizer,\n",
        "    train_batch_size:int = 64,\n",
        "    num_epochs:int = 5\n",
        ") -> Dict[str, List[Dict]]:\n",
        "    results = defaultdict(list)\n",
        "    # Define the training arguments\n",
        "    for i in range(len(train_datasets)):\n",
        "        total_num_steps = (num_epochs * train_datasets_size[i])//train_batch_size\n",
        "        print(f\"Training on {dataset_names[i][0]}\")\n",
        "        for j in range(5):\n",
        "            print(f\"Training for the {j}th run.\")\n",
        "            model = AutoModelForSequenceClassification.from_pretrained(model_name, num_labels=num_labels[i])\n",
        "            training_args = TrainingArguments(\n",
        "                output_dir='./results',          # output directory\n",
        "                num_train_epochs=5,            # total number of training steps\n",
        "                per_device_train_batch_size=train_batch_size,  # batch size per device during training\n",
        "                per_device_eval_batch_size=128,   # batch size for evaluation\n",
        "                warmup_ratio=0.1,                # number of warmup steps for learning rate scheduler\n",
        "                weight_decay=0.01,               # strength of weight decay\n",
        "                logging_dir='./logs',            # directory for storing logs\n",
        "                fp16=True,\n",
        "                seed=j,\n",
        "                gradient_checkpointing=True,\n",
        "                evaluation_strategy=\"steps\",\n",
        "                eval_steps=total_num_steps//10,\n",
        "                load_best_model_at_end=True,\n",
        "                logging_steps=total_num_steps//10,\n",
        "                save_steps=total_num_steps//10,\n",
        "                use_cpu=False\n",
        "            )\n",
        "\n",
        "            # Initialize the trainer\n",
        "            trainer_dense_attention = Trainer(\n",
        "                model=model,\n",
        "                tokenizer=tokenizer,                 # the instantiated 🤗 Transformers model to be trained\n",
        "                args=training_args,                  # training arguments, defined above\n",
        "                train_dataset=train_datasets[i],         # training dataset\n",
        "                eval_dataset=dev_datasets[i],       # evaluation dataset\n",
        "                data_collator=DataCollatorWithPadding(tokenizer=tokenizer, padding=True),\n",
        "                compute_metrics=compute_metrics\n",
        "        )\n",
        "            trainer_dense_attention.train()\n",
        "            test_results = trainer_dense_attention.evaluate(test_datasets[i])\n",
        "            print(f\"Results on the test set are: {test_results}\")\n",
        "            results[dataset_names[i]].append(test_results)\n",
        "    return results"
      ]
    },
    {
      "cell_type": "code",
      "execution_count": null,
      "metadata": {
        "colab": {
          "base_uri": "https://localhost:8080/",
          "height": 1000
        },
        "id": "4v4QFQumB6B-",
        "outputId": "84f4971a-f98d-493b-8ba4-e735e9850f44"
      },
      "outputs": [
        {
          "output_type": "stream",
          "name": "stdout",
          "text": [
            "Training on dair-ai/emotion\n",
            "Training for the 0th run.\n"
          ]
        },
        {
          "output_type": "stream",
          "name": "stderr",
          "text": [
            "Some weights of BertForSequenceClassification were not initialized from the model checkpoint at bert-base-uncased and are newly initialized: ['classifier.weight', 'classifier.bias']\n",
            "You should probably TRAIN this model on a down-stream task to be able to use it for predictions and inference.\n"
          ]
        },
        {
          "output_type": "display_data",
          "data": {
            "text/plain": [
              "<IPython.core.display.HTML object>"
            ],
            "text/html": [
              "\n",
              "    <div>\n",
              "      \n",
              "      <progress value='1250' max='1250' style='width:300px; height:20px; vertical-align: middle;'></progress>\n",
              "      [1250/1250 03:07, Epoch 5/5]\n",
              "    </div>\n",
              "    <table border=\"1\" class=\"dataframe\">\n",
              "  <thead>\n",
              " <tr style=\"text-align: left;\">\n",
              "      <th>Step</th>\n",
              "      <th>Training Loss</th>\n",
              "      <th>Validation Loss</th>\n",
              "      <th>Accuracy</th>\n",
              "      <th>F1</th>\n",
              "      <th>Precision</th>\n",
              "      <th>Recall</th>\n",
              "    </tr>\n",
              "  </thead>\n",
              "  <tbody>\n",
              "    <tr>\n",
              "      <td>125</td>\n",
              "      <td>1.224300</td>\n",
              "      <td>0.430696</td>\n",
              "      <td>0.876000</td>\n",
              "      <td>0.836445</td>\n",
              "      <td>0.847957</td>\n",
              "      <td>0.828568</td>\n",
              "    </tr>\n",
              "    <tr>\n",
              "      <td>250</td>\n",
              "      <td>0.298800</td>\n",
              "      <td>0.196809</td>\n",
              "      <td>0.926500</td>\n",
              "      <td>0.902691</td>\n",
              "      <td>0.887671</td>\n",
              "      <td>0.921164</td>\n",
              "    </tr>\n",
              "    <tr>\n",
              "      <td>375</td>\n",
              "      <td>0.164400</td>\n",
              "      <td>0.175495</td>\n",
              "      <td>0.931500</td>\n",
              "      <td>0.909727</td>\n",
              "      <td>0.899409</td>\n",
              "      <td>0.929152</td>\n",
              "    </tr>\n",
              "    <tr>\n",
              "      <td>500</td>\n",
              "      <td>0.146900</td>\n",
              "      <td>0.138754</td>\n",
              "      <td>0.933500</td>\n",
              "      <td>0.907027</td>\n",
              "      <td>0.921483</td>\n",
              "      <td>0.898464</td>\n",
              "    </tr>\n",
              "    <tr>\n",
              "      <td>625</td>\n",
              "      <td>0.098500</td>\n",
              "      <td>0.145892</td>\n",
              "      <td>0.937500</td>\n",
              "      <td>0.911888</td>\n",
              "      <td>0.911896</td>\n",
              "      <td>0.914970</td>\n",
              "    </tr>\n",
              "    <tr>\n",
              "      <td>750</td>\n",
              "      <td>0.096000</td>\n",
              "      <td>0.148460</td>\n",
              "      <td>0.942000</td>\n",
              "      <td>0.918825</td>\n",
              "      <td>0.935196</td>\n",
              "      <td>0.908875</td>\n",
              "    </tr>\n",
              "    <tr>\n",
              "      <td>875</td>\n",
              "      <td>0.074800</td>\n",
              "      <td>0.149594</td>\n",
              "      <td>0.942500</td>\n",
              "      <td>0.920623</td>\n",
              "      <td>0.912975</td>\n",
              "      <td>0.929802</td>\n",
              "    </tr>\n",
              "    <tr>\n",
              "      <td>1000</td>\n",
              "      <td>0.072200</td>\n",
              "      <td>0.147248</td>\n",
              "      <td>0.938500</td>\n",
              "      <td>0.911015</td>\n",
              "      <td>0.921561</td>\n",
              "      <td>0.901394</td>\n",
              "    </tr>\n",
              "    <tr>\n",
              "      <td>1125</td>\n",
              "      <td>0.051300</td>\n",
              "      <td>0.160947</td>\n",
              "      <td>0.940000</td>\n",
              "      <td>0.913857</td>\n",
              "      <td>0.914683</td>\n",
              "      <td>0.914397</td>\n",
              "    </tr>\n",
              "    <tr>\n",
              "      <td>1250</td>\n",
              "      <td>0.049300</td>\n",
              "      <td>0.161354</td>\n",
              "      <td>0.937000</td>\n",
              "      <td>0.909679</td>\n",
              "      <td>0.913461</td>\n",
              "      <td>0.906075</td>\n",
              "    </tr>\n",
              "  </tbody>\n",
              "</table><p>"
            ]
          },
          "metadata": {}
        },
        {
          "output_type": "stream",
          "name": "stderr",
          "text": [
            "/usr/local/lib/python3.10/dist-packages/torch/utils/checkpoint.py:429: UserWarning: torch.utils.checkpoint: please pass in use_reentrant=True or use_reentrant=False explicitly. The default value of use_reentrant will be updated to be False in the future. To maintain current behavior, pass use_reentrant=True. It is recommended that you use use_reentrant=False. Refer to docs for more details on the differences between the two variants.\n",
            "  warnings.warn(\n",
            "/usr/local/lib/python3.10/dist-packages/torch/utils/checkpoint.py:429: UserWarning: torch.utils.checkpoint: please pass in use_reentrant=True or use_reentrant=False explicitly. The default value of use_reentrant will be updated to be False in the future. To maintain current behavior, pass use_reentrant=True. It is recommended that you use use_reentrant=False. Refer to docs for more details on the differences between the two variants.\n",
            "  warnings.warn(\n",
            "/usr/local/lib/python3.10/dist-packages/torch/utils/checkpoint.py:429: UserWarning: torch.utils.checkpoint: please pass in use_reentrant=True or use_reentrant=False explicitly. The default value of use_reentrant will be updated to be False in the future. To maintain current behavior, pass use_reentrant=True. It is recommended that you use use_reentrant=False. Refer to docs for more details on the differences between the two variants.\n",
            "  warnings.warn(\n",
            "/usr/local/lib/python3.10/dist-packages/torch/utils/checkpoint.py:429: UserWarning: torch.utils.checkpoint: please pass in use_reentrant=True or use_reentrant=False explicitly. The default value of use_reentrant will be updated to be False in the future. To maintain current behavior, pass use_reentrant=True. It is recommended that you use use_reentrant=False. Refer to docs for more details on the differences between the two variants.\n",
            "  warnings.warn(\n",
            "/usr/local/lib/python3.10/dist-packages/torch/utils/checkpoint.py:429: UserWarning: torch.utils.checkpoint: please pass in use_reentrant=True or use_reentrant=False explicitly. The default value of use_reentrant will be updated to be False in the future. To maintain current behavior, pass use_reentrant=True. It is recommended that you use use_reentrant=False. Refer to docs for more details on the differences between the two variants.\n",
            "  warnings.warn(\n",
            "/usr/local/lib/python3.10/dist-packages/torch/utils/checkpoint.py:429: UserWarning: torch.utils.checkpoint: please pass in use_reentrant=True or use_reentrant=False explicitly. The default value of use_reentrant will be updated to be False in the future. To maintain current behavior, pass use_reentrant=True. It is recommended that you use use_reentrant=False. Refer to docs for more details on the differences between the two variants.\n",
            "  warnings.warn(\n",
            "/usr/local/lib/python3.10/dist-packages/torch/utils/checkpoint.py:429: UserWarning: torch.utils.checkpoint: please pass in use_reentrant=True or use_reentrant=False explicitly. The default value of use_reentrant will be updated to be False in the future. To maintain current behavior, pass use_reentrant=True. It is recommended that you use use_reentrant=False. Refer to docs for more details on the differences between the two variants.\n",
            "  warnings.warn(\n",
            "/usr/local/lib/python3.10/dist-packages/torch/utils/checkpoint.py:429: UserWarning: torch.utils.checkpoint: please pass in use_reentrant=True or use_reentrant=False explicitly. The default value of use_reentrant will be updated to be False in the future. To maintain current behavior, pass use_reentrant=True. It is recommended that you use use_reentrant=False. Refer to docs for more details on the differences between the two variants.\n",
            "  warnings.warn(\n",
            "/usr/local/lib/python3.10/dist-packages/torch/utils/checkpoint.py:429: UserWarning: torch.utils.checkpoint: please pass in use_reentrant=True or use_reentrant=False explicitly. The default value of use_reentrant will be updated to be False in the future. To maintain current behavior, pass use_reentrant=True. It is recommended that you use use_reentrant=False. Refer to docs for more details on the differences between the two variants.\n",
            "  warnings.warn(\n"
          ]
        },
        {
          "output_type": "display_data",
          "data": {
            "text/plain": [
              "<IPython.core.display.HTML object>"
            ],
            "text/html": [
              "\n",
              "    <div>\n",
              "      \n",
              "      <progress value='16' max='16' style='width:300px; height:20px; vertical-align: middle;'></progress>\n",
              "      [16/16 00:01]\n",
              "    </div>\n",
              "    "
            ]
          },
          "metadata": {}
        },
        {
          "output_type": "stream",
          "name": "stdout",
          "text": [
            "Results on the test set are: {'eval_loss': 0.13807015120983124, 'eval_accuracy': 0.936, 'eval_f1': 0.8918817242216576, 'eval_precision': 0.916948905143263, 'eval_recall': 0.882673481802767, 'eval_runtime': 1.5035, 'eval_samples_per_second': 1330.271, 'eval_steps_per_second': 10.642, 'epoch': 5.0}\n",
            "Training for the 1th run.\n"
          ]
        },
        {
          "output_type": "stream",
          "name": "stderr",
          "text": [
            "Some weights of BertForSequenceClassification were not initialized from the model checkpoint at bert-base-uncased and are newly initialized: ['classifier.weight', 'classifier.bias']\n",
            "You should probably TRAIN this model on a down-stream task to be able to use it for predictions and inference.\n",
            "/usr/local/lib/python3.10/dist-packages/torch/utils/checkpoint.py:429: UserWarning: torch.utils.checkpoint: please pass in use_reentrant=True or use_reentrant=False explicitly. The default value of use_reentrant will be updated to be False in the future. To maintain current behavior, pass use_reentrant=True. It is recommended that you use use_reentrant=False. Refer to docs for more details on the differences between the two variants.\n",
            "  warnings.warn(\n"
          ]
        },
        {
          "output_type": "display_data",
          "data": {
            "text/plain": [
              "<IPython.core.display.HTML object>"
            ],
            "text/html": [
              "\n",
              "    <div>\n",
              "      \n",
              "      <progress value='1250' max='1250' style='width:300px; height:20px; vertical-align: middle;'></progress>\n",
              "      [1250/1250 03:15, Epoch 5/5]\n",
              "    </div>\n",
              "    <table border=\"1\" class=\"dataframe\">\n",
              "  <thead>\n",
              " <tr style=\"text-align: left;\">\n",
              "      <th>Step</th>\n",
              "      <th>Training Loss</th>\n",
              "      <th>Validation Loss</th>\n",
              "      <th>Accuracy</th>\n",
              "      <th>F1</th>\n",
              "      <th>Precision</th>\n",
              "      <th>Recall</th>\n",
              "    </tr>\n",
              "  </thead>\n",
              "  <tbody>\n",
              "    <tr>\n",
              "      <td>125</td>\n",
              "      <td>1.276100</td>\n",
              "      <td>0.535789</td>\n",
              "      <td>0.839000</td>\n",
              "      <td>0.758293</td>\n",
              "      <td>0.813194</td>\n",
              "      <td>0.744162</td>\n",
              "    </tr>\n",
              "    <tr>\n",
              "      <td>250</td>\n",
              "      <td>0.314500</td>\n",
              "      <td>0.217951</td>\n",
              "      <td>0.922000</td>\n",
              "      <td>0.894736</td>\n",
              "      <td>0.910988</td>\n",
              "      <td>0.889773</td>\n",
              "    </tr>\n",
              "    <tr>\n",
              "      <td>375</td>\n",
              "      <td>0.168200</td>\n",
              "      <td>0.165878</td>\n",
              "      <td>0.933500</td>\n",
              "      <td>0.907832</td>\n",
              "      <td>0.906618</td>\n",
              "      <td>0.913930</td>\n",
              "    </tr>\n",
              "    <tr>\n",
              "      <td>500</td>\n",
              "      <td>0.144200</td>\n",
              "      <td>0.147249</td>\n",
              "      <td>0.940000</td>\n",
              "      <td>0.909846</td>\n",
              "      <td>0.937193</td>\n",
              "      <td>0.892845</td>\n",
              "    </tr>\n",
              "    <tr>\n",
              "      <td>625</td>\n",
              "      <td>0.100800</td>\n",
              "      <td>0.141843</td>\n",
              "      <td>0.935000</td>\n",
              "      <td>0.910784</td>\n",
              "      <td>0.895754</td>\n",
              "      <td>0.931220</td>\n",
              "    </tr>\n",
              "    <tr>\n",
              "      <td>750</td>\n",
              "      <td>0.098100</td>\n",
              "      <td>0.123331</td>\n",
              "      <td>0.940500</td>\n",
              "      <td>0.914670</td>\n",
              "      <td>0.917762</td>\n",
              "      <td>0.912337</td>\n",
              "    </tr>\n",
              "    <tr>\n",
              "      <td>875</td>\n",
              "      <td>0.071100</td>\n",
              "      <td>0.146867</td>\n",
              "      <td>0.930500</td>\n",
              "      <td>0.900385</td>\n",
              "      <td>0.912310</td>\n",
              "      <td>0.893599</td>\n",
              "    </tr>\n",
              "    <tr>\n",
              "      <td>1000</td>\n",
              "      <td>0.068700</td>\n",
              "      <td>0.145530</td>\n",
              "      <td>0.937000</td>\n",
              "      <td>0.910488</td>\n",
              "      <td>0.909640</td>\n",
              "      <td>0.911647</td>\n",
              "    </tr>\n",
              "    <tr>\n",
              "      <td>1125</td>\n",
              "      <td>0.049500</td>\n",
              "      <td>0.180716</td>\n",
              "      <td>0.933000</td>\n",
              "      <td>0.904476</td>\n",
              "      <td>0.910723</td>\n",
              "      <td>0.899142</td>\n",
              "    </tr>\n",
              "    <tr>\n",
              "      <td>1250</td>\n",
              "      <td>0.045800</td>\n",
              "      <td>0.182240</td>\n",
              "      <td>0.932500</td>\n",
              "      <td>0.904921</td>\n",
              "      <td>0.909612</td>\n",
              "      <td>0.900762</td>\n",
              "    </tr>\n",
              "  </tbody>\n",
              "</table><p>"
            ]
          },
          "metadata": {}
        },
        {
          "output_type": "stream",
          "name": "stderr",
          "text": [
            "/usr/local/lib/python3.10/dist-packages/torch/utils/checkpoint.py:429: UserWarning: torch.utils.checkpoint: please pass in use_reentrant=True or use_reentrant=False explicitly. The default value of use_reentrant will be updated to be False in the future. To maintain current behavior, pass use_reentrant=True. It is recommended that you use use_reentrant=False. Refer to docs for more details on the differences between the two variants.\n",
            "  warnings.warn(\n",
            "/usr/local/lib/python3.10/dist-packages/torch/utils/checkpoint.py:429: UserWarning: torch.utils.checkpoint: please pass in use_reentrant=True or use_reentrant=False explicitly. The default value of use_reentrant will be updated to be False in the future. To maintain current behavior, pass use_reentrant=True. It is recommended that you use use_reentrant=False. Refer to docs for more details on the differences between the two variants.\n",
            "  warnings.warn(\n",
            "/usr/local/lib/python3.10/dist-packages/torch/utils/checkpoint.py:429: UserWarning: torch.utils.checkpoint: please pass in use_reentrant=True or use_reentrant=False explicitly. The default value of use_reentrant will be updated to be False in the future. To maintain current behavior, pass use_reentrant=True. It is recommended that you use use_reentrant=False. Refer to docs for more details on the differences between the two variants.\n",
            "  warnings.warn(\n",
            "/usr/local/lib/python3.10/dist-packages/torch/utils/checkpoint.py:429: UserWarning: torch.utils.checkpoint: please pass in use_reentrant=True or use_reentrant=False explicitly. The default value of use_reentrant will be updated to be False in the future. To maintain current behavior, pass use_reentrant=True. It is recommended that you use use_reentrant=False. Refer to docs for more details on the differences between the two variants.\n",
            "  warnings.warn(\n",
            "/usr/local/lib/python3.10/dist-packages/torch/utils/checkpoint.py:429: UserWarning: torch.utils.checkpoint: please pass in use_reentrant=True or use_reentrant=False explicitly. The default value of use_reentrant will be updated to be False in the future. To maintain current behavior, pass use_reentrant=True. It is recommended that you use use_reentrant=False. Refer to docs for more details on the differences between the two variants.\n",
            "  warnings.warn(\n",
            "/usr/local/lib/python3.10/dist-packages/torch/utils/checkpoint.py:429: UserWarning: torch.utils.checkpoint: please pass in use_reentrant=True or use_reentrant=False explicitly. The default value of use_reentrant will be updated to be False in the future. To maintain current behavior, pass use_reentrant=True. It is recommended that you use use_reentrant=False. Refer to docs for more details on the differences between the two variants.\n",
            "  warnings.warn(\n",
            "/usr/local/lib/python3.10/dist-packages/torch/utils/checkpoint.py:429: UserWarning: torch.utils.checkpoint: please pass in use_reentrant=True or use_reentrant=False explicitly. The default value of use_reentrant will be updated to be False in the future. To maintain current behavior, pass use_reentrant=True. It is recommended that you use use_reentrant=False. Refer to docs for more details on the differences between the two variants.\n",
            "  warnings.warn(\n",
            "/usr/local/lib/python3.10/dist-packages/torch/utils/checkpoint.py:429: UserWarning: torch.utils.checkpoint: please pass in use_reentrant=True or use_reentrant=False explicitly. The default value of use_reentrant will be updated to be False in the future. To maintain current behavior, pass use_reentrant=True. It is recommended that you use use_reentrant=False. Refer to docs for more details on the differences between the two variants.\n",
            "  warnings.warn(\n",
            "/usr/local/lib/python3.10/dist-packages/torch/utils/checkpoint.py:429: UserWarning: torch.utils.checkpoint: please pass in use_reentrant=True or use_reentrant=False explicitly. The default value of use_reentrant will be updated to be False in the future. To maintain current behavior, pass use_reentrant=True. It is recommended that you use use_reentrant=False. Refer to docs for more details on the differences between the two variants.\n",
            "  warnings.warn(\n"
          ]
        },
        {
          "output_type": "display_data",
          "data": {
            "text/plain": [
              "<IPython.core.display.HTML object>"
            ],
            "text/html": [
              "\n",
              "    <div>\n",
              "      \n",
              "      <progress value='16' max='16' style='width:300px; height:20px; vertical-align: middle;'></progress>\n",
              "      [16/16 00:01]\n",
              "    </div>\n",
              "    "
            ]
          },
          "metadata": {}
        },
        {
          "output_type": "stream",
          "name": "stdout",
          "text": [
            "Results on the test set are: {'eval_loss': 0.1356077343225479, 'eval_accuracy': 0.9335, 'eval_f1': 0.8850426414566795, 'eval_precision': 0.8872851926238968, 'eval_recall': 0.8831655366743235, 'eval_runtime': 1.584, 'eval_samples_per_second': 1262.598, 'eval_steps_per_second': 10.101, 'epoch': 5.0}\n",
            "Training for the 2th run.\n"
          ]
        },
        {
          "output_type": "stream",
          "name": "stderr",
          "text": [
            "Some weights of BertForSequenceClassification were not initialized from the model checkpoint at bert-base-uncased and are newly initialized: ['classifier.weight', 'classifier.bias']\n",
            "You should probably TRAIN this model on a down-stream task to be able to use it for predictions and inference.\n",
            "/usr/local/lib/python3.10/dist-packages/torch/utils/checkpoint.py:429: UserWarning: torch.utils.checkpoint: please pass in use_reentrant=True or use_reentrant=False explicitly. The default value of use_reentrant will be updated to be False in the future. To maintain current behavior, pass use_reentrant=True. It is recommended that you use use_reentrant=False. Refer to docs for more details on the differences between the two variants.\n",
            "  warnings.warn(\n"
          ]
        },
        {
          "output_type": "display_data",
          "data": {
            "text/plain": [
              "<IPython.core.display.HTML object>"
            ],
            "text/html": [
              "\n",
              "    <div>\n",
              "      \n",
              "      <progress value='1250' max='1250' style='width:300px; height:20px; vertical-align: middle;'></progress>\n",
              "      [1250/1250 03:16, Epoch 5/5]\n",
              "    </div>\n",
              "    <table border=\"1\" class=\"dataframe\">\n",
              "  <thead>\n",
              " <tr style=\"text-align: left;\">\n",
              "      <th>Step</th>\n",
              "      <th>Training Loss</th>\n",
              "      <th>Validation Loss</th>\n",
              "      <th>Accuracy</th>\n",
              "      <th>F1</th>\n",
              "      <th>Precision</th>\n",
              "      <th>Recall</th>\n",
              "    </tr>\n",
              "  </thead>\n",
              "  <tbody>\n",
              "    <tr>\n",
              "      <td>125</td>\n",
              "      <td>1.252100</td>\n",
              "      <td>0.475360</td>\n",
              "      <td>0.851500</td>\n",
              "      <td>0.766334</td>\n",
              "      <td>0.835422</td>\n",
              "      <td>0.753433</td>\n",
              "    </tr>\n",
              "    <tr>\n",
              "      <td>250</td>\n",
              "      <td>0.315900</td>\n",
              "      <td>0.201462</td>\n",
              "      <td>0.925000</td>\n",
              "      <td>0.899861</td>\n",
              "      <td>0.889581</td>\n",
              "      <td>0.912073</td>\n",
              "    </tr>\n",
              "    <tr>\n",
              "      <td>375</td>\n",
              "      <td>0.166500</td>\n",
              "      <td>0.176434</td>\n",
              "      <td>0.933500</td>\n",
              "      <td>0.905104</td>\n",
              "      <td>0.905798</td>\n",
              "      <td>0.908446</td>\n",
              "    </tr>\n",
              "    <tr>\n",
              "      <td>500</td>\n",
              "      <td>0.142800</td>\n",
              "      <td>0.145231</td>\n",
              "      <td>0.937000</td>\n",
              "      <td>0.912968</td>\n",
              "      <td>0.928599</td>\n",
              "      <td>0.907723</td>\n",
              "    </tr>\n",
              "    <tr>\n",
              "      <td>625</td>\n",
              "      <td>0.101800</td>\n",
              "      <td>0.145261</td>\n",
              "      <td>0.941000</td>\n",
              "      <td>0.917388</td>\n",
              "      <td>0.915613</td>\n",
              "      <td>0.921458</td>\n",
              "    </tr>\n",
              "    <tr>\n",
              "      <td>750</td>\n",
              "      <td>0.096700</td>\n",
              "      <td>0.138621</td>\n",
              "      <td>0.937000</td>\n",
              "      <td>0.908918</td>\n",
              "      <td>0.926078</td>\n",
              "      <td>0.895588</td>\n",
              "    </tr>\n",
              "    <tr>\n",
              "      <td>875</td>\n",
              "      <td>0.073500</td>\n",
              "      <td>0.135416</td>\n",
              "      <td>0.940500</td>\n",
              "      <td>0.919067</td>\n",
              "      <td>0.908087</td>\n",
              "      <td>0.931780</td>\n",
              "    </tr>\n",
              "    <tr>\n",
              "      <td>1000</td>\n",
              "      <td>0.078700</td>\n",
              "      <td>0.143361</td>\n",
              "      <td>0.939000</td>\n",
              "      <td>0.913432</td>\n",
              "      <td>0.911681</td>\n",
              "      <td>0.916184</td>\n",
              "    </tr>\n",
              "    <tr>\n",
              "      <td>1125</td>\n",
              "      <td>0.051900</td>\n",
              "      <td>0.162711</td>\n",
              "      <td>0.938000</td>\n",
              "      <td>0.912847</td>\n",
              "      <td>0.914314</td>\n",
              "      <td>0.912796</td>\n",
              "    </tr>\n",
              "    <tr>\n",
              "      <td>1250</td>\n",
              "      <td>0.051900</td>\n",
              "      <td>0.162806</td>\n",
              "      <td>0.937500</td>\n",
              "      <td>0.914431</td>\n",
              "      <td>0.911517</td>\n",
              "      <td>0.917704</td>\n",
              "    </tr>\n",
              "  </tbody>\n",
              "</table><p>"
            ]
          },
          "metadata": {}
        },
        {
          "output_type": "stream",
          "name": "stderr",
          "text": [
            "/usr/local/lib/python3.10/dist-packages/torch/utils/checkpoint.py:429: UserWarning: torch.utils.checkpoint: please pass in use_reentrant=True or use_reentrant=False explicitly. The default value of use_reentrant will be updated to be False in the future. To maintain current behavior, pass use_reentrant=True. It is recommended that you use use_reentrant=False. Refer to docs for more details on the differences between the two variants.\n",
            "  warnings.warn(\n",
            "/usr/local/lib/python3.10/dist-packages/torch/utils/checkpoint.py:429: UserWarning: torch.utils.checkpoint: please pass in use_reentrant=True or use_reentrant=False explicitly. The default value of use_reentrant will be updated to be False in the future. To maintain current behavior, pass use_reentrant=True. It is recommended that you use use_reentrant=False. Refer to docs for more details on the differences between the two variants.\n",
            "  warnings.warn(\n",
            "/usr/local/lib/python3.10/dist-packages/torch/utils/checkpoint.py:429: UserWarning: torch.utils.checkpoint: please pass in use_reentrant=True or use_reentrant=False explicitly. The default value of use_reentrant will be updated to be False in the future. To maintain current behavior, pass use_reentrant=True. It is recommended that you use use_reentrant=False. Refer to docs for more details on the differences between the two variants.\n",
            "  warnings.warn(\n",
            "/usr/local/lib/python3.10/dist-packages/torch/utils/checkpoint.py:429: UserWarning: torch.utils.checkpoint: please pass in use_reentrant=True or use_reentrant=False explicitly. The default value of use_reentrant will be updated to be False in the future. To maintain current behavior, pass use_reentrant=True. It is recommended that you use use_reentrant=False. Refer to docs for more details on the differences between the two variants.\n",
            "  warnings.warn(\n",
            "/usr/local/lib/python3.10/dist-packages/torch/utils/checkpoint.py:429: UserWarning: torch.utils.checkpoint: please pass in use_reentrant=True or use_reentrant=False explicitly. The default value of use_reentrant will be updated to be False in the future. To maintain current behavior, pass use_reentrant=True. It is recommended that you use use_reentrant=False. Refer to docs for more details on the differences between the two variants.\n",
            "  warnings.warn(\n",
            "/usr/local/lib/python3.10/dist-packages/torch/utils/checkpoint.py:429: UserWarning: torch.utils.checkpoint: please pass in use_reentrant=True or use_reentrant=False explicitly. The default value of use_reentrant will be updated to be False in the future. To maintain current behavior, pass use_reentrant=True. It is recommended that you use use_reentrant=False. Refer to docs for more details on the differences between the two variants.\n",
            "  warnings.warn(\n",
            "/usr/local/lib/python3.10/dist-packages/torch/utils/checkpoint.py:429: UserWarning: torch.utils.checkpoint: please pass in use_reentrant=True or use_reentrant=False explicitly. The default value of use_reentrant will be updated to be False in the future. To maintain current behavior, pass use_reentrant=True. It is recommended that you use use_reentrant=False. Refer to docs for more details on the differences between the two variants.\n",
            "  warnings.warn(\n",
            "/usr/local/lib/python3.10/dist-packages/torch/utils/checkpoint.py:429: UserWarning: torch.utils.checkpoint: please pass in use_reentrant=True or use_reentrant=False explicitly. The default value of use_reentrant will be updated to be False in the future. To maintain current behavior, pass use_reentrant=True. It is recommended that you use use_reentrant=False. Refer to docs for more details on the differences between the two variants.\n",
            "  warnings.warn(\n",
            "/usr/local/lib/python3.10/dist-packages/torch/utils/checkpoint.py:429: UserWarning: torch.utils.checkpoint: please pass in use_reentrant=True or use_reentrant=False explicitly. The default value of use_reentrant will be updated to be False in the future. To maintain current behavior, pass use_reentrant=True. It is recommended that you use use_reentrant=False. Refer to docs for more details on the differences between the two variants.\n",
            "  warnings.warn(\n"
          ]
        },
        {
          "output_type": "display_data",
          "data": {
            "text/plain": [
              "<IPython.core.display.HTML object>"
            ],
            "text/html": [
              "\n",
              "    <div>\n",
              "      \n",
              "      <progress value='16' max='16' style='width:300px; height:20px; vertical-align: middle;'></progress>\n",
              "      [16/16 00:01]\n",
              "    </div>\n",
              "    "
            ]
          },
          "metadata": {}
        },
        {
          "output_type": "stream",
          "name": "stdout",
          "text": [
            "Results on the test set are: {'eval_loss': 0.14952251315116882, 'eval_accuracy': 0.9305, 'eval_f1': 0.8893978747451242, 'eval_precision': 0.8754485732155328, 'eval_recall': 0.906653211100224, 'eval_runtime': 1.5185, 'eval_samples_per_second': 1317.117, 'eval_steps_per_second': 10.537, 'epoch': 5.0}\n",
            "Training for the 3th run.\n"
          ]
        },
        {
          "output_type": "stream",
          "name": "stderr",
          "text": [
            "Some weights of BertForSequenceClassification were not initialized from the model checkpoint at bert-base-uncased and are newly initialized: ['classifier.weight', 'classifier.bias']\n",
            "You should probably TRAIN this model on a down-stream task to be able to use it for predictions and inference.\n",
            "/usr/local/lib/python3.10/dist-packages/torch/utils/checkpoint.py:429: UserWarning: torch.utils.checkpoint: please pass in use_reentrant=True or use_reentrant=False explicitly. The default value of use_reentrant will be updated to be False in the future. To maintain current behavior, pass use_reentrant=True. It is recommended that you use use_reentrant=False. Refer to docs for more details on the differences between the two variants.\n",
            "  warnings.warn(\n"
          ]
        },
        {
          "output_type": "display_data",
          "data": {
            "text/plain": [
              "<IPython.core.display.HTML object>"
            ],
            "text/html": [
              "\n",
              "    <div>\n",
              "      \n",
              "      <progress value='626' max='1250' style='width:300px; height:20px; vertical-align: middle;'></progress>\n",
              "      [ 626/1250 01:32 < 01:32, 6.74 it/s, Epoch 2.50/5]\n",
              "    </div>\n",
              "    <table border=\"1\" class=\"dataframe\">\n",
              "  <thead>\n",
              " <tr style=\"text-align: left;\">\n",
              "      <th>Step</th>\n",
              "      <th>Training Loss</th>\n",
              "      <th>Validation Loss</th>\n",
              "      <th>Accuracy</th>\n",
              "      <th>F1</th>\n",
              "      <th>Precision</th>\n",
              "      <th>Recall</th>\n",
              "    </tr>\n",
              "  </thead>\n",
              "  <tbody>\n",
              "    <tr>\n",
              "      <td>125</td>\n",
              "      <td>1.278600</td>\n",
              "      <td>0.418202</td>\n",
              "      <td>0.885500</td>\n",
              "      <td>0.845803</td>\n",
              "      <td>0.862217</td>\n",
              "      <td>0.832263</td>\n",
              "    </tr>\n",
              "    <tr>\n",
              "      <td>250</td>\n",
              "      <td>0.295700</td>\n",
              "      <td>0.218858</td>\n",
              "      <td>0.925000</td>\n",
              "      <td>0.906732</td>\n",
              "      <td>0.918903</td>\n",
              "      <td>0.905279</td>\n",
              "    </tr>\n",
              "    <tr>\n",
              "      <td>375</td>\n",
              "      <td>0.170100</td>\n",
              "      <td>0.172514</td>\n",
              "      <td>0.929000</td>\n",
              "      <td>0.903991</td>\n",
              "      <td>0.896464</td>\n",
              "      <td>0.917108</td>\n",
              "    </tr>\n",
              "    <tr>\n",
              "      <td>500</td>\n",
              "      <td>0.137900</td>\n",
              "      <td>0.139188</td>\n",
              "      <td>0.936500</td>\n",
              "      <td>0.908582</td>\n",
              "      <td>0.917100</td>\n",
              "      <td>0.901720</td>\n",
              "    </tr>\n",
              "    <tr>\n",
              "      <td>625</td>\n",
              "      <td>0.099600</td>\n",
              "      <td>0.151266</td>\n",
              "      <td>0.936500</td>\n",
              "      <td>0.914540</td>\n",
              "      <td>0.901144</td>\n",
              "      <td>0.933351</td>\n",
              "    </tr>\n",
              "  </tbody>\n",
              "</table><p>"
            ]
          },
          "metadata": {}
        },
        {
          "output_type": "stream",
          "name": "stderr",
          "text": [
            "/usr/local/lib/python3.10/dist-packages/torch/utils/checkpoint.py:429: UserWarning: torch.utils.checkpoint: please pass in use_reentrant=True or use_reentrant=False explicitly. The default value of use_reentrant will be updated to be False in the future. To maintain current behavior, pass use_reentrant=True. It is recommended that you use use_reentrant=False. Refer to docs for more details on the differences between the two variants.\n",
            "  warnings.warn(\n",
            "/usr/local/lib/python3.10/dist-packages/torch/utils/checkpoint.py:429: UserWarning: torch.utils.checkpoint: please pass in use_reentrant=True or use_reentrant=False explicitly. The default value of use_reentrant will be updated to be False in the future. To maintain current behavior, pass use_reentrant=True. It is recommended that you use use_reentrant=False. Refer to docs for more details on the differences between the two variants.\n",
            "  warnings.warn(\n",
            "/usr/local/lib/python3.10/dist-packages/torch/utils/checkpoint.py:429: UserWarning: torch.utils.checkpoint: please pass in use_reentrant=True or use_reentrant=False explicitly. The default value of use_reentrant will be updated to be False in the future. To maintain current behavior, pass use_reentrant=True. It is recommended that you use use_reentrant=False. Refer to docs for more details on the differences between the two variants.\n",
            "  warnings.warn(\n",
            "/usr/local/lib/python3.10/dist-packages/torch/utils/checkpoint.py:429: UserWarning: torch.utils.checkpoint: please pass in use_reentrant=True or use_reentrant=False explicitly. The default value of use_reentrant will be updated to be False in the future. To maintain current behavior, pass use_reentrant=True. It is recommended that you use use_reentrant=False. Refer to docs for more details on the differences between the two variants.\n",
            "  warnings.warn(\n"
          ]
        }
      ],
      "source": [
        "dense_attention_results = train_and_evaluate(train_datasets_dense_attention, dev_datasets_dense_attention, test_datasets_dense_attention, tokenizer)"
      ]
    },
    {
      "cell_type": "code",
      "source": [
        "dense_attention_results"
      ],
      "metadata": {
        "colab": {
          "base_uri": "https://localhost:8080/",
          "height": 179
        },
        "id": "lx0QsLmJY6fg",
        "outputId": "dad5ae88-16c7-46ff-81a5-a3d7f65f397e"
      },
      "execution_count": 81,
      "outputs": [
        {
          "output_type": "error",
          "ename": "NameError",
          "evalue": "ignored",
          "traceback": [
            "\u001b[0;31m---------------------------------------------------------------------------\u001b[0m",
            "\u001b[0;31mNameError\u001b[0m                                 Traceback (most recent call last)",
            "\u001b[0;32m<ipython-input-81-e2853a1e5f44>\u001b[0m in \u001b[0;36m<cell line: 1>\u001b[0;34m()\u001b[0m\n\u001b[0;32m----> 1\u001b[0;31m \u001b[0mdense_attention_results\u001b[0m\u001b[0;34m\u001b[0m\u001b[0;34m\u001b[0m\u001b[0m\n\u001b[0m",
            "\u001b[0;31mNameError\u001b[0m: name 'dense_attention_results' is not defined"
          ]
        }
      ]
    },
    {
      "cell_type": "markdown",
      "metadata": {
        "id": "zykybsCQORXW"
      },
      "source": [
        "## Evaluating the trained model"
      ]
    },
    {
      "cell_type": "code",
      "execution_count": null,
      "metadata": {
        "colab": {
          "base_uri": "https://localhost:8080/",
          "height": 193
        },
        "id": "p7kiaNeRV2Ze",
        "outputId": "16ddda19-9be8-4918-b6b7-2c16ee384ce2"
      },
      "outputs": [
        {
          "data": {
            "text/html": [
              "\n",
              "    <div>\n",
              "      \n",
              "      <progress value='16' max='16' style='width:300px; height:20px; vertical-align: middle;'></progress>\n",
              "      [16/16 00:00]\n",
              "    </div>\n",
              "    "
            ],
            "text/plain": [
              "<IPython.core.display.HTML object>"
            ]
          },
          "metadata": {},
          "output_type": "display_data"
        },
        {
          "data": {
            "text/plain": [
              "{'eval_loss': 0.14260536432266235,\n",
              " 'eval_accuracy': 0.9305,\n",
              " 'eval_f1': 0.8869114759799867,\n",
              " 'eval_precision': 0.8952005188725458,\n",
              " 'eval_recall': 0.8813286392626377,\n",
              " 'eval_runtime': 0.779,\n",
              " 'eval_samples_per_second': 2567.461,\n",
              " 'eval_steps_per_second': 20.54,\n",
              " 'epoch': 5.0}"
            ]
          },
          "execution_count": 41,
          "metadata": {},
          "output_type": "execute_result"
        }
      ],
      "source": [
        "trainer_dense_attention.evaluate(test_dataset_dense_attention)"
      ]
    },
    {
      "cell_type": "code",
      "execution_count": null,
      "metadata": {
        "colab": {
          "base_uri": "https://localhost:8080/"
        },
        "id": "dFds-DiEORXW",
        "outputId": "446078ae-7f6c-444f-a4a7-b080a90a4bd2"
      },
      "outputs": [
        {
          "name": "stderr",
          "output_type": "stream",
          "text": [
            "Some weights of CustomBertForSequenceClassification were not initialized from the model checkpoint at bert-base-uncased and are newly initialized: ['classifier.weight', 'classifier.bias']\n",
            "You should probably TRAIN this model on a down-stream task to be able to use it for predictions and inference.\n"
          ]
        }
      ],
      "source": [
        "## Training the model with sparse attention\n",
        "custom_model = CustomBertForSequenceClassification.from_pretrained(model_name, num_labels=len(train_dataset.features[\"label\"].names))"
      ]
    },
    {
      "cell_type": "code",
      "execution_count": null,
      "metadata": {
        "colab": {
          "base_uri": "https://localhost:8080/",
          "height": 1000
        },
        "id": "hjzZIuMS9UNz",
        "outputId": "faaaff45-5437-4bb8-9a50-275b83ad7802"
      },
      "outputs": [
        {
          "name": "stderr",
          "output_type": "stream",
          "text": [
            "/usr/local/lib/python3.10/dist-packages/torch/utils/checkpoint.py:429: UserWarning: torch.utils.checkpoint: please pass in use_reentrant=True or use_reentrant=False explicitly. The default value of use_reentrant will be updated to be False in the future. To maintain current behavior, pass use_reentrant=True. It is recommended that you use use_reentrant=False. Refer to docs for more details on the differences between the two variants.\n",
            "  warnings.warn(\n"
          ]
        },
        {
          "data": {
            "text/html": [
              "\n",
              "    <div>\n",
              "      \n",
              "      <progress value='1250' max='1250' style='width:300px; height:20px; vertical-align: middle;'></progress>\n",
              "      [1250/1250 03:26, Epoch 5/5]\n",
              "    </div>\n",
              "    <table border=\"1\" class=\"dataframe\">\n",
              "  <thead>\n",
              " <tr style=\"text-align: left;\">\n",
              "      <th>Step</th>\n",
              "      <th>Training Loss</th>\n",
              "      <th>Validation Loss</th>\n",
              "      <th>Accuracy</th>\n",
              "      <th>F1</th>\n",
              "      <th>Precision</th>\n",
              "      <th>Recall</th>\n",
              "    </tr>\n",
              "  </thead>\n",
              "  <tbody>\n",
              "    <tr>\n",
              "      <td>100</td>\n",
              "      <td>1.453700</td>\n",
              "      <td>0.859466</td>\n",
              "      <td>0.697000</td>\n",
              "      <td>0.448461</td>\n",
              "      <td>0.653476</td>\n",
              "      <td>0.469717</td>\n",
              "    </tr>\n",
              "    <tr>\n",
              "      <td>200</td>\n",
              "      <td>0.483600</td>\n",
              "      <td>0.297570</td>\n",
              "      <td>0.909500</td>\n",
              "      <td>0.882669</td>\n",
              "      <td>0.878018</td>\n",
              "      <td>0.888713</td>\n",
              "    </tr>\n",
              "    <tr>\n",
              "      <td>300</td>\n",
              "      <td>0.248500</td>\n",
              "      <td>0.231922</td>\n",
              "      <td>0.911500</td>\n",
              "      <td>0.877822</td>\n",
              "      <td>0.887640</td>\n",
              "      <td>0.869651</td>\n",
              "    </tr>\n",
              "    <tr>\n",
              "      <td>400</td>\n",
              "      <td>0.197700</td>\n",
              "      <td>0.189323</td>\n",
              "      <td>0.928500</td>\n",
              "      <td>0.903730</td>\n",
              "      <td>0.921616</td>\n",
              "      <td>0.893146</td>\n",
              "    </tr>\n",
              "    <tr>\n",
              "      <td>500</td>\n",
              "      <td>0.174000</td>\n",
              "      <td>0.170435</td>\n",
              "      <td>0.926500</td>\n",
              "      <td>0.900691</td>\n",
              "      <td>0.911592</td>\n",
              "      <td>0.891724</td>\n",
              "    </tr>\n",
              "    <tr>\n",
              "      <td>600</td>\n",
              "      <td>0.113700</td>\n",
              "      <td>0.171035</td>\n",
              "      <td>0.925000</td>\n",
              "      <td>0.893360</td>\n",
              "      <td>0.889176</td>\n",
              "      <td>0.898020</td>\n",
              "    </tr>\n",
              "    <tr>\n",
              "      <td>700</td>\n",
              "      <td>0.120300</td>\n",
              "      <td>0.172024</td>\n",
              "      <td>0.927000</td>\n",
              "      <td>0.904048</td>\n",
              "      <td>0.890522</td>\n",
              "      <td>0.921063</td>\n",
              "    </tr>\n",
              "    <tr>\n",
              "      <td>800</td>\n",
              "      <td>0.098600</td>\n",
              "      <td>0.166487</td>\n",
              "      <td>0.932000</td>\n",
              "      <td>0.904231</td>\n",
              "      <td>0.899451</td>\n",
              "      <td>0.909561</td>\n",
              "    </tr>\n",
              "    <tr>\n",
              "      <td>900</td>\n",
              "      <td>0.081500</td>\n",
              "      <td>0.180832</td>\n",
              "      <td>0.928500</td>\n",
              "      <td>0.903243</td>\n",
              "      <td>0.901719</td>\n",
              "      <td>0.905511</td>\n",
              "    </tr>\n",
              "    <tr>\n",
              "      <td>1000</td>\n",
              "      <td>0.076800</td>\n",
              "      <td>0.188413</td>\n",
              "      <td>0.930500</td>\n",
              "      <td>0.903084</td>\n",
              "      <td>0.917928</td>\n",
              "      <td>0.890809</td>\n",
              "    </tr>\n",
              "    <tr>\n",
              "      <td>1100</td>\n",
              "      <td>0.063200</td>\n",
              "      <td>0.190553</td>\n",
              "      <td>0.930000</td>\n",
              "      <td>0.904714</td>\n",
              "      <td>0.901623</td>\n",
              "      <td>0.909829</td>\n",
              "    </tr>\n",
              "    <tr>\n",
              "      <td>1200</td>\n",
              "      <td>0.052300</td>\n",
              "      <td>0.194049</td>\n",
              "      <td>0.932500</td>\n",
              "      <td>0.905835</td>\n",
              "      <td>0.920813</td>\n",
              "      <td>0.893755</td>\n",
              "    </tr>\n",
              "  </tbody>\n",
              "</table><p>"
            ],
            "text/plain": [
              "<IPython.core.display.HTML object>"
            ]
          },
          "metadata": {},
          "output_type": "display_data"
        },
        {
          "name": "stderr",
          "output_type": "stream",
          "text": [
            "/usr/local/lib/python3.10/dist-packages/sklearn/metrics/_classification.py:1344: UndefinedMetricWarning: Precision is ill-defined and being set to 0.0 in labels with no predicted samples. Use `zero_division` parameter to control this behavior.\n",
            "  _warn_prf(average, modifier, msg_start, len(result))\n",
            "/usr/local/lib/python3.10/dist-packages/torch/utils/checkpoint.py:429: UserWarning: torch.utils.checkpoint: please pass in use_reentrant=True or use_reentrant=False explicitly. The default value of use_reentrant will be updated to be False in the future. To maintain current behavior, pass use_reentrant=True. It is recommended that you use use_reentrant=False. Refer to docs for more details on the differences between the two variants.\n",
            "  warnings.warn(\n",
            "/usr/local/lib/python3.10/dist-packages/torch/utils/checkpoint.py:429: UserWarning: torch.utils.checkpoint: please pass in use_reentrant=True or use_reentrant=False explicitly. The default value of use_reentrant will be updated to be False in the future. To maintain current behavior, pass use_reentrant=True. It is recommended that you use use_reentrant=False. Refer to docs for more details on the differences between the two variants.\n",
            "  warnings.warn(\n",
            "/usr/local/lib/python3.10/dist-packages/torch/utils/checkpoint.py:429: UserWarning: torch.utils.checkpoint: please pass in use_reentrant=True or use_reentrant=False explicitly. The default value of use_reentrant will be updated to be False in the future. To maintain current behavior, pass use_reentrant=True. It is recommended that you use use_reentrant=False. Refer to docs for more details on the differences between the two variants.\n",
            "  warnings.warn(\n",
            "/usr/local/lib/python3.10/dist-packages/torch/utils/checkpoint.py:429: UserWarning: torch.utils.checkpoint: please pass in use_reentrant=True or use_reentrant=False explicitly. The default value of use_reentrant will be updated to be False in the future. To maintain current behavior, pass use_reentrant=True. It is recommended that you use use_reentrant=False. Refer to docs for more details on the differences between the two variants.\n",
            "  warnings.warn(\n",
            "/usr/local/lib/python3.10/dist-packages/torch/utils/checkpoint.py:429: UserWarning: torch.utils.checkpoint: please pass in use_reentrant=True or use_reentrant=False explicitly. The default value of use_reentrant will be updated to be False in the future. To maintain current behavior, pass use_reentrant=True. It is recommended that you use use_reentrant=False. Refer to docs for more details on the differences between the two variants.\n",
            "  warnings.warn(\n",
            "/usr/local/lib/python3.10/dist-packages/torch/utils/checkpoint.py:429: UserWarning: torch.utils.checkpoint: please pass in use_reentrant=True or use_reentrant=False explicitly. The default value of use_reentrant will be updated to be False in the future. To maintain current behavior, pass use_reentrant=True. It is recommended that you use use_reentrant=False. Refer to docs for more details on the differences between the two variants.\n",
            "  warnings.warn(\n",
            "/usr/local/lib/python3.10/dist-packages/torch/utils/checkpoint.py:429: UserWarning: torch.utils.checkpoint: please pass in use_reentrant=True or use_reentrant=False explicitly. The default value of use_reentrant will be updated to be False in the future. To maintain current behavior, pass use_reentrant=True. It is recommended that you use use_reentrant=False. Refer to docs for more details on the differences between the two variants.\n",
            "  warnings.warn(\n",
            "/usr/local/lib/python3.10/dist-packages/torch/utils/checkpoint.py:429: UserWarning: torch.utils.checkpoint: please pass in use_reentrant=True or use_reentrant=False explicitly. The default value of use_reentrant will be updated to be False in the future. To maintain current behavior, pass use_reentrant=True. It is recommended that you use use_reentrant=False. Refer to docs for more details on the differences between the two variants.\n",
            "  warnings.warn(\n",
            "/usr/local/lib/python3.10/dist-packages/torch/utils/checkpoint.py:429: UserWarning: torch.utils.checkpoint: please pass in use_reentrant=True or use_reentrant=False explicitly. The default value of use_reentrant will be updated to be False in the future. To maintain current behavior, pass use_reentrant=True. It is recommended that you use use_reentrant=False. Refer to docs for more details on the differences between the two variants.\n",
            "  warnings.warn(\n",
            "/usr/local/lib/python3.10/dist-packages/torch/utils/checkpoint.py:429: UserWarning: torch.utils.checkpoint: please pass in use_reentrant=True or use_reentrant=False explicitly. The default value of use_reentrant will be updated to be False in the future. To maintain current behavior, pass use_reentrant=True. It is recommended that you use use_reentrant=False. Refer to docs for more details on the differences between the two variants.\n",
            "  warnings.warn(\n",
            "/usr/local/lib/python3.10/dist-packages/torch/utils/checkpoint.py:429: UserWarning: torch.utils.checkpoint: please pass in use_reentrant=True or use_reentrant=False explicitly. The default value of use_reentrant will be updated to be False in the future. To maintain current behavior, pass use_reentrant=True. It is recommended that you use use_reentrant=False. Refer to docs for more details on the differences between the two variants.\n",
            "  warnings.warn(\n",
            "/usr/local/lib/python3.10/dist-packages/torch/utils/checkpoint.py:429: UserWarning: torch.utils.checkpoint: please pass in use_reentrant=True or use_reentrant=False explicitly. The default value of use_reentrant will be updated to be False in the future. To maintain current behavior, pass use_reentrant=True. It is recommended that you use use_reentrant=False. Refer to docs for more details on the differences between the two variants.\n",
            "  warnings.warn(\n"
          ]
        },
        {
          "data": {
            "text/plain": [
              "TrainOutput(global_step=1250, training_loss=0.2550808616638184, metrics={'train_runtime': 206.7186, 'train_samples_per_second': 386.999, 'train_steps_per_second': 6.047, 'total_flos': 2323386947729664.0, 'train_loss': 0.2550808616638184, 'epoch': 5.0})"
            ]
          },
          "execution_count": 43,
          "metadata": {},
          "output_type": "execute_result"
        }
      ],
      "source": [
        "trainer_sparse_attention = Trainer(\n",
        "    model=custom_model,\n",
        "    tokenizer=tokenizer,                 # the instantiated 🤗 Transformers model to be trained\n",
        "    args=training_args,                  # training arguments, defined above\n",
        "    train_dataset=train_dataset_sparse_attention,         # training dataset\n",
        "    eval_dataset=dev_dataset_sparse_attention,           # evaluation dataset\n",
        "    data_collator=partial(custom_collate, pad_token_id=tokenizer.pad_token_id),\n",
        "    compute_metrics=compute_metrics\n",
        "  )\n",
        "\n",
        "trainer_sparse_attention.train()"
      ]
    },
    {
      "cell_type": "markdown",
      "metadata": {
        "id": "_vcH1lFkORXe"
      },
      "source": [
        "## Evaluating the model"
      ]
    },
    {
      "cell_type": "code",
      "execution_count": null,
      "metadata": {
        "colab": {
          "base_uri": "https://localhost:8080/",
          "height": 193
        },
        "id": "0Maf7a4gD_pP",
        "outputId": "c279018a-1a9e-4fa4-c86b-fba527398961"
      },
      "outputs": [
        {
          "data": {
            "text/html": [
              "\n",
              "    <div>\n",
              "      \n",
              "      <progress value='16' max='16' style='width:300px; height:20px; vertical-align: middle;'></progress>\n",
              "      [16/16 00:01]\n",
              "    </div>\n",
              "    "
            ],
            "text/plain": [
              "<IPython.core.display.HTML object>"
            ]
          },
          "metadata": {},
          "output_type": "display_data"
        },
        {
          "data": {
            "text/plain": [
              "{'eval_loss': 0.17503787577152252,\n",
              " 'eval_accuracy': 0.924,\n",
              " 'eval_f1': 0.881268107518956,\n",
              " 'eval_precision': 0.8770890771932288,\n",
              " 'eval_recall': 0.8859999660070658,\n",
              " 'eval_runtime': 1.5774,\n",
              " 'eval_samples_per_second': 1267.898,\n",
              " 'eval_steps_per_second': 10.143,\n",
              " 'epoch': 5.0}"
            ]
          },
          "execution_count": 44,
          "metadata": {},
          "output_type": "execute_result"
        }
      ],
      "source": [
        "trainer_sparse_attention.evaluate(test_dataset_sparse_attention)"
      ]
    },
    {
      "cell_type": "markdown",
      "metadata": {
        "id": "bnlAdT1RORXe"
      },
      "source": [
        "## Training a model with hybrid dense+sparse attention"
      ]
    },
    {
      "cell_type": "code",
      "execution_count": null,
      "metadata": {
        "colab": {
          "base_uri": "https://localhost:8080/",
          "height": 1000
        },
        "id": "SritogvJ1-PL",
        "outputId": "bbace690-b2ca-4bb6-fbbe-6a5b722318f4"
      },
      "outputs": [
        {
          "name": "stderr",
          "output_type": "stream",
          "text": [
            "Some weights of CustomBertForSequenceClassification were not initialized from the model checkpoint at bert-base-uncased and are newly initialized: ['classifier.weight', 'classifier.bias']\n",
            "You should probably TRAIN this model on a down-stream task to be able to use it for predictions and inference.\n",
            "/usr/local/lib/python3.10/dist-packages/torch/utils/checkpoint.py:429: UserWarning: torch.utils.checkpoint: please pass in use_reentrant=True or use_reentrant=False explicitly. The default value of use_reentrant will be updated to be False in the future. To maintain current behavior, pass use_reentrant=True. It is recommended that you use use_reentrant=False. Refer to docs for more details on the differences between the two variants.\n",
            "  warnings.warn(\n"
          ]
        },
        {
          "data": {
            "text/html": [
              "\n",
              "    <div>\n",
              "      \n",
              "      <progress value='1250' max='1250' style='width:300px; height:20px; vertical-align: middle;'></progress>\n",
              "      [1250/1250 03:47, Epoch 5/5]\n",
              "    </div>\n",
              "    <table border=\"1\" class=\"dataframe\">\n",
              "  <thead>\n",
              " <tr style=\"text-align: left;\">\n",
              "      <th>Step</th>\n",
              "      <th>Training Loss</th>\n",
              "      <th>Validation Loss</th>\n",
              "      <th>Accuracy</th>\n",
              "      <th>F1</th>\n",
              "      <th>Precision</th>\n",
              "      <th>Recall</th>\n",
              "    </tr>\n",
              "  </thead>\n",
              "  <tbody>\n",
              "    <tr>\n",
              "      <td>100</td>\n",
              "      <td>1.491700</td>\n",
              "      <td>0.867480</td>\n",
              "      <td>0.690000</td>\n",
              "      <td>0.442549</td>\n",
              "      <td>0.594815</td>\n",
              "      <td>0.461187</td>\n",
              "    </tr>\n",
              "    <tr>\n",
              "      <td>200</td>\n",
              "      <td>0.489000</td>\n",
              "      <td>0.274168</td>\n",
              "      <td>0.911500</td>\n",
              "      <td>0.882613</td>\n",
              "      <td>0.880070</td>\n",
              "      <td>0.885990</td>\n",
              "    </tr>\n",
              "    <tr>\n",
              "      <td>300</td>\n",
              "      <td>0.242000</td>\n",
              "      <td>0.221881</td>\n",
              "      <td>0.921000</td>\n",
              "      <td>0.895113</td>\n",
              "      <td>0.898978</td>\n",
              "      <td>0.895241</td>\n",
              "    </tr>\n",
              "    <tr>\n",
              "      <td>400</td>\n",
              "      <td>0.186800</td>\n",
              "      <td>0.184280</td>\n",
              "      <td>0.928500</td>\n",
              "      <td>0.903116</td>\n",
              "      <td>0.916973</td>\n",
              "      <td>0.893337</td>\n",
              "    </tr>\n",
              "    <tr>\n",
              "      <td>500</td>\n",
              "      <td>0.172200</td>\n",
              "      <td>0.146533</td>\n",
              "      <td>0.938500</td>\n",
              "      <td>0.913183</td>\n",
              "      <td>0.925667</td>\n",
              "      <td>0.903153</td>\n",
              "    </tr>\n",
              "    <tr>\n",
              "      <td>600</td>\n",
              "      <td>0.111600</td>\n",
              "      <td>0.165268</td>\n",
              "      <td>0.932500</td>\n",
              "      <td>0.904286</td>\n",
              "      <td>0.911461</td>\n",
              "      <td>0.900496</td>\n",
              "    </tr>\n",
              "    <tr>\n",
              "      <td>700</td>\n",
              "      <td>0.110700</td>\n",
              "      <td>0.147053</td>\n",
              "      <td>0.929000</td>\n",
              "      <td>0.901380</td>\n",
              "      <td>0.907041</td>\n",
              "      <td>0.896373</td>\n",
              "    </tr>\n",
              "    <tr>\n",
              "      <td>800</td>\n",
              "      <td>0.092100</td>\n",
              "      <td>0.142600</td>\n",
              "      <td>0.935500</td>\n",
              "      <td>0.910201</td>\n",
              "      <td>0.908313</td>\n",
              "      <td>0.913224</td>\n",
              "    </tr>\n",
              "    <tr>\n",
              "      <td>900</td>\n",
              "      <td>0.080300</td>\n",
              "      <td>0.148731</td>\n",
              "      <td>0.930500</td>\n",
              "      <td>0.903956</td>\n",
              "      <td>0.905733</td>\n",
              "      <td>0.903091</td>\n",
              "    </tr>\n",
              "    <tr>\n",
              "      <td>1000</td>\n",
              "      <td>0.074800</td>\n",
              "      <td>0.157338</td>\n",
              "      <td>0.934500</td>\n",
              "      <td>0.906104</td>\n",
              "      <td>0.914557</td>\n",
              "      <td>0.899937</td>\n",
              "    </tr>\n",
              "    <tr>\n",
              "      <td>1100</td>\n",
              "      <td>0.060800</td>\n",
              "      <td>0.160194</td>\n",
              "      <td>0.941500</td>\n",
              "      <td>0.918647</td>\n",
              "      <td>0.913848</td>\n",
              "      <td>0.926273</td>\n",
              "    </tr>\n",
              "    <tr>\n",
              "      <td>1200</td>\n",
              "      <td>0.058200</td>\n",
              "      <td>0.164922</td>\n",
              "      <td>0.934500</td>\n",
              "      <td>0.908300</td>\n",
              "      <td>0.919229</td>\n",
              "      <td>0.899281</td>\n",
              "    </tr>\n",
              "  </tbody>\n",
              "</table><p>"
            ],
            "text/plain": [
              "<IPython.core.display.HTML object>"
            ]
          },
          "metadata": {},
          "output_type": "display_data"
        },
        {
          "name": "stderr",
          "output_type": "stream",
          "text": [
            "/usr/local/lib/python3.10/dist-packages/sklearn/metrics/_classification.py:1344: UndefinedMetricWarning: Precision is ill-defined and being set to 0.0 in labels with no predicted samples. Use `zero_division` parameter to control this behavior.\n",
            "  _warn_prf(average, modifier, msg_start, len(result))\n",
            "/usr/local/lib/python3.10/dist-packages/torch/utils/checkpoint.py:429: UserWarning: torch.utils.checkpoint: please pass in use_reentrant=True or use_reentrant=False explicitly. The default value of use_reentrant will be updated to be False in the future. To maintain current behavior, pass use_reentrant=True. It is recommended that you use use_reentrant=False. Refer to docs for more details on the differences between the two variants.\n",
            "  warnings.warn(\n",
            "/usr/local/lib/python3.10/dist-packages/torch/utils/checkpoint.py:429: UserWarning: torch.utils.checkpoint: please pass in use_reentrant=True or use_reentrant=False explicitly. The default value of use_reentrant will be updated to be False in the future. To maintain current behavior, pass use_reentrant=True. It is recommended that you use use_reentrant=False. Refer to docs for more details on the differences between the two variants.\n",
            "  warnings.warn(\n",
            "/usr/local/lib/python3.10/dist-packages/torch/utils/checkpoint.py:429: UserWarning: torch.utils.checkpoint: please pass in use_reentrant=True or use_reentrant=False explicitly. The default value of use_reentrant will be updated to be False in the future. To maintain current behavior, pass use_reentrant=True. It is recommended that you use use_reentrant=False. Refer to docs for more details on the differences between the two variants.\n",
            "  warnings.warn(\n",
            "/usr/local/lib/python3.10/dist-packages/torch/utils/checkpoint.py:429: UserWarning: torch.utils.checkpoint: please pass in use_reentrant=True or use_reentrant=False explicitly. The default value of use_reentrant will be updated to be False in the future. To maintain current behavior, pass use_reentrant=True. It is recommended that you use use_reentrant=False. Refer to docs for more details on the differences between the two variants.\n",
            "  warnings.warn(\n",
            "/usr/local/lib/python3.10/dist-packages/torch/utils/checkpoint.py:429: UserWarning: torch.utils.checkpoint: please pass in use_reentrant=True or use_reentrant=False explicitly. The default value of use_reentrant will be updated to be False in the future. To maintain current behavior, pass use_reentrant=True. It is recommended that you use use_reentrant=False. Refer to docs for more details on the differences between the two variants.\n",
            "  warnings.warn(\n",
            "/usr/local/lib/python3.10/dist-packages/torch/utils/checkpoint.py:429: UserWarning: torch.utils.checkpoint: please pass in use_reentrant=True or use_reentrant=False explicitly. The default value of use_reentrant will be updated to be False in the future. To maintain current behavior, pass use_reentrant=True. It is recommended that you use use_reentrant=False. Refer to docs for more details on the differences between the two variants.\n",
            "  warnings.warn(\n",
            "/usr/local/lib/python3.10/dist-packages/torch/utils/checkpoint.py:429: UserWarning: torch.utils.checkpoint: please pass in use_reentrant=True or use_reentrant=False explicitly. The default value of use_reentrant will be updated to be False in the future. To maintain current behavior, pass use_reentrant=True. It is recommended that you use use_reentrant=False. Refer to docs for more details on the differences between the two variants.\n",
            "  warnings.warn(\n",
            "/usr/local/lib/python3.10/dist-packages/torch/utils/checkpoint.py:429: UserWarning: torch.utils.checkpoint: please pass in use_reentrant=True or use_reentrant=False explicitly. The default value of use_reentrant will be updated to be False in the future. To maintain current behavior, pass use_reentrant=True. It is recommended that you use use_reentrant=False. Refer to docs for more details on the differences between the two variants.\n",
            "  warnings.warn(\n",
            "/usr/local/lib/python3.10/dist-packages/torch/utils/checkpoint.py:429: UserWarning: torch.utils.checkpoint: please pass in use_reentrant=True or use_reentrant=False explicitly. The default value of use_reentrant will be updated to be False in the future. To maintain current behavior, pass use_reentrant=True. It is recommended that you use use_reentrant=False. Refer to docs for more details on the differences between the two variants.\n",
            "  warnings.warn(\n",
            "/usr/local/lib/python3.10/dist-packages/torch/utils/checkpoint.py:429: UserWarning: torch.utils.checkpoint: please pass in use_reentrant=True or use_reentrant=False explicitly. The default value of use_reentrant will be updated to be False in the future. To maintain current behavior, pass use_reentrant=True. It is recommended that you use use_reentrant=False. Refer to docs for more details on the differences between the two variants.\n",
            "  warnings.warn(\n",
            "/usr/local/lib/python3.10/dist-packages/torch/utils/checkpoint.py:429: UserWarning: torch.utils.checkpoint: please pass in use_reentrant=True or use_reentrant=False explicitly. The default value of use_reentrant will be updated to be False in the future. To maintain current behavior, pass use_reentrant=True. It is recommended that you use use_reentrant=False. Refer to docs for more details on the differences between the two variants.\n",
            "  warnings.warn(\n",
            "/usr/local/lib/python3.10/dist-packages/torch/utils/checkpoint.py:429: UserWarning: torch.utils.checkpoint: please pass in use_reentrant=True or use_reentrant=False explicitly. The default value of use_reentrant will be updated to be False in the future. To maintain current behavior, pass use_reentrant=True. It is recommended that you use use_reentrant=False. Refer to docs for more details on the differences between the two variants.\n",
            "  warnings.warn(\n"
          ]
        },
        {
          "data": {
            "text/plain": [
              "TrainOutput(global_step=1250, training_loss=0.2558851728439331, metrics={'train_runtime': 227.2943, 'train_samples_per_second': 351.967, 'train_steps_per_second': 5.499, 'total_flos': 2323386947729664.0, 'train_loss': 0.2558851728439331, 'epoch': 5.0})"
            ]
          },
          "execution_count": 45,
          "metadata": {},
          "output_type": "execute_result"
        }
      ],
      "source": [
        "custom_model = CustomBertForSequenceClassification.from_pretrained(model_name, num_labels=len(train_dataset.features[\"label\"].names))\n",
        "trainer_sparse_layerwise_attention = Trainer(\n",
        "    model=custom_model,\n",
        "    tokenizer=tokenizer,                 # the instantiated 🤗 Transformers model to be trained\n",
        "    args=training_args,                  # training arguments, defined above\n",
        "    train_dataset=train_dataset_sparse_attention,         # training dataset\n",
        "    eval_dataset=dev_dataset_sparse_attention,           # evaluation dataset\n",
        "    data_collator=partial(custom_collate, pad_token_id=tokenizer.pad_token_id, full_attention_layers=[0,1,2,3]),\n",
        "    compute_metrics=compute_metrics\n",
        "  )\n",
        "\n",
        "trainer_sparse_layerwise_attention.train()"
      ]
    },
    {
      "cell_type": "code",
      "execution_count": null,
      "metadata": {
        "colab": {
          "base_uri": "https://localhost:8080/",
          "height": 193
        },
        "id": "p7wWn6Bm5oTn",
        "outputId": "b1ff649d-e354-46a0-ec33-36bb1be047e5"
      },
      "outputs": [
        {
          "data": {
            "text/html": [
              "\n",
              "    <div>\n",
              "      \n",
              "      <progress value='16' max='16' style='width:300px; height:20px; vertical-align: middle;'></progress>\n",
              "      [16/16 00:01]\n",
              "    </div>\n",
              "    "
            ],
            "text/plain": [
              "<IPython.core.display.HTML object>"
            ]
          },
          "metadata": {},
          "output_type": "display_data"
        },
        {
          "data": {
            "text/plain": [
              "{'eval_loss': 0.14260034263134003,\n",
              " 'eval_accuracy': 0.9355,\n",
              " 'eval_f1': 0.9102013880474451,\n",
              " 'eval_precision': 0.9083133101100925,\n",
              " 'eval_recall': 0.9132236399814221,\n",
              " 'eval_runtime': 1.8579,\n",
              " 'eval_samples_per_second': 1076.493,\n",
              " 'eval_steps_per_second': 8.612,\n",
              " 'epoch': 5.0}"
            ]
          },
          "execution_count": 46,
          "metadata": {},
          "output_type": "execute_result"
        }
      ],
      "source": [
        "trainer_sparse_layerwise_attention.evaluate(test_dataset_sparse_attention)"
      ]
    },
    {
      "cell_type": "markdown",
      "metadata": {
        "id": "l_X10Kq0ddln"
      },
      "source": [
        "## BERT Pre-training with Sparse Attention\n",
        "\n",
        "Let's pre-train a Bert model with sparse attention to validate if pre-training with sparse attention gives a boost to finetuning when using the same strategy rather than solely finetuning with sparse attention.\n",
        "\n",
        "We'll use the **openwebtext** dataset for pre-training, the original model wasn't pre-trained on this dataset."
      ]
    },
    {
      "cell_type": "code",
      "execution_count": null,
      "metadata": {
        "id": "Qpk9ss5CVD-8"
      },
      "outputs": [],
      "source": [
        "def get_pretraining_dataset(dataset_name):\n",
        "    ds = load_dataset(dataset_name, split='train', streaming=True)\n",
        "    return ds.take(136000)"
      ]
    },
    {
      "cell_type": "markdown",
      "metadata": {
        "id": "bP-UME59ORXe"
      },
      "source": [
        "Since the dataset is too large to load into memory, we'll use the streaming API to load a subset of the dataset."
      ]
    },
    {
      "cell_type": "code",
      "execution_count": null,
      "metadata": {
        "id": "KIt2jspSXWIC"
      },
      "outputs": [],
      "source": [
        "from functools import partial\n",
        "from datasets import Dataset\n",
        "\n",
        "def gen_from_iterable_dataset(iterable_ds):\n",
        "    yield from iterable_ds"
      ]
    },
    {
      "cell_type": "code",
      "execution_count": null,
      "metadata": {
        "id": "MMr1yCxSVD-8"
      },
      "outputs": [],
      "source": [
        "pretraining_train_dataset = get_pretraining_dataset(\"Skylion007/openwebtext\")"
      ]
    },
    {
      "cell_type": "markdown",
      "metadata": {
        "id": "PufAnAMIORXf"
      },
      "source": [
        "Convert an `IterableDataset` to `Dataset`"
      ]
    },
    {
      "cell_type": "code",
      "execution_count": null,
      "metadata": {
        "id": "nNfz66C-Xf78"
      },
      "outputs": [],
      "source": [
        "pretraining_train_dataset = Dataset.from_generator(partial(gen_from_iterable_dataset, pretraining_train_dataset), features=pretraining_train_dataset.features)"
      ]
    },
    {
      "cell_type": "code",
      "execution_count": null,
      "metadata": {
        "id": "ikDNn8zdK4qu"
      },
      "outputs": [],
      "source": [
        "pretraining_train_dataset = pretraining_train_dataset.train_test_split(test_size=0.1)"
      ]
    },
    {
      "cell_type": "code",
      "execution_count": null,
      "metadata": {
        "id": "G3hZW_PrLNMp"
      },
      "outputs": [],
      "source": [
        "pretraining_dev_dataset = pretraining_train_dataset[\"test\"]\n",
        "pretraining_train_dataset = pretraining_train_dataset[\"train\"]"
      ]
    },
    {
      "cell_type": "markdown",
      "metadata": {
        "id": "UjJZl8j4ORXf"
      },
      "source": [
        "### Optional: Save the dataset to memory for faster loading in the future."
      ]
    },
    {
      "cell_type": "code",
      "execution_count": null,
      "metadata": {
        "colab": {
          "base_uri": "https://localhost:8080/",
          "height": 193
        },
        "id": "D_sKiTa-35r7",
        "outputId": "8d132cbb-2225-446c-aab7-f0c099d077fc"
      },
      "outputs": [
        {
          "ename": "NameError",
          "evalue": "ignored",
          "output_type": "error",
          "traceback": [
            "\u001b[0;31m---------------------------------------------------------------------------\u001b[0m",
            "\u001b[0;31mNameError\u001b[0m                                 Traceback (most recent call last)",
            "\u001b[0;32m<ipython-input-17-ca1a8b7047ee>\u001b[0m in \u001b[0;36m<cell line: 1>\u001b[0;34m()\u001b[0m\n\u001b[0;32m----> 1\u001b[0;31m \u001b[0mpretraining_train_dataset\u001b[0m\u001b[0;34m.\u001b[0m\u001b[0msave_to_disk\u001b[0m\u001b[0;34m(\u001b[0m\u001b[0;34m\"./datasets/pretraining_train\"\u001b[0m\u001b[0;34m)\u001b[0m\u001b[0;34m\u001b[0m\u001b[0;34m\u001b[0m\u001b[0m\n\u001b[0m\u001b[1;32m      2\u001b[0m \u001b[0mpretraining_dev_dataset\u001b[0m\u001b[0;34m.\u001b[0m\u001b[0msave_to_disk\u001b[0m\u001b[0;34m(\u001b[0m\u001b[0;34m\"./datasets/pretraining_dev\"\u001b[0m\u001b[0;34m)\u001b[0m\u001b[0;34m\u001b[0m\u001b[0;34m\u001b[0m\u001b[0m\n",
            "\u001b[0;31mNameError\u001b[0m: name 'pretraining_train_dataset' is not defined"
          ]
        }
      ],
      "source": [
        "pretraining_train_dataset.save_to_disk(\"./datasets/pretraining_train\")\n",
        "pretraining_dev_dataset.save_to_disk(\"./datasets/pretraining_dev\")"
      ]
    },
    {
      "cell_type": "code",
      "execution_count": null,
      "metadata": {
        "id": "wBcFcwwq35r7"
      },
      "outputs": [],
      "source": [
        "pretraining_train_dataset = load_from_disk(\"./datasets/pretraining_train\")\n",
        "pretraining_dev_dataset = load_from_disk(\"./datasets/pretraining_dev\")"
      ]
    },
    {
      "cell_type": "code",
      "execution_count": null,
      "metadata": {
        "colab": {
          "base_uri": "https://localhost:8080/"
        },
        "id": "ULTf7G4AVD-8",
        "outputId": "c64ece6e-3e40-40c5-8258-3fded0c3f1f8"
      },
      "outputs": [
        {
          "data": {
            "text/plain": [
              "Dataset({\n",
              "    features: ['text'],\n",
              "    num_rows: 122400\n",
              "})"
            ]
          },
          "execution_count": 19,
          "metadata": {},
          "output_type": "execute_result"
        }
      ],
      "source": [
        "pretraining_train_dataset"
      ]
    },
    {
      "cell_type": "code",
      "execution_count": null,
      "metadata": {
        "id": "qncBl_WqYUnJ",
        "scrolled": true
      },
      "outputs": [],
      "source": [
        "# pretraining_train_dataset = pretraining_train_dataset.map(lambda example: custom_tokenize(tokenizer, example[\"text\"]), batched=False)\n",
        "# pretraining_dev_dataset = pretraining_dev_dataset.map(lambda example: custom_tokenize(tokenizer, example[\"text\"]), batched=False)\n"
      ]
    },
    {
      "cell_type": "markdown",
      "metadata": {
        "id": "bPuq8rvNORXf"
      },
      "source": [
        "Since the dataset is large we don't want to vectorize all of it into memory as we did for our downstream tasks. We'll create a custom Pytorch Dataset that vectorizes only the required items of the batch into memory."
      ]
    },
    {
      "cell_type": "code",
      "execution_count": null,
      "metadata": {
        "id": "MYwoZ1-u35r8",
        "outputId": "a1f4b333-ada6-40e9-b91a-7143c3ca2579"
      },
      "outputs": [
        {
          "ename": "NameError",
          "evalue": "name 'pretraining_train_dataset' is not defined",
          "output_type": "error",
          "traceback": [
            "\u001b[1;31m---------------------------------------------------------------------------\u001b[0m",
            "\u001b[1;31mNameError\u001b[0m                                 Traceback (most recent call last)",
            "Cell \u001b[1;32mIn[65], line 19\u001b[0m\n\u001b[0;32m     16\u001b[0m         inputs \u001b[38;5;241m=\u001b[39m {k:v\u001b[38;5;241m.\u001b[39msqueeze(\u001b[38;5;241m0\u001b[39m) \u001b[38;5;28;01mfor\u001b[39;00m k,v \u001b[38;5;129;01min\u001b[39;00m inputs\u001b[38;5;241m.\u001b[39mitems()}\n\u001b[0;32m     17\u001b[0m         \u001b[38;5;28;01mreturn\u001b[39;00m inputs\n\u001b[1;32m---> 19\u001b[0m pretraining_train_torch_dataset \u001b[38;5;241m=\u001b[39m PretrainingDataset(\u001b[43mpretraining_train_dataset\u001b[49m, tokenizer)\n\u001b[0;32m     20\u001b[0m pretraining_dev_torch_dataset \u001b[38;5;241m=\u001b[39m PretrainingDataset(pretraining_dev_dataset, tokenizer)\n\u001b[0;32m     22\u001b[0m pretraining_train_torch_dense_dataset \u001b[38;5;241m=\u001b[39m PretrainingDataset(pretraining_train_dataset, tokenizer, mode\u001b[38;5;241m=\u001b[39m\u001b[38;5;124m\"\u001b[39m\u001b[38;5;124mdense\u001b[39m\u001b[38;5;124m\"\u001b[39m)\n",
            "\u001b[1;31mNameError\u001b[0m: name 'pretraining_train_dataset' is not defined"
          ]
        }
      ],
      "source": [
        "pretraining_train_torch_dataset = CustomDataset(pretraining_train_dataset, tokenizer)\n",
        "pretraining_dev_torch_dataset = CustomDataset(pretraining_dev_dataset, tokenizer)\n",
        "\n",
        "pretraining_train_torch_dense_dataset = CustomDataset(pretraining_train_dataset, tokenizer, mode=\"dense\")\n",
        "pretraining_dev_torch_dense_dataset = CustomDataset(pretraining_dev_dataset, tokenizer, mode=\"dense\")\n"
      ]
    },
    {
      "cell_type": "markdown",
      "metadata": {
        "id": "5kB0H56_ORXf"
      },
      "source": [
        "We'll continue pre-training the original Bert Model using a Masked Language Modeling head."
      ]
    },
    {
      "cell_type": "code",
      "execution_count": null,
      "metadata": {
        "colab": {
          "base_uri": "https://localhost:8080/"
        },
        "id": "d69Tx1ud-YN3",
        "outputId": "bd4363e8-05c0-450b-856a-df876d92cf7f"
      },
      "outputs": [
        {
          "name": "stderr",
          "output_type": "stream",
          "text": [
            "Some weights of the model checkpoint at bert-base-uncased were not used when initializing BertForMaskedLM: ['cls.seq_relationship.bias', 'bert.pooler.dense.weight', 'bert.pooler.dense.bias', 'cls.seq_relationship.weight']\n",
            "- This IS expected if you are initializing BertForMaskedLM from the checkpoint of a model trained on another task or with another architecture (e.g. initializing a BertForSequenceClassification model from a BertForPreTraining model).\n",
            "- This IS NOT expected if you are initializing BertForMaskedLM from the checkpoint of a model that you expect to be exactly identical (initializing a BertForSequenceClassification model from a BertForSequenceClassification model).\n"
          ]
        }
      ],
      "source": [
        "mlm_model = BertForMaskedLM.from_pretrained(model_name)"
      ]
    },
    {
      "cell_type": "code",
      "execution_count": null,
      "metadata": {
        "colab": {
          "base_uri": "https://localhost:8080/"
        },
        "id": "C9Fh-iENBHqu",
        "outputId": "dd3d4241-995a-48cc-cee3-10f6472aed00"
      },
      "outputs": [
        {
          "data": {
            "text/plain": [
              "[101, 7592, 102]"
            ]
          },
          "execution_count": 94,
          "metadata": {},
          "output_type": "execute_result"
        }
      ],
      "source": [
        "tokenizer.encode(\"hello\")"
      ]
    },
    {
      "cell_type": "markdown",
      "metadata": {
        "id": "y11X8-BqORXg"
      },
      "source": [
        "We'll train for 500 steps."
      ]
    },
    {
      "cell_type": "code",
      "execution_count": null,
      "metadata": {
        "id": "U27PvFr8VD-8"
      },
      "outputs": [],
      "source": [
        "pretraining_args = TrainingArguments(\n",
        "    output_dir='./bert-sparse-sliding-window-attention',          # output directory\n",
        "    max_steps=500,            # total number of training steps\n",
        "    per_device_train_batch_size=32,  # batch size per device during training\n",
        "    per_device_eval_batch_size=64,   # batch size for evaluation\n",
        "    warmup_ratio=0.1,                # number of warmup steps for learning rate scheduler\n",
        "    weight_decay=0.01,               # strength of weight decay\n",
        "    logging_dir='./logs',            # directory for storing logs\n",
        "    fp16=True,\n",
        "    #torch_compile=True, # optimizations\n",
        "    #optim=\"adamw_torch_fused\", # improved optimizer\n",
        "    gradient_checkpointing=True,\n",
        "    evaluation_strategy=\"steps\",\n",
        "    eval_steps=100,\n",
        "    save_steps=200,\n",
        "    load_best_model_at_end=True,\n",
        "    logging_steps=100,\n",
        "    eval_accumulation_steps=4,\n",
        "    gradient_accumulation_steps=4,\n",
        "    push_to_hub=True\n",
        ")\n",
        "\n",
        "pretrainer_dense_attention = Trainer(\n",
        "    model=mlm_model,\n",
        "    tokenizer=tokenizer,                 # the instantiated 🤗 Transformers model to be trained\n",
        "    args=pretraining_args,                  # training arguments, defined above\n",
        "    train_dataset=pretraining_train_torch_dense_dataset,         # training dataset\n",
        "    eval_dataset=pretraining_dev_torch_dense_dataset,           # evaluation dataset\n",
        "    data_collator=DataCollatorForLanguageModeling(tokenizer=tokenizer),\n",
        ")"
      ]
    },
    {
      "cell_type": "markdown",
      "metadata": {
        "id": "Ldss1YJAORXg"
      },
      "source": [
        "Let's examine the loss of the original Bert Model on the dev dataset. Note that this is the model that uses **dense attention**."
      ]
    },
    {
      "cell_type": "code",
      "execution_count": null,
      "metadata": {
        "colab": {
          "base_uri": "https://localhost:8080/",
          "height": 144
        },
        "id": "h6mbUl615DE1",
        "outputId": "688a1c90-1349-4c13-c627-8a5613e4d4fd"
      },
      "outputs": [
        {
          "name": "stderr",
          "output_type": "stream",
          "text": [
            "You're using a BertTokenizerFast tokenizer. Please note that with a fast tokenizer, using the `__call__` method is faster than using a method to encode the text followed by a call to the `pad` method to get a padded encoding.\n"
          ]
        },
        {
          "data": {
            "text/html": [
              "\n",
              "    <div>\n",
              "      \n",
              "      <progress value='213' max='213' style='width:300px; height:20px; vertical-align: middle;'></progress>\n",
              "      [213/213 01:46]\n",
              "    </div>\n",
              "    "
            ],
            "text/plain": [
              "<IPython.core.display.HTML object>"
            ]
          },
          "metadata": {},
          "output_type": "display_data"
        },
        {
          "data": {
            "text/plain": [
              "{'eval_loss': 2.7092370986938477,\n",
              " 'eval_runtime': 107.939,\n",
              " 'eval_samples_per_second': 125.997,\n",
              " 'eval_steps_per_second': 1.973}"
            ]
          },
          "execution_count": 24,
          "metadata": {},
          "output_type": "execute_result"
        }
      ],
      "source": [
        "pretrainer_dense_attention.evaluate(pretraining_dev_torch_dense_dataset)"
      ]
    },
    {
      "cell_type": "code",
      "execution_count": null,
      "metadata": {
        "colab": {
          "base_uri": "https://localhost:8080/"
        },
        "id": "YiIjinOgx_QA",
        "outputId": "707cae59-5a3d-4c66-e1f6-ef208a61642d"
      },
      "outputs": [
        {
          "name": "stdout",
          "output_type": "stream",
          "text": [
            "\n",
            "    _|    _|  _|    _|    _|_|_|    _|_|_|  _|_|_|  _|      _|    _|_|_|      _|_|_|_|    _|_|      _|_|_|  _|_|_|_|\n",
            "    _|    _|  _|    _|  _|        _|          _|    _|_|    _|  _|            _|        _|    _|  _|        _|\n",
            "    _|_|_|_|  _|    _|  _|  _|_|  _|  _|_|    _|    _|  _|  _|  _|  _|_|      _|_|_|    _|_|_|_|  _|        _|_|_|\n",
            "    _|    _|  _|    _|  _|    _|  _|    _|    _|    _|    _|_|  _|    _|      _|        _|    _|  _|        _|\n",
            "    _|    _|    _|_|      _|_|_|    _|_|_|  _|_|_|  _|      _|    _|_|_|      _|        _|    _|    _|_|_|  _|_|_|_|\n",
            "\n",
            "    To login, `huggingface_hub` requires a token generated from https://huggingface.co/settings/tokens .\n",
            "Token: \n",
            "Add token as git credential? (Y/n) n\n",
            "Token is valid (permission: write).\n",
            "Your token has been saved to /root/.cache/huggingface/token\n",
            "Login successful\n"
          ]
        }
      ],
      "source": [
        "!huggingface-cli login"
      ]
    },
    {
      "cell_type": "markdown",
      "metadata": {
        "id": "1mWjQvqyORXg"
      },
      "source": [
        "Let's now create a CustomBertModel that uses the CustomBertEncoder that we defined earlier."
      ]
    },
    {
      "cell_type": "code",
      "execution_count": null,
      "metadata": {
        "id": "Ht2Bp2RTWHrm"
      },
      "outputs": [],
      "source": [
        "class CustomBertForMaskedLM(BertForMaskedLM):\n",
        "  def __init__(self, config):\n",
        "    super().__init__(config)\n",
        "    self.bert = CustomBertModel(config)"
      ]
    },
    {
      "cell_type": "code",
      "execution_count": null,
      "metadata": {
        "id": "JEt-_3hGWIF8"
      },
      "outputs": [],
      "source": [
        "custom_mlm_model = CustomBertForMaskedLM.from_pretrained(model_name)"
      ]
    },
    {
      "cell_type": "code",
      "execution_count": null,
      "metadata": {
        "id": "YWPfr2FxWXcO"
      },
      "outputs": [],
      "source": [
        "pretrainer_sparse_layerwise_attention = Trainer(\n",
        "    model=custom_mlm_model,\n",
        "    tokenizer=tokenizer,                 # the instantiated 🤗 Transformers model to be trained\n",
        "    args=pretraining_args,                  # training arguments, defined above\n",
        "    train_dataset=pretraining_train_torch_dataset,         # training dataset\n",
        "    eval_dataset=pretraining_dev_torch_dataset,           # evaluation dataset\n",
        "    data_collator = partial(custom_collate, pad_token_id=tokenizer.pad_token_id, is_mlm=True),\n",
        ")"
      ]
    },
    {
      "cell_type": "code",
      "execution_count": null,
      "metadata": {
        "colab": {
          "base_uri": "https://localhost:8080/",
          "height": 74
        },
        "id": "HVv7X6fc2bFC",
        "outputId": "a0c1684f-bc3d-4931-99ad-e9ac2c11633b"
      },
      "outputs": [
        {
          "data": {
            "text/html": [
              "\n",
              "    <div>\n",
              "      \n",
              "      <progress value='213' max='213' style='width:300px; height:20px; vertical-align: middle;'></progress>\n",
              "      [213/213 01:58]\n",
              "    </div>\n",
              "    "
            ],
            "text/plain": [
              "<IPython.core.display.HTML object>"
            ]
          },
          "metadata": {},
          "output_type": "display_data"
        },
        {
          "name": "stdout",
          "output_type": "stream",
          "text": [
            "Perplexity before training : {'eval_loss': 4.9193434715271, 'eval_runtime': 119.7049, 'eval_samples_per_second': 113.613, 'eval_steps_per_second': 1.779}\n"
          ]
        }
      ],
      "source": [
        "print(f\"Loss before training : {pretrainer_sparse_layerwise_attention.evaluate(pretraining_dev_torch_dataset)}\")"
      ]
    },
    {
      "cell_type": "code",
      "execution_count": null,
      "metadata": {
        "colab": {
          "base_uri": "https://localhost:8080/",
          "height": 428
        },
        "id": "vLM-HsqzWwWb",
        "outputId": "661588cf-a583-410c-e6fa-cd4b2fed9382"
      },
      "outputs": [
        {
          "name": "stderr",
          "output_type": "stream",
          "text": [
            "/usr/local/lib/python3.10/dist-packages/torch/utils/checkpoint.py:429: UserWarning: torch.utils.checkpoint: please pass in use_reentrant=True or use_reentrant=False explicitly. The default value of use_reentrant will be updated to be False in the future. To maintain current behavior, pass use_reentrant=True. It is recommended that you use use_reentrant=False. Refer to docs for more details on the differences between the two variants.\n",
            "  warnings.warn(\n"
          ]
        },
        {
          "data": {
            "text/html": [
              "\n",
              "    <div>\n",
              "      \n",
              "      <progress value='500' max='500' style='width:300px; height:20px; vertical-align: middle;'></progress>\n",
              "      [500/500 31:48, Epoch 0/1]\n",
              "    </div>\n",
              "    <table border=\"1\" class=\"dataframe\">\n",
              "  <thead>\n",
              " <tr style=\"text-align: left;\">\n",
              "      <th>Step</th>\n",
              "      <th>Training Loss</th>\n",
              "      <th>Validation Loss</th>\n",
              "    </tr>\n",
              "  </thead>\n",
              "  <tbody>\n",
              "    <tr>\n",
              "      <td>100</td>\n",
              "      <td>3.634400</td>\n",
              "      <td>3.035876</td>\n",
              "    </tr>\n",
              "    <tr>\n",
              "      <td>200</td>\n",
              "      <td>3.104800</td>\n",
              "      <td>2.889886</td>\n",
              "    </tr>\n",
              "    <tr>\n",
              "      <td>300</td>\n",
              "      <td>3.012300</td>\n",
              "      <td>2.828573</td>\n",
              "    </tr>\n",
              "    <tr>\n",
              "      <td>400</td>\n",
              "      <td>2.961000</td>\n",
              "      <td>2.797679</td>\n",
              "    </tr>\n",
              "    <tr>\n",
              "      <td>500</td>\n",
              "      <td>2.939900</td>\n",
              "      <td>2.782165</td>\n",
              "    </tr>\n",
              "  </tbody>\n",
              "</table><p>"
            ],
            "text/plain": [
              "<IPython.core.display.HTML object>"
            ]
          },
          "metadata": {},
          "output_type": "display_data"
        },
        {
          "data": {
            "text/html": [
              "\n",
              "    <div>\n",
              "      \n",
              "      <progress value='426' max='213' style='width:300px; height:20px; vertical-align: middle;'></progress>\n",
              "      [213/213 08:21]\n",
              "    </div>\n",
              "    "
            ],
            "text/plain": [
              "<IPython.core.display.HTML object>"
            ]
          },
          "metadata": {},
          "output_type": "display_data"
        },
        {
          "name": "stderr",
          "output_type": "stream",
          "text": [
            "/usr/local/lib/python3.10/dist-packages/torch/utils/checkpoint.py:429: UserWarning: torch.utils.checkpoint: please pass in use_reentrant=True or use_reentrant=False explicitly. The default value of use_reentrant will be updated to be False in the future. To maintain current behavior, pass use_reentrant=True. It is recommended that you use use_reentrant=False. Refer to docs for more details on the differences between the two variants.\n",
            "  warnings.warn(\n",
            "/usr/local/lib/python3.10/dist-packages/torch/utils/checkpoint.py:429: UserWarning: torch.utils.checkpoint: please pass in use_reentrant=True or use_reentrant=False explicitly. The default value of use_reentrant will be updated to be False in the future. To maintain current behavior, pass use_reentrant=True. It is recommended that you use use_reentrant=False. Refer to docs for more details on the differences between the two variants.\n",
            "  warnings.warn(\n",
            "There were missing keys in the checkpoint model loaded: ['cls.predictions.decoder.weight', 'cls.predictions.decoder.bias'].\n"
          ]
        },
        {
          "data": {
            "text/plain": [
              "TrainOutput(global_step=500, training_loss=3.130488464355469, metrics={'train_runtime': 1911.784, 'train_samples_per_second': 33.477, 'train_steps_per_second': 0.262, 'total_flos': 1.6961223131136e+16, 'train_loss': 3.130488464355469, 'epoch': 0.52})"
            ]
          },
          "execution_count": 29,
          "metadata": {},
          "output_type": "execute_result"
        }
      ],
      "source": [
        "pretrainer_sparse_layerwise_attention.train()"
      ]
    },
    {
      "cell_type": "code",
      "execution_count": null,
      "metadata": {
        "colab": {
          "base_uri": "https://localhost:8080/",
          "height": 74
        },
        "id": "YTBwgQu2ElPH",
        "outputId": "140f7305-be70-4251-80d9-93836a87d2ab"
      },
      "outputs": [
        {
          "data": {
            "text/html": [
              "\n",
              "    <div>\n",
              "      \n",
              "      <progress value='213' max='213' style='width:300px; height:20px; vertical-align: middle;'></progress>\n",
              "      [213/213 01:59]\n",
              "    </div>\n",
              "    "
            ],
            "text/plain": [
              "<IPython.core.display.HTML object>"
            ]
          },
          "metadata": {},
          "output_type": "display_data"
        },
        {
          "name": "stdout",
          "output_type": "stream",
          "text": [
            "Perplexity after training : {'eval_loss': 2.8012802600860596, 'eval_runtime': 119.7757, 'eval_samples_per_second': 113.546, 'eval_steps_per_second': 1.778, 'epoch': 0.52}\n"
          ]
        }
      ],
      "source": [
        "print(f\"Perplexity after training : {pretrainer_sparse_layerwise_attention.evaluate(pretraining_dev_torch_dataset)}\")"
      ]
    },
    {
      "cell_type": "code",
      "execution_count": null,
      "metadata": {
        "id": "BRmhjfwJYL9q"
      },
      "outputs": [],
      "source": [
        "!nvidia-smi"
      ]
    },
    {
      "cell_type": "code",
      "execution_count": null,
      "metadata": {
        "id": "yLVA67z9Z8UL"
      },
      "outputs": [],
      "source": []
    }
  ],
  "metadata": {
    "accelerator": "GPU",
    "colab": {
      "gpuType": "V100",
      "machine_shape": "hm",
      "provenance": [],
      "include_colab_link": true
    },
    "kernelspec": {
      "display_name": "Python 3 (ipykernel)",
      "language": "python",
      "name": "python3"
    },
    "language_info": {
      "codemirror_mode": {
        "name": "ipython",
        "version": 3
      },
      "file_extension": ".py",
      "mimetype": "text/x-python",
      "name": "python",
      "nbconvert_exporter": "python",
      "pygments_lexer": "ipython3",
      "version": "3.10.9"
    }
  },
  "nbformat": 4,
  "nbformat_minor": 0
}