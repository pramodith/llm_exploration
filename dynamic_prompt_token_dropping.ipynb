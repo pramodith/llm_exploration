{
 "cells": [
  {
   "cell_type": "code",
   "execution_count": 3,
   "metadata": {},
   "outputs": [],
   "source": [
    "from transformers import AutoModelForCausalLM, AutoTokenizer\n",
    "from typing import List\n",
    "import torch"
   ]
  },
  {
   "cell_type": "code",
   "execution_count": 42,
   "metadata": {},
   "outputs": [
    {
     "data": {
      "text/plain": [
       "OPTForCausalLM(\n",
       "  (model): OPTModel(\n",
       "    (decoder): OPTDecoder(\n",
       "      (embed_tokens): Embedding(50272, 768, padding_idx=1)\n",
       "      (embed_positions): OPTLearnedPositionalEmbedding(2050, 768)\n",
       "      (final_layer_norm): LayerNorm((768,), eps=1e-05, elementwise_affine=True)\n",
       "      (layers): ModuleList(\n",
       "        (0-11): 12 x OPTDecoderLayer(\n",
       "          (self_attn): OPTAttention(\n",
       "            (k_proj): Linear(in_features=768, out_features=768, bias=True)\n",
       "            (v_proj): Linear(in_features=768, out_features=768, bias=True)\n",
       "            (q_proj): Linear(in_features=768, out_features=768, bias=True)\n",
       "            (out_proj): Linear(in_features=768, out_features=768, bias=True)\n",
       "          )\n",
       "          (activation_fn): ReLU()\n",
       "          (self_attn_layer_norm): LayerNorm((768,), eps=1e-05, elementwise_affine=True)\n",
       "          (fc1): Linear(in_features=768, out_features=3072, bias=True)\n",
       "          (fc2): Linear(in_features=3072, out_features=768, bias=True)\n",
       "          (final_layer_norm): LayerNorm((768,), eps=1e-05, elementwise_affine=True)\n",
       "        )\n",
       "      )\n",
       "    )\n",
       "  )\n",
       "  (lm_head): Linear(in_features=768, out_features=50272, bias=False)\n",
       ")"
      ]
     },
     "execution_count": 42,
     "metadata": {},
     "output_type": "execute_result"
    }
   ],
   "source": [
    "model_name = \"facebook/opt-125m\"\n",
    "tokenizer = AutoTokenizer.from_pretrained(model_name)\n",
    "model = AutoModelForCausalLM.from_pretrained(model_name)\n",
    "model.eval()"
   ]
  },
  {
   "cell_type": "code",
   "execution_count": 48,
   "metadata": {},
   "outputs": [],
   "source": [
    "def get_token_probs(prompt: List[str], tokenizer: AutoTokenizer, model: AutoModelForCausalLM) -> torch.Tensor:\n",
    "    \"\"\"\n",
    "    This function returns the probability of each token in the prompt being the next token in the sequence.\n",
    "    Args:\n",
    "        prompt (List[str]): The prompt to be evaluated\n",
    "        tokenizer (AutoTokenizer): The tokenizer used to tokenize the prompt\n",
    "        model (AutoModelForCausalLM): The model used to evaluate the prompt\n",
    "\n",
    "    Returns:\n",
    "        _type_: _description_\n",
    "    \"\"\"\n",
    "    with torch.no_grad():\n",
    "        inputs = tokenizer(prompt, return_tensors=\"pt\")\n",
    "        # Get the tokens corresponding to the input_ids\n",
    "        tokens = [tokenizer.convert_ids_to_tokens(input_id) for input_id in inputs[\"input_ids\"]]\n",
    "        print(tokens)\n",
    "        outputs = model(inputs.input_ids, labels=inputs.input_ids)\n",
    "        # Get the logit scores for all the tokens\n",
    "        log_probs = outputs.logits\n",
    "        # Convert the logits to probabilities\n",
    "        probs = torch.softmax(log_probs, dim=-1)\n",
    "        print(probs.sum(dim=-1))\n",
    "        # Obtain the probability of the token in the prompt\n",
    "        token_probs = []\n",
    "        for batch_id in range(len(inputs[\"input_ids\"])):\n",
    "            batch_probs = []\n",
    "            for token_id in range(len(inputs[\"input_ids\"][batch_id])):\n",
    "                if inputs[\"input_ids\"][batch_id][token_id] != tokenizer.pad_token_id:\n",
    "                    batch_probs.append(probs[batch_id, token_id, inputs[\"input_ids\"][batch_id][token_id]])\n",
    "            token_probs.append(batch_probs)\n",
    "        return tokens, token_probs"
   ]
  },
  {
   "cell_type": "code",
   "execution_count": 49,
   "metadata": {},
   "outputs": [
    {
     "name": "stdout",
     "output_type": "stream",
     "text": [
      "[['</s>', 'The', 'Ġcapital', 'Ġof', 'ĠFrance', 'Ġis', 'ĠParis', '.']]\n",
      "tensor([[1.0000, 1.0000, 1.0000, 1.0000, 1.0000, 1.0000, 1.0000, 1.0000]])\n"
     ]
    }
   ],
   "source": [
    "sample_prompt = \"The capital of France is Paris.\"\n",
    "token_probs = get_token_probs([sample_prompt], tokenizer, model)\n"
   ]
  },
  {
   "cell_type": "code",
   "execution_count": 47,
   "metadata": {},
   "outputs": [
    {
     "data": {
      "text/plain": [
       "([['</s>', 'The', 'Ġcapital', 'Ġof', 'ĠFrance', 'Ġis', 'ĠParis', '.']],\n",
       " [[tensor(0.0370),\n",
       "   tensor(2.9119e-06),\n",
       "   tensor(0.0003),\n",
       "   tensor(0.0001),\n",
       "   tensor(0.0002),\n",
       "   tensor(0.0005),\n",
       "   tensor(0.0003),\n",
       "   tensor(3.1099e-05)]])"
      ]
     },
     "execution_count": 47,
     "metadata": {},
     "output_type": "execute_result"
    }
   ],
   "source": [
    "token_probs"
   ]
  }
 ],
 "metadata": {
  "kernelspec": {
   "display_name": "PromptRiddler",
   "language": "python",
   "name": "python3"
  },
  "language_info": {
   "codemirror_mode": {
    "name": "ipython",
    "version": 3
   },
   "file_extension": ".py",
   "mimetype": "text/x-python",
   "name": "python",
   "nbconvert_exporter": "python",
   "pygments_lexer": "ipython3",
   "version": "3.10.9"
  }
 },
 "nbformat": 4,
 "nbformat_minor": 2
}
